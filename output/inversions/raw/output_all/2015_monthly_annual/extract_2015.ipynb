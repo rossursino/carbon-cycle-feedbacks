{
 "cells": [
  {
   "cell_type": "code",
   "execution_count": 6,
   "metadata": {},
   "outputs": [],
   "source": [
    "import pandas as pd\n",
    "import pickle\n",
    "import xarray as xr"
   ]
  },
  {
   "cell_type": "code",
   "execution_count": 7,
   "metadata": {},
   "outputs": [],
   "source": [
    "df = pickle.load(open(\"./CAMS_all/spatial.pik\", \"rb\"))"
   ]
  },
  {
   "cell_type": "code",
   "execution_count": 38,
   "metadata": {},
   "outputs": [],
   "source": [
    "land = df.sel(time=\"2015\").Earth_Land"
   ]
  },
  {
   "cell_type": "code",
   "execution_count": 39,
   "metadata": {},
   "outputs": [
    {
     "data": {
      "text/plain": [
       "array([ 0.06394992,  0.14533243,  0.34006223,  0.1308286 , -0.86682724,\n",
       "       -2.19143169, -2.8850053 , -1.32070562,  0.47596018,  1.63803778,\n",
       "        1.64435987,  0.90932163])"
      ]
     },
     "execution_count": 39,
     "metadata": {},
     "output_type": "execute_result"
    }
   ],
   "source": [
    "land.values"
   ]
  },
  {
   "cell_type": "code",
   "execution_count": 40,
   "metadata": {},
   "outputs": [
    {
     "data": {
      "text/plain": [
       "array([cftime.Datetime360Day(2015, 1, 16, 0, 0, 0, 0, 5, 16),\n",
       "       cftime.Datetime360Day(2015, 2, 16, 0, 0, 0, 0, 0, 46),\n",
       "       cftime.Datetime360Day(2015, 3, 16, 0, 0, 0, 0, 2, 76),\n",
       "       cftime.Datetime360Day(2015, 4, 16, 0, 0, 0, 0, 4, 106),\n",
       "       cftime.Datetime360Day(2015, 5, 16, 0, 0, 0, 0, 6, 136),\n",
       "       cftime.Datetime360Day(2015, 6, 16, 0, 0, 0, 0, 1, 166),\n",
       "       cftime.Datetime360Day(2015, 7, 16, 0, 0, 0, 0, 3, 196),\n",
       "       cftime.Datetime360Day(2015, 8, 16, 0, 0, 0, 0, 5, 226),\n",
       "       cftime.Datetime360Day(2015, 9, 16, 0, 0, 0, 0, 0, 256),\n",
       "       cftime.Datetime360Day(2015, 10, 16, 0, 0, 0, 0, 2, 286),\n",
       "       cftime.Datetime360Day(2015, 11, 16, 0, 0, 0, 0, 4, 316),\n",
       "       cftime.Datetime360Day(2015, 12, 16, 0, 0, 0, 0, 6, 346)],\n",
       "      dtype=object)"
      ]
     },
     "execution_count": 40,
     "metadata": {},
     "output_type": "execute_result"
    }
   ],
   "source": [
    "land.time.values"
   ]
  },
  {
   "cell_type": "code",
   "execution_count": 34,
   "metadata": {},
   "outputs": [
    {
     "data": {
      "text/html": [
       "<div>\n",
       "<style scoped>\n",
       "    .dataframe tbody tr th:only-of-type {\n",
       "        vertical-align: middle;\n",
       "    }\n",
       "\n",
       "    .dataframe tbody tr th {\n",
       "        vertical-align: top;\n",
       "    }\n",
       "\n",
       "    .dataframe thead th {\n",
       "        text-align: right;\n",
       "    }\n",
       "</style>\n",
       "<table border=\"1\" class=\"dataframe\">\n",
       "  <thead>\n",
       "    <tr style=\"text-align: right;\">\n",
       "      <th></th>\n",
       "      <th>CAMS Land</th>\n",
       "    </tr>\n",
       "  </thead>\n",
       "  <tbody>\n",
       "    <tr>\n",
       "      <th>2015-01-16 00:00:00</th>\n",
       "      <td>0.063950</td>\n",
       "    </tr>\n",
       "    <tr>\n",
       "      <th>2015-02-16 00:00:00</th>\n",
       "      <td>0.145332</td>\n",
       "    </tr>\n",
       "    <tr>\n",
       "      <th>2015-03-16 00:00:00</th>\n",
       "      <td>0.340062</td>\n",
       "    </tr>\n",
       "    <tr>\n",
       "      <th>2015-04-16 00:00:00</th>\n",
       "      <td>0.130829</td>\n",
       "    </tr>\n",
       "    <tr>\n",
       "      <th>2015-05-16 00:00:00</th>\n",
       "      <td>-0.866827</td>\n",
       "    </tr>\n",
       "    <tr>\n",
       "      <th>2015-06-16 00:00:00</th>\n",
       "      <td>-2.191432</td>\n",
       "    </tr>\n",
       "    <tr>\n",
       "      <th>2015-07-16 00:00:00</th>\n",
       "      <td>-2.885005</td>\n",
       "    </tr>\n",
       "    <tr>\n",
       "      <th>2015-08-16 00:00:00</th>\n",
       "      <td>-1.320706</td>\n",
       "    </tr>\n",
       "    <tr>\n",
       "      <th>2015-09-16 00:00:00</th>\n",
       "      <td>0.475960</td>\n",
       "    </tr>\n",
       "    <tr>\n",
       "      <th>2015-10-16 00:00:00</th>\n",
       "      <td>1.638038</td>\n",
       "    </tr>\n",
       "    <tr>\n",
       "      <th>2015-11-16 00:00:00</th>\n",
       "      <td>1.644360</td>\n",
       "    </tr>\n",
       "    <tr>\n",
       "      <th>2015-12-16 00:00:00</th>\n",
       "      <td>0.909322</td>\n",
       "    </tr>\n",
       "  </tbody>\n",
       "</table>\n",
       "</div>"
      ],
      "text/plain": [
       "                     CAMS Land\n",
       "2015-01-16 00:00:00   0.063950\n",
       "2015-02-16 00:00:00   0.145332\n",
       "2015-03-16 00:00:00   0.340062\n",
       "2015-04-16 00:00:00   0.130829\n",
       "2015-05-16 00:00:00  -0.866827\n",
       "2015-06-16 00:00:00  -2.191432\n",
       "2015-07-16 00:00:00  -2.885005\n",
       "2015-08-16 00:00:00  -1.320706\n",
       "2015-09-16 00:00:00   0.475960\n",
       "2015-10-16 00:00:00   1.638038\n",
       "2015-11-16 00:00:00   1.644360\n",
       "2015-12-16 00:00:00   0.909322"
      ]
     },
     "execution_count": 34,
     "metadata": {},
     "output_type": "execute_result"
    }
   ],
   "source": [
    "pd.DataFrame({\"CAMS Land\": land.values}, index=land.time.values)"
   ]
  },
  {
   "cell_type": "code",
   "execution_count": 92,
   "metadata": {},
   "outputs": [],
   "source": [
    "def extract_data(model):\n",
    "    df = pickle.load(open(f\"./{model}_all/spatial.pik\", \"rb\")).sel(time=\"2015\")\n",
    "    \n",
    "    land =  pd.DataFrame({f\"{model} Land\": df.Earth_Land.values}, index=df.Earth_Land.time.values)\n",
    "    ocean =  pd.DataFrame({f\"{model} Ocean\": df.Earth_Ocean.values}, index=df.Earth_Ocean.time.values)\n",
    "    \n",
    "    land.to_csv(f\"{model}_Land_2015.csv\")\n",
    "    ocean.to_csv(f\"{model}_Ocean_2015.csv\")\n",
    "    \n",
    "    return f\"{model} Land and Ocean 2015 saved.\""
   ]
  },
  {
   "cell_type": "code",
   "execution_count": 93,
   "metadata": {},
   "outputs": [
    {
     "data": {
      "text/plain": [
       "'CAMSLand and Ocean 2015 saved.'"
      ]
     },
     "execution_count": 93,
     "metadata": {},
     "output_type": "execute_result"
    }
   ],
   "source": [
    "extract_data(\"JAMSTEC\")\n",
    "extract_data(\"JENA_s76\")\n",
    "extract_data(\"JENA_s85\")\n",
    "extract_data(\"CTRACKER\")\n",
    "extract_data(\"CAMS\")"
   ]
  },
  {
   "cell_type": "code",
   "execution_count": 76,
   "metadata": {},
   "outputs": [
    {
     "data": {
      "text/plain": [
       "-1.9161172001506397"
      ]
     },
     "execution_count": 76,
     "metadata": {},
     "output_type": "execute_result"
    }
   ],
   "source": [
    "pickle.load(open(f\"./CAMS_all/year.pik\", \"rb\")).Earth_Land.values[-3]"
   ]
  },
  {
   "cell_type": "code",
   "execution_count": 77,
   "metadata": {},
   "outputs": [
    {
     "data": {
      "text/plain": [
       "-1.9333898412771284"
      ]
     },
     "execution_count": 77,
     "metadata": {},
     "output_type": "execute_result"
    }
   ],
   "source": [
    "pickle.load(open(f\"./CAMS_all/year.pik\", \"rb\")).Earth_Ocean.values[-3]"
   ]
  },
  {
   "cell_type": "code",
   "execution_count": 78,
   "metadata": {},
   "outputs": [
    {
     "data": {
      "text/plain": [
       "-1.7816354278207325"
      ]
     },
     "execution_count": 78,
     "metadata": {},
     "output_type": "execute_result"
    }
   ],
   "source": [
    "pickle.load(open(f\"./CTRACKER_all/year.pik\", \"rb\")).Earth_Land.values[-3]"
   ]
  },
  {
   "cell_type": "code",
   "execution_count": 79,
   "metadata": {},
   "outputs": [
    {
     "data": {
      "text/plain": [
       "-2.2484419807798504"
      ]
     },
     "execution_count": 79,
     "metadata": {},
     "output_type": "execute_result"
    }
   ],
   "source": [
    "pickle.load(open(f\"./CTRACKER_all/year.pik\", \"rb\")).Earth_Ocean.values[-3]"
   ]
  },
  {
   "cell_type": "code",
   "execution_count": 80,
   "metadata": {
    "scrolled": true
   },
   "outputs": [
    {
     "data": {
      "text/plain": [
       "-1.5830870961559065"
      ]
     },
     "execution_count": 80,
     "metadata": {},
     "output_type": "execute_result"
    }
   ],
   "source": [
    "pickle.load(open(f\"./JENA_s76_all/year.pik\", \"rb\")).Earth_Land.values[-3]"
   ]
  },
  {
   "cell_type": "code",
   "execution_count": 81,
   "metadata": {},
   "outputs": [
    {
     "data": {
      "text/plain": [
       "-2.0544652349838533"
      ]
     },
     "execution_count": 81,
     "metadata": {},
     "output_type": "execute_result"
    }
   ],
   "source": [
    "pickle.load(open(f\"./JENA_s76_all/year.pik\", \"rb\")).Earth_Ocean.values[-3]"
   ]
  },
  {
   "cell_type": "code",
   "execution_count": 82,
   "metadata": {},
   "outputs": [
    {
     "data": {
      "text/plain": [
       "-1.6173573418212424"
      ]
     },
     "execution_count": 82,
     "metadata": {},
     "output_type": "execute_result"
    }
   ],
   "source": [
    "pickle.load(open(f\"./JENA_s85_all/year.pik\", \"rb\")).Earth_Land.values[-3]"
   ]
  },
  {
   "cell_type": "code",
   "execution_count": 83,
   "metadata": {},
   "outputs": [
    {
     "data": {
      "text/plain": [
       "-1.998928654460085"
      ]
     },
     "execution_count": 83,
     "metadata": {},
     "output_type": "execute_result"
    }
   ],
   "source": [
    "pickle.load(open(f\"./JENA_s85_all/year.pik\", \"rb\")).Earth_Ocean.values[-3]"
   ]
  },
  {
   "cell_type": "code",
   "execution_count": 84,
   "metadata": {
    "scrolled": true
   },
   "outputs": [
    {
     "data": {
      "text/plain": [
       "-1.929153148816223"
      ]
     },
     "execution_count": 84,
     "metadata": {},
     "output_type": "execute_result"
    }
   ],
   "source": [
    "pickle.load(open(f\"./JAMSTEC_all/year.pik\", \"rb\")).Earth_Land.values[-3]"
   ]
  },
  {
   "cell_type": "code",
   "execution_count": 85,
   "metadata": {},
   "outputs": [
    {
     "data": {
      "text/plain": [
       "-1.854046148523337"
      ]
     },
     "execution_count": 85,
     "metadata": {},
     "output_type": "execute_result"
    }
   ],
   "source": [
    "pickle.load(open(f\"./JAMSTEC_all/year.pik\", \"rb\")).Earth_Ocean.values[-3]"
   ]
  },
  {
   "cell_type": "code",
   "execution_count": 87,
   "metadata": {},
   "outputs": [],
   "source": [
    "annual = pd.DataFrame({\"Land\": [-1.929153148816223, -1.5830870961559065, -1.6173573418212424, -1.7816354278207325,\n",
    "                       -1.9161172001506397],\n",
    "              \"Ocean\": [-1.854046148523337, -2.0544652349838533, -1.998928654460085, -2.2484419807798504,\n",
    "                        -1.9333898412771284]\n",
    "             },\n",
    "             index=[\"JAMSTEC\", \"JENA_s76\", \"JENA_s85\", \"CTRACKER\", \"CAMS\"])"
   ]
  },
  {
   "cell_type": "code",
   "execution_count": 88,
   "metadata": {},
   "outputs": [
    {
     "data": {
      "text/html": [
       "<div>\n",
       "<style scoped>\n",
       "    .dataframe tbody tr th:only-of-type {\n",
       "        vertical-align: middle;\n",
       "    }\n",
       "\n",
       "    .dataframe tbody tr th {\n",
       "        vertical-align: top;\n",
       "    }\n",
       "\n",
       "    .dataframe thead th {\n",
       "        text-align: right;\n",
       "    }\n",
       "</style>\n",
       "<table border=\"1\" class=\"dataframe\">\n",
       "  <thead>\n",
       "    <tr style=\"text-align: right;\">\n",
       "      <th></th>\n",
       "      <th>Land</th>\n",
       "      <th>Ocean</th>\n",
       "    </tr>\n",
       "  </thead>\n",
       "  <tbody>\n",
       "    <tr>\n",
       "      <th>JAMSTEC</th>\n",
       "      <td>-1.929153</td>\n",
       "      <td>-1.854046</td>\n",
       "    </tr>\n",
       "    <tr>\n",
       "      <th>JENA_s76</th>\n",
       "      <td>-1.583087</td>\n",
       "      <td>-2.054465</td>\n",
       "    </tr>\n",
       "    <tr>\n",
       "      <th>JENA_s85</th>\n",
       "      <td>-1.617357</td>\n",
       "      <td>-1.998929</td>\n",
       "    </tr>\n",
       "    <tr>\n",
       "      <th>CTRACKER</th>\n",
       "      <td>-1.781635</td>\n",
       "      <td>-2.248442</td>\n",
       "    </tr>\n",
       "    <tr>\n",
       "      <th>CAMS</th>\n",
       "      <td>-1.916117</td>\n",
       "      <td>-1.933390</td>\n",
       "    </tr>\n",
       "  </tbody>\n",
       "</table>\n",
       "</div>"
      ],
      "text/plain": [
       "              Land     Ocean\n",
       "JAMSTEC  -1.929153 -1.854046\n",
       "JENA_s76 -1.583087 -2.054465\n",
       "JENA_s85 -1.617357 -1.998929\n",
       "CTRACKER -1.781635 -2.248442\n",
       "CAMS     -1.916117 -1.933390"
      ]
     },
     "execution_count": 88,
     "metadata": {},
     "output_type": "execute_result"
    }
   ],
   "source": [
    "annual"
   ]
  },
  {
   "cell_type": "code",
   "execution_count": 89,
   "metadata": {},
   "outputs": [],
   "source": [
    "annual.to_csv(\"annual_2015.csv\")"
   ]
  },
  {
   "cell_type": "code",
   "execution_count": null,
   "metadata": {},
   "outputs": [],
   "source": []
  }
 ],
 "metadata": {
  "kernelspec": {
   "display_name": "Python 3",
   "language": "python",
   "name": "python3"
  },
  "language_info": {
   "codemirror_mode": {
    "name": "ipython",
    "version": 3
   },
   "file_extension": ".py",
   "mimetype": "text/x-python",
   "name": "python",
   "nbconvert_exporter": "python",
   "pygments_lexer": "ipython3",
   "version": "3.7.1"
  },
  "toc": {
   "base_numbering": 1,
   "nav_menu": {},
   "number_sections": true,
   "sideBar": true,
   "skip_h1_title": false,
   "title_cell": "Table of Contents",
   "title_sidebar": "Contents",
   "toc_cell": false,
   "toc_position": {},
   "toc_section_display": true,
   "toc_window_display": false
  }
 },
 "nbformat": 4,
 "nbformat_minor": 2
}
