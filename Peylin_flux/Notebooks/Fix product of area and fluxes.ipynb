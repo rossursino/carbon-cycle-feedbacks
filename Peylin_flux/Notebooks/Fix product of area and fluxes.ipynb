{
 "cells": [
  {
   "cell_type": "code",
   "execution_count": 1,
   "metadata": {},
   "outputs": [],
   "source": [
    "import numpy as np\n",
    "import xarray as xr\n",
    "import pandas as pd"
   ]
  },
  {
   "cell_type": "code",
   "execution_count": 2,
   "metadata": {},
   "outputs": [],
   "source": [
    "import sys\n",
    "sys.path.append('./../Scripts')\n",
    "import flux_area_integration as fai"
   ]
  },
  {
   "cell_type": "code",
   "execution_count": 3,
   "metadata": {},
   "outputs": [
    {
     "data": {
      "text/plain": [
       "<module 'flux_area_integration' from './../Scripts/flux_area_integration.py'>"
      ]
     },
     "execution_count": 3,
     "metadata": {},
     "output_type": "execute_result"
    }
   ],
   "source": [
    "import importlib as ilib\n",
    "ilib.reload(fai)"
   ]
  },
  {
   "cell_type": "code",
   "execution_count": 4,
   "metadata": {},
   "outputs": [],
   "source": [
    "Rayner = './../data/fco2_Rayner-C13-2018_June2018-ext3_1992-2012_monthlymean_XYT.nc'\n",
    "df = xr.open_dataset(Rayner)"
   ]
  },
  {
   "cell_type": "code",
   "execution_count": 5,
   "metadata": {},
   "outputs": [],
   "source": [
    "lat = df.latitude\n",
    "lon = df.longitude"
   ]
  },
  {
   "cell_type": "code",
   "execution_count": 6,
   "metadata": {},
   "outputs": [
    {
     "data": {
      "text/plain": [
       "<xarray.DataArray 'ocean' (latitude: 180, longitude: 360)>\n",
       "array([[0.      , 0.      , 0.      , ..., 0.      , 0.      , 0.      ],\n",
       "       [0.      , 0.      , 0.      , ..., 0.      , 0.      , 0.      ],\n",
       "       [0.      , 0.      , 0.      , ..., 0.      , 0.      , 0.      ],\n",
       "       ...,\n",
       "       [1.256956, 1.256956, 1.256956, ..., 1.256956, 1.256956, 1.256956],\n",
       "       [1.256957, 1.256957, 1.256957, ..., 1.256957, 1.256957, 1.256957],\n",
       "       [1.256962, 1.256962, 1.256962, ..., 1.256962, 1.256962, 1.256962]],\n",
       "      dtype=float32)\n",
       "Coordinates:\n",
       "  * longitude  (longitude) float64 -179.5 -178.5 -177.5 ... 177.5 178.5 179.5\n",
       "  * latitude   (latitude) float64 -89.5 -88.5 -87.5 -86.5 ... 87.5 88.5 89.5\n",
       "    time       object 1992-01-16 00:00:00\n",
       "Attributes:\n",
       "    title:    ocean\n",
       "    units:    gC/m2/year"
      ]
     },
     "execution_count": 6,
     "metadata": {},
     "output_type": "execute_result"
    }
   ],
   "source": [
    "df['ocean'].sel(time=df.time[0])"
   ]
  },
  {
   "cell_type": "code",
   "execution_count": 7,
   "metadata": {},
   "outputs": [
    {
     "data": {
      "text/plain": [
       "array([[0.       , 0.       , 0.       , ..., 0.       , 0.       ,\n",
       "        0.       ],\n",
       "       [0.       , 0.       , 0.       , ..., 0.       , 0.       ,\n",
       "        0.       ],\n",
       "       [0.       , 0.       , 0.       , ..., 0.       , 0.       ,\n",
       "        0.       ],\n",
       "       ...,\n",
       "       [1.2569561, 1.2569561, 1.2569561, ..., 1.2569561, 1.2569561,\n",
       "        1.2569561],\n",
       "       [1.2569572, 1.2569572, 1.2569572, ..., 1.2569572, 1.2569572,\n",
       "        1.2569572],\n",
       "       [1.2569623, 1.2569623, 1.2569623, ..., 1.2569623, 1.2569623,\n",
       "        1.2569623]], dtype=float32)"
      ]
     },
     "execution_count": 7,
     "metadata": {},
     "output_type": "execute_result"
    }
   ],
   "source": [
    "ocean = df['ocean'].sel(time=df.time[0]).values\n",
    "ocean"
   ]
  },
  {
   "cell_type": "code",
   "execution_count": 8,
   "metadata": {},
   "outputs": [
    {
     "data": {
      "text/plain": [
       "array([[1.07896236e+08, 1.07896236e+08, 1.07896236e+08, ...,\n",
       "        1.07896236e+08, 1.07896236e+08, 1.07896236e+08],\n",
       "       [3.23655841e+08, 3.23655841e+08, 3.23655841e+08, ...,\n",
       "        3.23655841e+08, 3.23655841e+08, 3.23655841e+08],\n",
       "       [5.39316857e+08, 5.39316857e+08, 5.39316857e+08, ...,\n",
       "        5.39316857e+08, 5.39316857e+08, 5.39316857e+08],\n",
       "       ...,\n",
       "       [5.39316857e+08, 5.39316857e+08, 5.39316857e+08, ...,\n",
       "        5.39316857e+08, 5.39316857e+08, 5.39316857e+08],\n",
       "       [3.23655841e+08, 3.23655841e+08, 3.23655841e+08, ...,\n",
       "        3.23655841e+08, 3.23655841e+08, 3.23655841e+08],\n",
       "       [1.07896236e+08, 1.07896236e+08, 1.07896236e+08, ...,\n",
       "        1.07896236e+08, 1.07896236e+08, 1.07896236e+08]])"
      ]
     },
     "execution_count": 8,
     "metadata": {},
     "output_type": "execute_result"
    }
   ],
   "source": [
    "eag = fai.earth_area_grid(lat, lon)\n",
    "eag"
   ]
  },
  {
   "cell_type": "code",
   "execution_count": 9,
   "metadata": {},
   "outputs": [
    {
     "data": {
      "text/plain": [
       "array([[0.00000000e+00, 0.00000000e+00, 0.00000000e+00, ...,\n",
       "        0.00000000e+00, 0.00000000e+00, 0.00000000e+00],\n",
       "       [0.00000000e+00, 0.00000000e+00, 0.00000000e+00, ...,\n",
       "        0.00000000e+00, 0.00000000e+00, 0.00000000e+00],\n",
       "       [0.00000000e+00, 0.00000000e+00, 0.00000000e+00, ...,\n",
       "        0.00000000e+00, 0.00000000e+00, 0.00000000e+00],\n",
       "       ...,\n",
       "       [6.77897613e+08, 6.77897613e+08, 6.77897613e+08, ...,\n",
       "        6.77897613e+08, 6.77897613e+08, 6.77897613e+08],\n",
       "       [4.06821530e+08, 4.06821530e+08, 4.06821530e+08, ...,\n",
       "        4.06821530e+08, 4.06821530e+08, 4.06821530e+08],\n",
       "       [1.35621500e+08, 1.35621500e+08, 1.35621500e+08, ...,\n",
       "        1.35621500e+08, 1.35621500e+08, 1.35621500e+08]])"
      ]
     },
     "execution_count": 9,
     "metadata": {},
     "output_type": "execute_result"
    }
   ],
   "source": [
    "eag*ocean"
   ]
  },
  {
   "cell_type": "code",
   "execution_count": 10,
   "metadata": {},
   "outputs": [
    {
     "data": {
      "text/plain": [
       "array([[3.45603863e+10, 3.45603863e+10, 3.45603863e+10, ...,\n",
       "        2.27681023e+09, 2.27681023e+09, 2.27681023e+09],\n",
       "       [3.42928657e+10, 3.42928657e+10, 3.42928657e+10, ...,\n",
       "        2.25918634e+09, 2.25918634e+09, 2.25918634e+09],\n",
       "       [3.40148938e+10, 3.40148938e+10, 3.40148938e+10, ...,\n",
       "        2.24087344e+09, 2.24087344e+09, 2.24087344e+09],\n",
       "       ...,\n",
       "       [6.77897613e+08, 6.77897613e+08, 6.77897613e+08, ...,\n",
       "        6.77897613e+08, 6.77897613e+08, 6.77897613e+08],\n",
       "       [4.06821530e+08, 4.06821530e+08, 4.06821530e+08, ...,\n",
       "        4.06821530e+08, 4.06821530e+08, 4.06821530e+08],\n",
       "       [1.35621500e+08, 1.35621500e+08, 1.35621500e+08, ...,\n",
       "        1.35621500e+08, 1.35621500e+08, 1.35621500e+08]])"
      ]
     },
     "execution_count": 10,
     "metadata": {},
     "output_type": "execute_result"
    }
   ],
   "source": [
    "(eag*ocean)[lat>23]"
   ]
  },
  {
   "cell_type": "code",
   "execution_count": 11,
   "metadata": {},
   "outputs": [
    {
     "data": {
      "text/plain": [
       "array([[3.45603863e+10, 3.45603863e+10, 3.45603863e+10, ...,\n",
       "        2.27681023e+09, 2.27681023e+09, 2.27681023e+09],\n",
       "       [3.42928657e+10, 3.42928657e+10, 3.42928657e+10, ...,\n",
       "        2.25918634e+09, 2.25918634e+09, 2.25918634e+09],\n",
       "       [3.40148938e+10, 3.40148938e+10, 3.40148938e+10, ...,\n",
       "        2.24087344e+09, 2.24087344e+09, 2.24087344e+09],\n",
       "       ...,\n",
       "       [6.77897613e+08, 6.77897613e+08, 6.77897613e+08, ...,\n",
       "        6.77897613e+08, 6.77897613e+08, 6.77897613e+08],\n",
       "       [4.06821530e+08, 4.06821530e+08, 4.06821530e+08, ...,\n",
       "        4.06821530e+08, 4.06821530e+08, 4.06821530e+08],\n",
       "       [1.35621500e+08, 1.35621500e+08, 1.35621500e+08, ...,\n",
       "        1.35621500e+08, 1.35621500e+08, 1.35621500e+08]])"
      ]
     },
     "execution_count": 11,
     "metadata": {},
     "output_type": "execute_result"
    }
   ],
   "source": [
    "nag = fai.earth_area_grid(lat[lat>23], lon)\n",
    "o = ocean[lat>23]\n",
    "nag*o"
   ]
  },
  {
   "cell_type": "code",
   "execution_count": 12,
   "metadata": {},
   "outputs": [
    {
     "data": {
      "text/plain": [
       "array([[ True,  True,  True, ...,  True,  True,  True],\n",
       "       [ True,  True,  True, ...,  True,  True,  True],\n",
       "       [ True,  True,  True, ...,  True,  True,  True],\n",
       "       ...,\n",
       "       [ True,  True,  True, ...,  True,  True,  True],\n",
       "       [ True,  True,  True, ...,  True,  True,  True],\n",
       "       [ True,  True,  True, ...,  True,  True,  True]])"
      ]
     },
     "execution_count": 12,
     "metadata": {},
     "output_type": "execute_result"
    }
   ],
   "source": [
    "((eag*ocean)[lat>23]==nag*o)"
   ]
  },
  {
   "cell_type": "code",
   "execution_count": 13,
   "metadata": {},
   "outputs": [
    {
     "data": {
      "text/plain": [
       "array([-89.5, -88.5, -87.5, -86.5, -85.5, -84.5, -83.5, -82.5, -81.5,\n",
       "       -80.5, -79.5, -78.5, -77.5, -76.5, -75.5, -74.5, -73.5, -72.5,\n",
       "       -71.5, -70.5, -69.5, -68.5, -67.5, -66.5, -65.5, -64.5, -63.5,\n",
       "       -62.5, -61.5, -60.5, -59.5, -58.5, -57.5, -56.5, -55.5, -54.5,\n",
       "       -53.5, -52.5, -51.5, -50.5, -49.5, -48.5, -47.5, -46.5, -45.5,\n",
       "       -44.5, -43.5, -42.5, -41.5, -40.5, -39.5, -38.5, -37.5, -36.5,\n",
       "       -35.5, -34.5, -33.5, -32.5, -31.5, -30.5, -29.5, -28.5, -27.5,\n",
       "       -26.5, -25.5, -24.5, -23.5, -22.5, -21.5, -20.5, -19.5, -18.5,\n",
       "       -17.5, -16.5, -15.5, -14.5, -13.5, -12.5, -11.5, -10.5,  -9.5,\n",
       "        -8.5,  -7.5,  -6.5,  -5.5,  -4.5,  -3.5,  -2.5,  -1.5,  -0.5,\n",
       "         0.5,   1.5,   2.5,   3.5,   4.5,   5.5,   6.5,   7.5,   8.5,\n",
       "         9.5,  10.5,  11.5,  12.5,  13.5,  14.5,  15.5,  16.5,  17.5,\n",
       "        18.5,  19.5,  20.5,  21.5,  22.5,  23.5,  24.5,  25.5,  26.5,\n",
       "        27.5,  28.5,  29.5,  30.5,  31.5,  32.5,  33.5,  34.5,  35.5,\n",
       "        36.5,  37.5,  38.5,  39.5,  40.5,  41.5,  42.5,  43.5,  44.5,\n",
       "        45.5,  46.5,  47.5,  48.5,  49.5,  50.5,  51.5,  52.5,  53.5,\n",
       "        54.5,  55.5,  56.5,  57.5,  58.5,  59.5,  60.5,  61.5,  62.5,\n",
       "        63.5,  64.5,  65.5,  66.5,  67.5,  68.5,  69.5,  70.5,  71.5,\n",
       "        72.5,  73.5,  74.5,  75.5,  76.5,  77.5,  78.5,  79.5,  80.5,\n",
       "        81.5,  82.5,  83.5,  84.5,  85.5,  86.5,  87.5,  88.5,  89.5])"
      ]
     },
     "execution_count": 13,
     "metadata": {},
     "output_type": "execute_result"
    }
   ],
   "source": [
    "lat.values"
   ]
  },
  {
   "cell_type": "code",
   "execution_count": 14,
   "metadata": {},
   "outputs": [
    {
     "data": {
      "text/plain": [
       "array([ True,  True,  True,  True,  True,  True,  True,  True,  True,\n",
       "        True,  True,  True,  True,  True,  True,  True,  True,  True,\n",
       "        True,  True,  True,  True,  True,  True,  True,  True,  True,\n",
       "        True,  True,  True,  True,  True,  True,  True,  True,  True,\n",
       "        True,  True,  True,  True,  True,  True,  True,  True,  True,\n",
       "        True,  True,  True,  True,  True,  True,  True,  True,  True,\n",
       "        True,  True,  True,  True,  True,  True,  True,  True,  True,\n",
       "        True,  True,  True,  True,  True,  True,  True,  True,  True,\n",
       "        True,  True,  True,  True,  True,  True,  True,  True,  True,\n",
       "        True,  True,  True,  True,  True,  True,  True,  True,  True,\n",
       "        True,  True,  True,  True,  True,  True,  True,  True,  True,\n",
       "        True,  True,  True,  True,  True,  True,  True,  True,  True,\n",
       "        True,  True,  True,  True,  True,  True,  True,  True,  True,\n",
       "        True,  True,  True,  True,  True,  True,  True,  True,  True,\n",
       "        True,  True,  True,  True,  True,  True,  True,  True,  True,\n",
       "        True,  True,  True,  True,  True,  True,  True,  True,  True,\n",
       "        True,  True,  True,  True,  True,  True,  True,  True,  True,\n",
       "        True,  True,  True,  True,  True,  True,  True,  True,  True,\n",
       "        True,  True,  True,  True,  True,  True,  True,  True,  True,\n",
       "        True,  True,  True,  True,  True,  True,  True,  True,  True,\n",
       "        True,  True,  True,  True,  True,  True,  True,  True,  True,\n",
       "        True,  True,  True,  True,  True,  True,  True,  True,  True,\n",
       "        True,  True,  True,  True,  True,  True,  True,  True,  True,\n",
       "        True,  True,  True,  True,  True,  True,  True,  True,  True,\n",
       "        True,  True,  True,  True,  True,  True,  True,  True,  True,\n",
       "        True,  True,  True,  True,  True,  True,  True,  True,  True,\n",
       "        True,  True,  True,  True,  True,  True,  True,  True,  True,\n",
       "        True,  True,  True,  True,  True,  True,  True,  True,  True,\n",
       "        True,  True,  True,  True,  True,  True,  True,  True,  True,\n",
       "        True,  True,  True,  True,  True,  True,  True,  True,  True,\n",
       "        True,  True,  True,  True,  True,  True,  True,  True,  True,\n",
       "        True,  True,  True,  True,  True,  True,  True,  True,  True,\n",
       "        True,  True,  True,  True,  True,  True,  True,  True,  True,\n",
       "        True,  True,  True,  True,  True,  True,  True,  True,  True,\n",
       "        True,  True,  True,  True,  True,  True,  True,  True,  True,\n",
       "        True,  True,  True,  True,  True,  True,  True,  True,  True,\n",
       "        True,  True,  True,  True,  True,  True,  True,  True,  True,\n",
       "        True,  True,  True,  True,  True,  True,  True,  True,  True,\n",
       "        True,  True,  True,  True,  True,  True,  True,  True,  True,\n",
       "        True,  True,  True,  True,  True,  True,  True,  True,  True])"
      ]
     },
     "execution_count": 14,
     "metadata": {},
     "output_type": "execute_result"
    }
   ],
   "source": [
    "np.arange(-179.5, 180.5)==lon.values"
   ]
  },
  {
   "cell_type": "code",
   "execution_count": 20,
   "metadata": {},
   "outputs": [],
   "source": [
    "spa = fai.spatial_integration(df, ['Terrestrial_flux', 'ocean'], time=(0,24))"
   ]
  },
  {
   "cell_type": "code",
   "execution_count": 21,
   "metadata": {},
   "outputs": [
    {
     "data": {
      "text/html": [
       "<div>\n",
       "<style scoped>\n",
       "    .dataframe tbody tr th:only-of-type {\n",
       "        vertical-align: middle;\n",
       "    }\n",
       "\n",
       "    .dataframe tbody tr th {\n",
       "        vertical-align: top;\n",
       "    }\n",
       "\n",
       "    .dataframe thead th {\n",
       "        text-align: right;\n",
       "    }\n",
       "</style>\n",
       "<table border=\"1\" class=\"dataframe\">\n",
       "  <thead>\n",
       "    <tr style=\"text-align: right;\">\n",
       "      <th></th>\n",
       "      <th>Year</th>\n",
       "      <th>earth_land_total</th>\n",
       "      <th>south_land_total</th>\n",
       "      <th>trop_land_total</th>\n",
       "      <th>north_land_total</th>\n",
       "      <th>earth_ocean_total</th>\n",
       "      <th>south_ocean_total</th>\n",
       "      <th>trop_ocean_total</th>\n",
       "      <th>north_ocean_total</th>\n",
       "    </tr>\n",
       "  </thead>\n",
       "  <tbody>\n",
       "    <tr>\n",
       "      <th>0</th>\n",
       "      <td>1992</td>\n",
       "      <td>-29.4476</td>\n",
       "      <td>2.69072</td>\n",
       "      <td>-9.73824</td>\n",
       "      <td>-22.4001</td>\n",
       "      <td>-3.00218</td>\n",
       "      <td>6.11725</td>\n",
       "      <td>-5.81536</td>\n",
       "      <td>-3.30407</td>\n",
       "    </tr>\n",
       "    <tr>\n",
       "      <th>1</th>\n",
       "      <td>1993</td>\n",
       "      <td>-40.4063</td>\n",
       "      <td>-4.46368</td>\n",
       "      <td>-4.55531</td>\n",
       "      <td>-31.3873</td>\n",
       "      <td>14.9359</td>\n",
       "      <td>12.9816</td>\n",
       "      <td>-0.143693</td>\n",
       "      <td>2.09792</td>\n",
       "    </tr>\n",
       "    <tr>\n",
       "      <th>2</th>\n",
       "      <td>1994</td>\n",
       "      <td>-1.63932</td>\n",
       "      <td>0.411662</td>\n",
       "      <td>-1.8303</td>\n",
       "      <td>-0.220681</td>\n",
       "      <td>1.29074</td>\n",
       "      <td>0.194098</td>\n",
       "      <td>0.29251</td>\n",
       "      <td>0.804128</td>\n",
       "    </tr>\n",
       "  </tbody>\n",
       "</table>\n",
       "</div>"
      ],
      "text/plain": [
       "   Year earth_land_total south_land_total trop_land_total north_land_total  \\\n",
       "0  1992         -29.4476          2.69072        -9.73824         -22.4001   \n",
       "1  1993         -40.4063         -4.46368        -4.55531         -31.3873   \n",
       "2  1994         -1.63932         0.411662         -1.8303        -0.220681   \n",
       "\n",
       "  earth_ocean_total south_ocean_total trop_ocean_total north_ocean_total  \n",
       "0          -3.00218           6.11725         -5.81536          -3.30407  \n",
       "1           14.9359           12.9816        -0.143693           2.09792  \n",
       "2           1.29074          0.194098          0.29251          0.804128  "
      ]
     },
     "execution_count": 21,
     "metadata": {},
     "output_type": "execute_result"
    }
   ],
   "source": [
    "fai.year_integration(spa)"
   ]
  },
  {
   "cell_type": "code",
   "execution_count": 23,
   "metadata": {},
   "outputs": [
    {
     "data": {
      "text/plain": [
       "earth_land_total    -71.493203\n",
       "south_land_total     -1.361304\n",
       "trop_land_total     -16.123846\n",
       "north_land_total    -54.008052\n",
       "earth_ocean_total    13.224412\n",
       "south_ocean_total    19.292977\n",
       "trop_ocean_total     -5.666548\n",
       "north_ocean_total    -0.402018\n",
       "dtype: float64"
      ]
     },
     "execution_count": 23,
     "metadata": {},
     "output_type": "execute_result"
    }
   ],
   "source": [
    "fai.whole_time_integration(spa)"
   ]
  },
  {
   "cell_type": "code",
   "execution_count": null,
   "metadata": {},
   "outputs": [],
   "source": []
  }
 ],
 "metadata": {
  "kernelspec": {
   "display_name": "Python 3",
   "language": "python",
   "name": "python3"
  },
  "language_info": {
   "codemirror_mode": {
    "name": "ipython",
    "version": 3
   },
   "file_extension": ".py",
   "mimetype": "text/x-python",
   "name": "python",
   "nbconvert_exporter": "python",
   "pygments_lexer": "ipython3",
   "version": "3.7.1"
  },
  "toc": {
   "base_numbering": 1,
   "nav_menu": {},
   "number_sections": true,
   "sideBar": true,
   "skip_h1_title": false,
   "title_cell": "Table of Contents",
   "title_sidebar": "Contents",
   "toc_cell": false,
   "toc_position": {},
   "toc_section_display": true,
   "toc_window_display": false
  }
 },
 "nbformat": 4,
 "nbformat_minor": 2
}
