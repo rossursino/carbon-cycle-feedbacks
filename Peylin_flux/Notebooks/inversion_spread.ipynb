{
 "cells": [
  {
   "cell_type": "code",
   "execution_count": 1,
   "metadata": {},
   "outputs": [
    {
     "name": "stderr",
     "output_type": "stream",
     "text": [
      "/home/student.unimelb.edu.au/rursino/anaconda3/lib/python3.7/site-packages/xarray/core/merge.py:17: FutureWarning: The Panel class is removed from pandas. Accessing it from the top-level namespace will also be removed in the next version\n",
      "  PANDAS_TYPES = (pd.Series, pd.DataFrame, pd.Panel)\n"
     ]
    }
   ],
   "source": [
    "import pickle\n",
    "import numpy as np\n",
    "import scipy\n",
    "from scipy import stats\n",
    "import matplotlib.pyplot as plt\n",
    "import pandas as pd\n",
    "import xarray as xr"
   ]
  },
  {
   "cell_type": "code",
   "execution_count": 11,
   "metadata": {},
   "outputs": [],
   "source": [
    "def open_inversions(names):\n",
    "    \n",
    "    dict_of_models = {}\n",
    "    for name in names:\n",
    "        dict_of_models[name] = pickle.load(open(f\"./../Output/output_raw/output_all/{name}_all/spatial.pik\", \"rb\"))\n",
    "    \n",
    "    return dict_of_models\n",
    "\n",
    "names = [\"CAMS\", \"JAMSTEC\", \"CTRACKER\", \"JENA_s85\", \"JENA_s76\", \"Rayner\"]\n",
    "dict_invs = open_inversions(names)"
   ]
  },
  {
   "cell_type": "code",
   "execution_count": 12,
   "metadata": {},
   "outputs": [
    {
     "data": {
      "text/plain": [
       "<xarray.Dataset>\n",
       "Dimensions:         (time: 468)\n",
       "Coordinates:\n",
       "  * time            (time) object 1979-01-16 00:00:00 ... 2017-12-16 00:00:00\n",
       "Data variables:\n",
       "    Earth_Land      (time) float64 0.4314 0.5878 0.8693 ... 1.254 1.15 0.4502\n",
       "    South_Land      (time) float64 0.03146 0.04228 0.06212 ... -0.03757 0.01857\n",
       "    Tropical_Land   (time) float64 -0.3288 0.06462 0.4028 ... 0.2813 -0.3327\n",
       "    North_Land      (time) float64 0.7288 0.4809 0.4045 ... 0.7788 0.9061 0.7644\n",
       "    Earth_Ocean     (time) float64 -0.09067 -0.09578 ... -0.1494 -0.1669\n",
       "    South_Ocean     (time) float64 -0.06071 -0.06981 -0.0825 ... -0.1165 -0.1023\n",
       "    Tropical_Ocean  (time) float64 0.0794 0.081 0.09499 ... 0.04063 0.03863\n",
       "    North_Ocean     (time) float64 -0.1094 -0.107 -0.1056 ... -0.07353 -0.1032"
      ]
     },
     "execution_count": 12,
     "metadata": {},
     "output_type": "execute_result"
    }
   ],
   "source": [
    "dict_invs[\"CAMS\"]"
   ]
  },
  {
   "cell_type": "code",
   "execution_count": 29,
   "metadata": {},
   "outputs": [],
   "source": [
    "def extract_var(dict_invs, var):\n",
    "    \n",
    "    dict_var = {}\n",
    "    for name, inv in dict_invs.items():\n",
    "        dict_var[name] = inv[var]\n",
    "    \n",
    "    return dict_var"
   ]
  },
  {
   "cell_type": "code",
   "execution_count": 41,
   "metadata": {},
   "outputs": [
    {
     "data": {
      "text/plain": [
       "dict_values([<xarray.DataArray 'Earth_Land' (time: 468)>\n",
       "array([0.43142 , 0.587814, 0.869325, ..., 1.254084, 1.149867, 0.450207])\n",
       "Coordinates:\n",
       "  * time     (time) object 1979-01-16 00:00:00 ... 2017-12-16 00:00:00, <xarray.DataArray 'Earth_Land' (time: 264)>\n",
       "array([0.659963, 0.546707, 0.263685, ..., 1.411561, 1.043622, 0.386004])\n",
       "Coordinates:\n",
       "  * time     (time) object 1996-01-16 00:00:00 ... 2017-12-16 00:00:00, <xarray.DataArray 'Earth_Land' (time: 216)>\n",
       "array([0.373699, 0.457714, 0.338313, ..., 0.880358, 0.951553, 0.942229])\n",
       "Coordinates:\n",
       "  * time     (time) object 2000-01-16 00:00:00 ... 2017-12-16 00:00:00, <xarray.DataArray 'Earth_Land' (time: 396)>\n",
       "array([0.556644, 0.494319, 0.463078, ..., 1.121422, 1.345404, 1.013329])\n",
       "Coordinates:\n",
       "  * time     (time) object 1985-01-16 00:00:00 ... 2017-12-16 00:00:00, <xarray.DataArray 'Earth_Land' (time: 504)>\n",
       "array([0.297948, 0.202695, 0.336327, ..., 0.952913, 1.267881, 1.004401])\n",
       "Coordinates:\n",
       "  * time     (time) object 1976-01-16 00:00:00 ... 2017-12-16 00:00:00, <xarray.DataArray 'Earth_Land' (time: 252)>\n",
       "array([-0.206387, -0.32326 , -0.455497, ...,  0.492435,  0.02093 , -0.010923])\n",
       "Coordinates:\n",
       "  * time     (time) object 1992-01-16 00:00:00 ... 2012-12-16 00:00:00])"
      ]
     },
     "execution_count": 41,
     "metadata": {},
     "output_type": "execute_result"
    }
   ],
   "source": [
    "extract_var(dict_invs, \"Earth_Land\").values()"
   ]
  },
  {
   "cell_type": "code",
   "execution_count": null,
   "metadata": {},
   "outputs": [],
   "source": []
  }
 ],
 "metadata": {
  "kernelspec": {
   "display_name": "Python 3",
   "language": "python",
   "name": "python3"
  },
  "language_info": {
   "codemirror_mode": {
    "name": "ipython",
    "version": 3
   },
   "file_extension": ".py",
   "mimetype": "text/x-python",
   "name": "python",
   "nbconvert_exporter": "python",
   "pygments_lexer": "ipython3",
   "version": "3.7.1"
  },
  "toc": {
   "base_numbering": 1,
   "nav_menu": {},
   "number_sections": true,
   "sideBar": true,
   "skip_h1_title": false,
   "title_cell": "Table of Contents",
   "title_sidebar": "Contents",
   "toc_cell": false,
   "toc_position": {},
   "toc_section_display": true,
   "toc_window_display": false
  }
 },
 "nbformat": 4,
 "nbformat_minor": 2
}
