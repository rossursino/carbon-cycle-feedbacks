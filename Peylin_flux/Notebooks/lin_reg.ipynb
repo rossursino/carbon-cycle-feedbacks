{
 "cells": [
  {
   "cell_type": "code",
   "execution_count": 8,
   "metadata": {},
   "outputs": [],
   "source": [
    "import pickle\n",
    "import _pickle as cpickle\n",
    "import matplotlib.pyplot as plt\n",
    "import numpy as np\n",
    "import pandas as pd\n",
    "from scipy import stats\n",
    "from datetime import datetime\n",
    "import matplotlib.dates as mdates\n",
    "import scipy.signal as sps\n",
    "import xarray as xr\n",
    "\n",
    "%matplotlib inline"
   ]
  },
  {
   "cell_type": "markdown",
   "metadata": {},
   "source": [
    "This notebook introduces a linear regression analysis between uptake and time and uptake and CO2 concentration using Peylin global integrated fluxes and a weighting of CO2 concentration."
   ]
  },
  {
   "cell_type": "markdown",
   "metadata": {},
   "source": [
    "UPTAKE: Use one model of fluxes. Use pickle of spatially integrated fluxes (which is essentially just flux data at monthly resolution.\n",
    "\n",
    "CO2: In CO2 folder."
   ]
  },
  {
   "cell_type": "markdown",
   "metadata": {},
   "source": [
    "# Flux against time"
   ]
  },
  {
   "cell_type": "code",
   "execution_count": 9,
   "metadata": {},
   "outputs": [
    {
     "data": {
      "text/plain": [
       "<xarray.Dataset>\n",
       "Dimensions:         (time: 21)\n",
       "Coordinates:\n",
       "  * time            (time) object 1992-12-30 00:00:00 ... 2012-12-30 00:00:00\n",
       "Data variables:\n",
       "    Earth_Land      (time) float64 -2.447 -3.349 -0.7345 ... -4.192 -2.768\n",
       "    South_Land      (time) float64 0.224 -0.3685 0.2921 ... -0.7236 -0.12\n",
       "    Tropical_Land   (time) float64 -0.8121 -0.3696 0.5733 ... -0.5483 0.6304\n",
       "    North_Land      (time) float64 -1.859 -2.611 -1.6 ... -2.7 -2.92 -3.279\n",
       "    Earth_Ocean     (time) float64 -0.2522 1.241 0.113 ... 0.1794 -0.1197\n",
       "    South_Ocean     (time) float64 0.5105 1.078 0.5778 ... 0.4099 0.6217 0.3392\n",
       "    Tropical_Ocean  (time) float64 -0.4834 -0.01013 -0.4716 ... -0.3309 -0.3562\n",
       "    North_Ocean     (time) float64 -0.2793 0.1733 0.006788 ... -0.1114 -0.1026"
      ]
     },
     "execution_count": 9,
     "metadata": {},
     "output_type": "execute_result"
    }
   ],
   "source": [
    "fRayner = open('./../Output/output_raw/output_all/Rayner_all/year.pik', 'rb')\n",
    "Rayner = pickle.load(fRayner)\n",
    "Rayner"
   ]
  },
  {
   "cell_type": "code",
   "execution_count": 42,
   "metadata": {},
   "outputs": [],
   "source": [
    "def cftime_to_datetime(time_array, format='%Y-%m'):\n",
    "    '''\n",
    "    Takes a xr.DataArray of cftime values and converts it to a list of datetimes.\n",
    "    \n",
    "    Variables\n",
    "    ---\n",
    "    time_array: xr.DataArray of cftime values.\n",
    "    format: format of datetime.\n",
    "    ---\n",
    "    '''\n",
    "    \n",
    "    time_list = []\n",
    "    for time in time_array.values:\n",
    "        time_value = datetime.strptime(time.strftime('%Y-%m'), '%Y-%m')\n",
    "        time_list.append(time_value)\n",
    "    \n",
    "    return time_list"
   ]
  },
  {
   "cell_type": "code",
   "execution_count": 44,
   "metadata": {},
   "outputs": [
    {
     "data": {
      "text/plain": [
       "[datetime.datetime(1992, 12, 1, 0, 0),\n",
       " datetime.datetime(1993, 12, 1, 0, 0),\n",
       " datetime.datetime(1994, 12, 1, 0, 0),\n",
       " datetime.datetime(1995, 12, 1, 0, 0),\n",
       " datetime.datetime(1996, 12, 1, 0, 0),\n",
       " datetime.datetime(1997, 12, 1, 0, 0),\n",
       " datetime.datetime(1998, 12, 1, 0, 0),\n",
       " datetime.datetime(1999, 12, 1, 0, 0),\n",
       " datetime.datetime(2000, 12, 1, 0, 0),\n",
       " datetime.datetime(2001, 12, 1, 0, 0),\n",
       " datetime.datetime(2002, 12, 1, 0, 0),\n",
       " datetime.datetime(2003, 12, 1, 0, 0),\n",
       " datetime.datetime(2004, 12, 1, 0, 0),\n",
       " datetime.datetime(2005, 12, 1, 0, 0),\n",
       " datetime.datetime(2006, 12, 1, 0, 0),\n",
       " datetime.datetime(2007, 12, 1, 0, 0),\n",
       " datetime.datetime(2008, 12, 1, 0, 0),\n",
       " datetime.datetime(2009, 12, 1, 0, 0),\n",
       " datetime.datetime(2010, 12, 1, 0, 0),\n",
       " datetime.datetime(2011, 12, 1, 0, 0),\n",
       " datetime.datetime(2012, 12, 1, 0, 0)]"
      ]
     },
     "execution_count": 44,
     "metadata": {},
     "output_type": "execute_result"
    }
   ],
   "source": [
    "Rayner_time = cftime_to_datetime(Rayner.time)\n",
    "Rayner_time"
   ]
  },
  {
   "cell_type": "markdown",
   "metadata": {},
   "source": [
    "## Whole period"
   ]
  },
  {
   "cell_type": "code",
   "execution_count": 45,
   "metadata": {},
   "outputs": [
    {
     "data": {
      "text/plain": [
       "<matplotlib.axes._subplots.AxesSubplot at 0x7fa8a5b00128>"
      ]
     },
     "execution_count": 45,
     "metadata": {},
     "output_type": "execute_result"
    },
    {
     "data": {
      "image/png": "[encoded data removed]",
      "text/plain": [
       "<Figure size 432x288 with 1 Axes>"
      ]
     },
     "metadata": {
      "needs_background": "light"
     },
     "output_type": "display_data"
    }
   ],
   "source": [
    "# Plot global land against time\n",
    "pd.DataFrame(Rayner.Earth_Land.values, index=Rayner_time).plot()"
   ]
  },
  {
   "cell_type": "code",
   "execution_count": 59,
   "metadata": {},
   "outputs": [
    {
     "data": {
      "text/plain": [
       "1992"
      ]
     },
     "execution_count": 59,
     "metadata": {},
     "output_type": "execute_result"
    }
   ],
   "source": [
    "int(Rayner_time[0].strftime(format='%Y'))"
   ]
  },
  {
   "cell_type": "code",
   "execution_count": 62,
   "metadata": {
    "scrolled": true
   },
   "outputs": [],
   "source": [
    "Rayner_year = []\n",
    "for time in Rayner_time:\n",
    "    Rayner_year.append(float(time.strftime(format='%Y')))"
   ]
  },
  {
   "cell_type": "code",
   "execution_count": 74,
   "metadata": {},
   "outputs": [
    {
     "data": {
      "text/plain": [
       "[-2.446948228042133,\n",
       " -3.34941021625888,\n",
       " -0.7344973091205665,\n",
       " -0.8119558949942292,\n",
       " -2.308522982448819,\n",
       " -0.5340008592791193,\n",
       " 1.018407946567014,\n",
       " -2.1360877866354384,\n",
       " -2.135034793093321,\n",
       " -2.042849965823414,\n",
       " -0.41553199192534673,\n",
       " -1.019339283538535,\n",
       " -2.486873799410162,\n",
       " -0.9653138092898456,\n",
       " -2.9528609249637183,\n",
       " -1.819297696094968,\n",
       " -3.5229951464687903,\n",
       " -3.0063740701599233,\n",
       " -2.5140987491015307,\n",
       " -4.192337890211309,\n",
       " -2.7683636076007847]"
      ]
     },
     "execution_count": 74,
     "metadata": {},
     "output_type": "execute_result"
    }
   ],
   "source": [
    "list(Rayner.Earth_Land.values)"
   ]
  },
  {
   "cell_type": "code",
   "execution_count": 76,
   "metadata": {},
   "outputs": [
    {
     "ename": "TypeError",
     "evalue": "can't multiply sequence by non-int of type 'numpy.float64'",
     "output_type": "error",
     "traceback": [
      "\u001b[0;31m---------------------------------------------------------------------------\u001b[0m",
      "\u001b[0;31mTypeError\u001b[0m                                 Traceback (most recent call last)",
      "\u001b[0;32m<ipython-input-76-a92ec6ef8d0d>\u001b[0m in \u001b[0;36m<module>\u001b[0;34m\u001b[0m\n\u001b[1;32m      4\u001b[0m \u001b[0mintercept_land\u001b[0m \u001b[0;34m=\u001b[0m \u001b[0mreg_land\u001b[0m\u001b[0;34m[\u001b[0m\u001b[0;36m1\u001b[0m\u001b[0;34m]\u001b[0m\u001b[0;34m\u001b[0m\u001b[0;34m\u001b[0m\u001b[0m\n\u001b[1;32m      5\u001b[0m \u001b[0;34m\u001b[0m\u001b[0m\n\u001b[0;32m----> 6\u001b[0;31m \u001b[0mline\u001b[0m \u001b[0;34m=\u001b[0m \u001b[0mslope_land\u001b[0m\u001b[0;34m*\u001b[0m\u001b[0mRayner_year\u001b[0m\u001b[0;34m+\u001b[0m\u001b[0mintercept_land\u001b[0m\u001b[0;34m\u001b[0m\u001b[0;34m\u001b[0m\u001b[0m\n\u001b[0m\u001b[1;32m      7\u001b[0m \u001b[0;34m\u001b[0m\u001b[0m\n\u001b[1;32m      8\u001b[0m \u001b[0mplt\u001b[0m\u001b[0;34m.\u001b[0m\u001b[0mplot\u001b[0m\u001b[0;34m(\u001b[0m\u001b[0mRayner_year\u001b[0m\u001b[0;34m,\u001b[0m \u001b[0mRayner\u001b[0m\u001b[0;34m.\u001b[0m\u001b[0mEarth_Land\u001b[0m\u001b[0;34m)\u001b[0m\u001b[0;34m\u001b[0m\u001b[0;34m\u001b[0m\u001b[0m\n",
      "\u001b[0;31mTypeError\u001b[0m: can't multiply sequence by non-int of type 'numpy.float64'"
     ]
    }
   ],
   "source": [
    "# Linear regression: global land uptake vs. time\n",
    "reg_land = stats.linregress(Rayner_year, Rayner.Earth_Land.values)\n",
    "slope_land = reg_land[0]\n",
    "intercept_land = reg_land[1]\n",
    "\n",
    "line = slope_land*Rayner_year+intercept_land\n",
    "\n",
    "plt.plot(Rayner_year, Rayner.Earth_Land)\n",
    "plt.plot(Rayner_year, line, color ='r')\n",
    "print(reg_land)"
   ]
  },
  {
   "cell_type": "markdown",
   "metadata": {},
   "source": [
    "## Decade trend in regression"
   ]
  },
  {
   "cell_type": "code",
   "execution_count": 59,
   "metadata": {},
   "outputs": [],
   "source": [
    "def decade_sel(decade):\n",
    "    index_list = []\n",
    "    for index, year in enumerate(Rayner.Year):\n",
    "        if year in decade:\n",
    "            index_list.append(index)\n",
    "    return index_list"
   ]
  },
  {
   "cell_type": "code",
   "execution_count": 60,
   "metadata": {
    "scrolled": false
   },
   "outputs": [],
   "source": [
    "i = decade_sel(range(1992,2002))"
   ]
  },
  {
   "cell_type": "code",
   "execution_count": 65,
   "metadata": {
    "scrolled": true
   },
   "outputs": [
    {
     "name": "stdout",
     "output_type": "stream",
     "text": [
      "LinregressResult(slope=0.07512226413579666, intercept=-151.5296903560309, rvalue=0.17990328581738482, pvalue=0.6189530752251279, stderr=0.1452246441528873)\n"
     ]
    },
    {
     "data": {
      "image/png": "[encoded data removed]",
      "text/plain": [
       "<Figure size 432x288 with 1 Axes>"
      ]
     },
     "metadata": {
      "needs_background": "light"
     },
     "output_type": "display_data"
    }
   ],
   "source": [
    "reg_land = stats.linregress(Rayner.Year[i], Rayner['earth_land_total'].astype(float)[i])\n",
    "slope_land = reg_land[0]\n",
    "intercept_land = reg_land[1]\n",
    "\n",
    "line_i = slope_land*Rayner.Year[i]+intercept_land\n",
    "\n",
    "plt.plot(Rayner.Year[i], Rayner.earth_land_total[i])\n",
    "plt.plot(Rayner.Year[i], line_i, color ='r')\n",
    "print(reg_land)"
   ]
  },
  {
   "cell_type": "code",
   "execution_count": 66,
   "metadata": {
    "scrolled": false
   },
   "outputs": [],
   "source": [
    "j = decade_sel(range(2002,2013))"
   ]
  },
  {
   "cell_type": "code",
   "execution_count": 67,
   "metadata": {},
   "outputs": [
    {
     "name": "stdout",
     "output_type": "stream",
     "text": [
      "LinregressResult(slope=-0.2653643827035239, intercept=530.2532809069938, rvalue=-0.7576571468639509, pvalue=0.006909484964205737, stderr=0.07619576660446957)\n"
     ]
    },
    {
     "data": {
      "image/png": "[encoded data removed]",
      "text/plain": [
       "<Figure size 432x288 with 1 Axes>"
      ]
     },
     "metadata": {
      "needs_background": "light"
     },
     "output_type": "display_data"
    }
   ],
   "source": [
    "reg_land = stats.linregress(Rayner.Year[j], Rayner['earth_land_total'].astype(float)[j])\n",
    "slope_land = reg_land[0]\n",
    "intercept_land = reg_land[1]\n",
    "\n",
    "line_j = slope_land*Rayner.Year[j]+intercept_land\n",
    "\n",
    "plt.plot(Rayner.Year[j], Rayner.earth_land_total[j])\n",
    "plt.plot(Rayner.Year[j], line_j, color ='r')\n",
    "print(reg_land)"
   ]
  },
  {
   "cell_type": "markdown",
   "metadata": {},
   "source": [
    "# Flux against CO2"
   ]
  },
  {
   "cell_type": "markdown",
   "metadata": {},
   "source": [
    "## Weighting of Mount Loa and South Pole"
   ]
  },
  {
   "cell_type": "markdown",
   "metadata": {},
   "source": [
    "### Month"
   ]
  },
  {
   "cell_type": "code",
   "execution_count": 92,
   "metadata": {},
   "outputs": [],
   "source": [
    "ml_co2_month = pd.read_csv('./../co2_data/co2_mount_loa.csv')\n",
    "so_co2_month = pd.read_csv('./../co2_data/co2_south_pole.csv')"
   ]
  },
  {
   "cell_type": "code",
   "execution_count": 93,
   "metadata": {},
   "outputs": [],
   "source": [
    "ml_co2_month.CO2[ml_co2_month.CO2==-99.99]=np.nan\n",
    "ml_co2_month = ml_co2_month.interpolate()"
   ]
  },
  {
   "cell_type": "code",
   "execution_count": 94,
   "metadata": {},
   "outputs": [],
   "source": [
    "so_co2_month.CO2[so_co2_month.CO2==-99.99]=np.nan\n",
    "so_co2_month = so_co2_month.interpolate()"
   ]
  },
  {
   "cell_type": "code",
   "execution_count": 95,
   "metadata": {},
   "outputs": [],
   "source": [
    "co2_month = 0.75*ml_co2_month + 0.25*so_co2_month"
   ]
  },
  {
   "cell_type": "code",
   "execution_count": 96,
   "metadata": {},
   "outputs": [],
   "source": [
    "co2_month.to_csv('weighted_co2_month.csv')"
   ]
  },
  {
   "cell_type": "code",
   "execution_count": 97,
   "metadata": {},
   "outputs": [
    {
     "data": {
      "text/plain": [
       "[<matplotlib.lines.Line2D at 0x7f0250dbe978>]"
      ]
     },
     "execution_count": 97,
     "metadata": {},
     "output_type": "execute_result"
    },
    {
     "data": {
      "image/png": "[encoded data removed]",
      "text/plain": [
       "<Figure size 432x288 with 1 Axes>"
      ]
     },
     "metadata": {
      "needs_background": "light"
     },
     "output_type": "display_data"
    }
   ],
   "source": [
    "plt.plot(co2_month.Date, co2_month.CO2)"
   ]
  },
  {
   "cell_type": "code",
   "execution_count": 98,
   "metadata": {},
   "outputs": [
    {
     "data": {
      "text/plain": [
       "[<matplotlib.lines.Line2D at 0x7f02512f38d0>]"
      ]
     },
     "execution_count": 98,
     "metadata": {},
     "output_type": "execute_result"
    },
    {
     "data": {
      "image/png": "[encoded data removed]",
      "text/plain": [
       "<Figure size 432x288 with 1 Axes>"
      ]
     },
     "metadata": {
      "needs_background": "light"
     },
     "output_type": "display_data"
    }
   ],
   "source": [
    "plt.plot(co2_month.Date, sps.detrend(co2_month.CO2))"
   ]
  },
  {
   "cell_type": "markdown",
   "metadata": {},
   "source": [
    "### Year"
   ]
  },
  {
   "cell_type": "code",
   "execution_count": 132,
   "metadata": {},
   "outputs": [],
   "source": [
    "co2_global = pd.read_csv('./../co2_data/co2_global.csv')\n",
    "co2_global.set_index('Year', inplace=True)"
   ]
  },
  {
   "cell_type": "code",
   "execution_count": 133,
   "metadata": {},
   "outputs": [
    {
     "data": {
      "text/plain": [
       "[<matplotlib.lines.Line2D at 0x7f0250c9e5c0>]"
      ]
     },
     "execution_count": 133,
     "metadata": {},
     "output_type": "execute_result"
    },
    {
     "data": {
      "image/png": "[encoded data removed]",
      "text/plain": [
       "<Figure size 432x288 with 1 Axes>"
      ]
     },
     "metadata": {
      "needs_background": "light"
     },
     "output_type": "display_data"
    }
   ],
   "source": [
    "plt.plot(co2_global.index, co2_global.CO2)"
   ]
  },
  {
   "cell_type": "markdown",
   "metadata": {},
   "source": [
    "## Whole period"
   ]
  },
  {
   "cell_type": "code",
   "execution_count": 136,
   "metadata": {},
   "outputs": [],
   "source": [
    "co2_Rayner = co2_global.loc[1992:2012]"
   ]
  },
  {
   "cell_type": "code",
   "execution_count": 137,
   "metadata": {},
   "outputs": [
    {
     "data": {
      "text/plain": [
       "[<matplotlib.lines.Line2D at 0x7f0250c4ce80>]"
      ]
     },
     "execution_count": 137,
     "metadata": {},
     "output_type": "execute_result"
    },
    {
     "data": {
      "image/png": "[encoded data removed]",
      "text/plain": [
       "<Figure size 432x288 with 1 Axes>"
      ]
     },
     "metadata": {
      "needs_background": "light"
     },
     "output_type": "display_data"
    }
   ],
   "source": [
    "plt.plot(co2_Rayner.index, co2_Rayner.CO2-350)\n",
    "plt.plot(co2_Rayner.index, Rayner.earth_land_total)"
   ]
  },
  {
   "cell_type": "code",
   "execution_count": 139,
   "metadata": {},
   "outputs": [
    {
     "data": {
      "text/plain": [
       "<matplotlib.collections.PathCollection at 0x7f0250b377f0>"
      ]
     },
     "execution_count": 139,
     "metadata": {},
     "output_type": "execute_result"
    },
    {
     "data": {
      "image/png": "[encoded data removed]",
      "text/plain": [
       "<Figure size 432x288 with 1 Axes>"
      ]
     },
     "metadata": {
      "needs_background": "light"
     },
     "output_type": "display_data"
    }
   ],
   "source": [
    "plt.scatter(co2_Rayner.CO2, Rayner['earth_land_total'])"
   ]
  },
  {
   "cell_type": "code",
   "execution_count": 140,
   "metadata": {},
   "outputs": [
    {
     "name": "stdout",
     "output_type": "stream",
     "text": [
      "LinregressResult(slope=-0.04920333235283116, intercept=16.333328835891322, rvalue=-0.45203788370398973, pvalue=0.039657817932484546, stderr=0.022274456918048136)\n"
     ]
    },
    {
     "data": {
      "image/png": "[encoded data removed]",
      "text/plain": [
       "<Figure size 432x288 with 1 Axes>"
      ]
     },
     "metadata": {
      "needs_background": "light"
     },
     "output_type": "display_data"
    }
   ],
   "source": [
    "# Linear regression: global land uptake vs. time\n",
    "reg_land = stats.linregress(co2_Rayner.CO2, Rayner['earth_land_total'].astype(float))\n",
    "slope_land = reg_land[0]\n",
    "intercept_land = reg_land[1]\n",
    "\n",
    "line = slope_land*co2_Rayner.CO2+intercept_land\n",
    "\n",
    "plt.scatter(co2_Rayner.CO2, Rayner.earth_land_total)\n",
    "plt.plot(co2_Rayner.CO2, line, color ='r')\n",
    "print(reg_land)"
   ]
  },
  {
   "cell_type": "markdown",
   "metadata": {},
   "source": [
    "## Decade trend in regression"
   ]
  },
  {
   "cell_type": "code",
   "execution_count": 142,
   "metadata": {
    "scrolled": false
   },
   "outputs": [],
   "source": [
    "i = decade_sel(range(1992,2002))"
   ]
  },
  {
   "cell_type": "code",
   "execution_count": 153,
   "metadata": {},
   "outputs": [
    {
     "data": {
      "text/html": [
       "<div>\n",
       "<style scoped>\n",
       "    .dataframe tbody tr th:only-of-type {\n",
       "        vertical-align: middle;\n",
       "    }\n",
       "\n",
       "    .dataframe tbody tr th {\n",
       "        vertical-align: top;\n",
       "    }\n",
       "\n",
       "    .dataframe thead th {\n",
       "        text-align: right;\n",
       "    }\n",
       "</style>\n",
       "<table border=\"1\" class=\"dataframe\">\n",
       "  <thead>\n",
       "    <tr style=\"text-align: right;\">\n",
       "      <th></th>\n",
       "      <th>Year</th>\n",
       "      <th>earth_land_total</th>\n",
       "      <th>south_land_total</th>\n",
       "      <th>trop_land_total</th>\n",
       "      <th>north_land_total</th>\n",
       "      <th>earth_ocean_total</th>\n",
       "      <th>south_ocean_total</th>\n",
       "      <th>trop_ocean_total</th>\n",
       "      <th>north_ocean_total</th>\n",
       "    </tr>\n",
       "  </thead>\n",
       "  <tbody>\n",
       "    <tr>\n",
       "      <th>0</th>\n",
       "      <td>1992</td>\n",
       "      <td>-2.44695</td>\n",
       "      <td>0.224023</td>\n",
       "      <td>-0.81209</td>\n",
       "      <td>-1.85888</td>\n",
       "      <td>-0.252198</td>\n",
       "      <td>0.51051</td>\n",
       "      <td>-0.483421</td>\n",
       "      <td>-0.279286</td>\n",
       "    </tr>\n",
       "    <tr>\n",
       "      <th>1</th>\n",
       "      <td>1993</td>\n",
       "      <td>-3.34941</td>\n",
       "      <td>-0.368533</td>\n",
       "      <td>-0.369603</td>\n",
       "      <td>-2.61127</td>\n",
       "      <td>1.24133</td>\n",
       "      <td>1.07817</td>\n",
       "      <td>-0.0101273</td>\n",
       "      <td>0.173287</td>\n",
       "    </tr>\n",
       "    <tr>\n",
       "      <th>2</th>\n",
       "      <td>1994</td>\n",
       "      <td>-0.734497</td>\n",
       "      <td>0.292096</td>\n",
       "      <td>0.573278</td>\n",
       "      <td>-1.59987</td>\n",
       "      <td>0.112975</td>\n",
       "      <td>0.57777</td>\n",
       "      <td>-0.471583</td>\n",
       "      <td>0.00678795</td>\n",
       "    </tr>\n",
       "    <tr>\n",
       "      <th>3</th>\n",
       "      <td>1995</td>\n",
       "      <td>-0.811956</td>\n",
       "      <td>-0.244602</td>\n",
       "      <td>1.26042</td>\n",
       "      <td>-1.82777</td>\n",
       "      <td>0.225526</td>\n",
       "      <td>0.797611</td>\n",
       "      <td>-0.461935</td>\n",
       "      <td>-0.11015</td>\n",
       "    </tr>\n",
       "    <tr>\n",
       "      <th>4</th>\n",
       "      <td>1996</td>\n",
       "      <td>-2.30852</td>\n",
       "      <td>-0.238651</td>\n",
       "      <td>-0.371002</td>\n",
       "      <td>-1.69887</td>\n",
       "      <td>0.396192</td>\n",
       "      <td>0.74824</td>\n",
       "      <td>-0.334994</td>\n",
       "      <td>-0.017055</td>\n",
       "    </tr>\n",
       "    <tr>\n",
       "      <th>5</th>\n",
       "      <td>1997</td>\n",
       "      <td>-0.534001</td>\n",
       "      <td>0.393517</td>\n",
       "      <td>1.15454</td>\n",
       "      <td>-2.08206</td>\n",
       "      <td>-0.466631</td>\n",
       "      <td>0.221819</td>\n",
       "      <td>-0.617863</td>\n",
       "      <td>-0.0705875</td>\n",
       "    </tr>\n",
       "    <tr>\n",
       "      <th>6</th>\n",
       "      <td>1998</td>\n",
       "      <td>1.01841</td>\n",
       "      <td>0.683573</td>\n",
       "      <td>2.2621</td>\n",
       "      <td>-1.92727</td>\n",
       "      <td>-0.426082</td>\n",
       "      <td>0.18317</td>\n",
       "      <td>-0.629241</td>\n",
       "      <td>0.0199884</td>\n",
       "    </tr>\n",
       "    <tr>\n",
       "      <th>7</th>\n",
       "      <td>1999</td>\n",
       "      <td>-2.13609</td>\n",
       "      <td>0.0547002</td>\n",
       "      <td>0.197585</td>\n",
       "      <td>-2.38837</td>\n",
       "      <td>0.143578</td>\n",
       "      <td>0.500371</td>\n",
       "      <td>-0.428802</td>\n",
       "      <td>0.0720088</td>\n",
       "    </tr>\n",
       "    <tr>\n",
       "      <th>8</th>\n",
       "      <td>2000</td>\n",
       "      <td>-2.13503</td>\n",
       "      <td>-0.394168</td>\n",
       "      <td>0.295049</td>\n",
       "      <td>-2.03592</td>\n",
       "      <td>0.298124</td>\n",
       "      <td>0.549731</td>\n",
       "      <td>-0.291496</td>\n",
       "      <td>0.0398891</td>\n",
       "    </tr>\n",
       "    <tr>\n",
       "      <th>9</th>\n",
       "      <td>2001</td>\n",
       "      <td>-2.04285</td>\n",
       "      <td>-0.201406</td>\n",
       "      <td>0.290846</td>\n",
       "      <td>-2.13229</td>\n",
       "      <td>0.201494</td>\n",
       "      <td>0.691956</td>\n",
       "      <td>-0.46857</td>\n",
       "      <td>-0.0218921</td>\n",
       "    </tr>\n",
       "    <tr>\n",
       "      <th>10</th>\n",
       "      <td>2002</td>\n",
       "      <td>-0.415532</td>\n",
       "      <td>0.0792672</td>\n",
       "      <td>1.06597</td>\n",
       "      <td>-1.56077</td>\n",
       "      <td>0.0892122</td>\n",
       "      <td>0.768321</td>\n",
       "      <td>-0.471581</td>\n",
       "      <td>-0.207527</td>\n",
       "    </tr>\n",
       "    <tr>\n",
       "      <th>11</th>\n",
       "      <td>2003</td>\n",
       "      <td>-1.01934</td>\n",
       "      <td>-0.0331783</td>\n",
       "      <td>0.328092</td>\n",
       "      <td>-1.31425</td>\n",
       "      <td>-0.0198941</td>\n",
       "      <td>0.580932</td>\n",
       "      <td>-0.343404</td>\n",
       "      <td>-0.257422</td>\n",
       "    </tr>\n",
       "    <tr>\n",
       "      <th>12</th>\n",
       "      <td>2004</td>\n",
       "      <td>-2.48687</td>\n",
       "      <td>-0.0484896</td>\n",
       "      <td>0.0272704</td>\n",
       "      <td>-2.46565</td>\n",
       "      <td>0.189821</td>\n",
       "      <td>0.762688</td>\n",
       "      <td>-0.322493</td>\n",
       "      <td>-0.250374</td>\n",
       "    </tr>\n",
       "    <tr>\n",
       "      <th>13</th>\n",
       "      <td>2005</td>\n",
       "      <td>-0.965314</td>\n",
       "      <td>0.0869331</td>\n",
       "      <td>1.36334</td>\n",
       "      <td>-2.41559</td>\n",
       "      <td>-0.119464</td>\n",
       "      <td>0.462407</td>\n",
       "      <td>-0.426171</td>\n",
       "      <td>-0.1557</td>\n",
       "    </tr>\n",
       "    <tr>\n",
       "      <th>14</th>\n",
       "      <td>2006</td>\n",
       "      <td>-2.95286</td>\n",
       "      <td>-0.314295</td>\n",
       "      <td>-0.38331</td>\n",
       "      <td>-2.25526</td>\n",
       "      <td>-0.304833</td>\n",
       "      <td>0.583911</td>\n",
       "      <td>-0.614549</td>\n",
       "      <td>-0.274196</td>\n",
       "    </tr>\n",
       "    <tr>\n",
       "      <th>15</th>\n",
       "      <td>2007</td>\n",
       "      <td>-1.8193</td>\n",
       "      <td>-0.0369875</td>\n",
       "      <td>1.23391</td>\n",
       "      <td>-3.01622</td>\n",
       "      <td>-0.273511</td>\n",
       "      <td>0.546213</td>\n",
       "      <td>-0.441155</td>\n",
       "      <td>-0.378569</td>\n",
       "    </tr>\n",
       "    <tr>\n",
       "      <th>16</th>\n",
       "      <td>2008</td>\n",
       "      <td>-3.523</td>\n",
       "      <td>-0.154689</td>\n",
       "      <td>-0.337786</td>\n",
       "      <td>-3.03052</td>\n",
       "      <td>0.0924152</td>\n",
       "      <td>0.607006</td>\n",
       "      <td>-0.401914</td>\n",
       "      <td>-0.112676</td>\n",
       "    </tr>\n",
       "    <tr>\n",
       "      <th>17</th>\n",
       "      <td>2009</td>\n",
       "      <td>-3.00637</td>\n",
       "      <td>-0.284022</td>\n",
       "      <td>0.609948</td>\n",
       "      <td>-3.3323</td>\n",
       "      <td>-0.396403</td>\n",
       "      <td>0.388138</td>\n",
       "      <td>-0.550843</td>\n",
       "      <td>-0.233699</td>\n",
       "    </tr>\n",
       "    <tr>\n",
       "      <th>18</th>\n",
       "      <td>2010</td>\n",
       "      <td>-2.5141</td>\n",
       "      <td>-0.0526179</td>\n",
       "      <td>0.238653</td>\n",
       "      <td>-2.70013</td>\n",
       "      <td>0.0325817</td>\n",
       "      <td>0.409943</td>\n",
       "      <td>-0.362167</td>\n",
       "      <td>-0.015194</td>\n",
       "    </tr>\n",
       "    <tr>\n",
       "      <th>19</th>\n",
       "      <td>2011</td>\n",
       "      <td>-4.19234</td>\n",
       "      <td>-0.723568</td>\n",
       "      <td>-0.548307</td>\n",
       "      <td>-2.92046</td>\n",
       "      <td>0.179385</td>\n",
       "      <td>0.621704</td>\n",
       "      <td>-0.330879</td>\n",
       "      <td>-0.11144</td>\n",
       "    </tr>\n",
       "    <tr>\n",
       "      <th>20</th>\n",
       "      <td>2012</td>\n",
       "      <td>-2.76836</td>\n",
       "      <td>-0.119956</td>\n",
       "      <td>0.630373</td>\n",
       "      <td>-3.27878</td>\n",
       "      <td>-0.119651</td>\n",
       "      <td>0.339171</td>\n",
       "      <td>-0.356249</td>\n",
       "      <td>-0.102574</td>\n",
       "    </tr>\n",
       "  </tbody>\n",
       "</table>\n",
       "</div>"
      ],
      "text/plain": [
       "    Year earth_land_total south_land_total trop_land_total north_land_total  \\\n",
       "0   1992         -2.44695         0.224023        -0.81209         -1.85888   \n",
       "1   1993         -3.34941        -0.368533       -0.369603         -2.61127   \n",
       "2   1994        -0.734497         0.292096        0.573278         -1.59987   \n",
       "3   1995        -0.811956        -0.244602         1.26042         -1.82777   \n",
       "4   1996         -2.30852        -0.238651       -0.371002         -1.69887   \n",
       "5   1997        -0.534001         0.393517         1.15454         -2.08206   \n",
       "6   1998          1.01841         0.683573          2.2621         -1.92727   \n",
       "7   1999         -2.13609        0.0547002        0.197585         -2.38837   \n",
       "8   2000         -2.13503        -0.394168        0.295049         -2.03592   \n",
       "9   2001         -2.04285        -0.201406        0.290846         -2.13229   \n",
       "10  2002        -0.415532        0.0792672         1.06597         -1.56077   \n",
       "11  2003         -1.01934       -0.0331783        0.328092         -1.31425   \n",
       "12  2004         -2.48687       -0.0484896       0.0272704         -2.46565   \n",
       "13  2005        -0.965314        0.0869331         1.36334         -2.41559   \n",
       "14  2006         -2.95286        -0.314295        -0.38331         -2.25526   \n",
       "15  2007          -1.8193       -0.0369875         1.23391         -3.01622   \n",
       "16  2008           -3.523        -0.154689       -0.337786         -3.03052   \n",
       "17  2009         -3.00637        -0.284022        0.609948          -3.3323   \n",
       "18  2010          -2.5141       -0.0526179        0.238653         -2.70013   \n",
       "19  2011         -4.19234        -0.723568       -0.548307         -2.92046   \n",
       "20  2012         -2.76836        -0.119956        0.630373         -3.27878   \n",
       "\n",
       "   earth_ocean_total south_ocean_total trop_ocean_total north_ocean_total  \n",
       "0          -0.252198           0.51051        -0.483421         -0.279286  \n",
       "1            1.24133           1.07817       -0.0101273          0.173287  \n",
       "2           0.112975           0.57777        -0.471583        0.00678795  \n",
       "3           0.225526          0.797611        -0.461935          -0.11015  \n",
       "4           0.396192           0.74824        -0.334994         -0.017055  \n",
       "5          -0.466631          0.221819        -0.617863        -0.0705875  \n",
       "6          -0.426082           0.18317        -0.629241         0.0199884  \n",
       "7           0.143578          0.500371        -0.428802         0.0720088  \n",
       "8           0.298124          0.549731        -0.291496         0.0398891  \n",
       "9           0.201494          0.691956         -0.46857        -0.0218921  \n",
       "10         0.0892122          0.768321        -0.471581         -0.207527  \n",
       "11        -0.0198941          0.580932        -0.343404         -0.257422  \n",
       "12          0.189821          0.762688        -0.322493         -0.250374  \n",
       "13         -0.119464          0.462407        -0.426171           -0.1557  \n",
       "14         -0.304833          0.583911        -0.614549         -0.274196  \n",
       "15         -0.273511          0.546213        -0.441155         -0.378569  \n",
       "16         0.0924152          0.607006        -0.401914         -0.112676  \n",
       "17         -0.396403          0.388138        -0.550843         -0.233699  \n",
       "18         0.0325817          0.409943        -0.362167         -0.015194  \n",
       "19          0.179385          0.621704        -0.330879          -0.11144  \n",
       "20         -0.119651          0.339171        -0.356249         -0.102574  "
      ]
     },
     "execution_count": 153,
     "metadata": {},
     "output_type": "execute_result"
    }
   ],
   "source": [
    "Rayner"
   ]
  },
  {
   "cell_type": "code",
   "execution_count": 143,
   "metadata": {
    "scrolled": true
   },
   "outputs": [
    {
     "ename": "KeyError",
     "evalue": "'None of [[0, 1, 2, 3, 4, 5, 6, 7, 8, 9]] are in the [index]'",
     "output_type": "error",
     "traceback": [
      "\u001b[0;31m---------------------------------------------------------------------------\u001b[0m",
      "\u001b[0;31mKeyError\u001b[0m                                  Traceback (most recent call last)",
      "\u001b[0;32m<ipython-input-143-865dc6e46a2b>\u001b[0m in \u001b[0;36m<module>\u001b[0;34m\u001b[0m\n\u001b[0;32m----> 1\u001b[0;31m \u001b[0mreg_land\u001b[0m \u001b[0;34m=\u001b[0m \u001b[0mstats\u001b[0m\u001b[0;34m.\u001b[0m\u001b[0mlinregress\u001b[0m\u001b[0;34m(\u001b[0m\u001b[0mco2_Rayner\u001b[0m\u001b[0;34m.\u001b[0m\u001b[0mCO2\u001b[0m\u001b[0;34m[\u001b[0m\u001b[0mi\u001b[0m\u001b[0;34m]\u001b[0m\u001b[0;34m,\u001b[0m \u001b[0mRayner\u001b[0m\u001b[0;34m[\u001b[0m\u001b[0;34m'earth_land_total'\u001b[0m\u001b[0;34m]\u001b[0m\u001b[0;34m.\u001b[0m\u001b[0mastype\u001b[0m\u001b[0;34m(\u001b[0m\u001b[0mfloat\u001b[0m\u001b[0;34m)\u001b[0m\u001b[0;34m[\u001b[0m\u001b[0mi\u001b[0m\u001b[0;34m]\u001b[0m\u001b[0;34m)\u001b[0m\u001b[0;34m\u001b[0m\u001b[0;34m\u001b[0m\u001b[0m\n\u001b[0m\u001b[1;32m      2\u001b[0m \u001b[0mslope_land\u001b[0m \u001b[0;34m=\u001b[0m \u001b[0mreg_land\u001b[0m\u001b[0;34m[\u001b[0m\u001b[0;36m0\u001b[0m\u001b[0;34m]\u001b[0m\u001b[0;34m\u001b[0m\u001b[0;34m\u001b[0m\u001b[0m\n\u001b[1;32m      3\u001b[0m \u001b[0mintercept_land\u001b[0m \u001b[0;34m=\u001b[0m \u001b[0mreg_land\u001b[0m\u001b[0;34m[\u001b[0m\u001b[0;36m1\u001b[0m\u001b[0;34m]\u001b[0m\u001b[0;34m\u001b[0m\u001b[0;34m\u001b[0m\u001b[0m\n\u001b[1;32m      4\u001b[0m \u001b[0;34m\u001b[0m\u001b[0m\n\u001b[1;32m      5\u001b[0m \u001b[0mline_ii\u001b[0m \u001b[0;34m=\u001b[0m \u001b[0mslope_land\u001b[0m\u001b[0;34m*\u001b[0m\u001b[0mco2_Rayner\u001b[0m\u001b[0;34m.\u001b[0m\u001b[0mCO2\u001b[0m\u001b[0;34m[\u001b[0m\u001b[0mi\u001b[0m\u001b[0;34m]\u001b[0m\u001b[0;34m+\u001b[0m\u001b[0mintercept_land\u001b[0m\u001b[0;34m\u001b[0m\u001b[0;34m\u001b[0m\u001b[0m\n",
      "\u001b[0;32m~/anaconda3/lib/python3.7/site-packages/pandas/core/series.py\u001b[0m in \u001b[0;36m__getitem__\u001b[0;34m(self, key)\u001b[0m\n\u001b[1;32m    808\u001b[0m             \u001b[0mkey\u001b[0m \u001b[0;34m=\u001b[0m \u001b[0mcheck_bool_indexer\u001b[0m\u001b[0;34m(\u001b[0m\u001b[0mself\u001b[0m\u001b[0;34m.\u001b[0m\u001b[0mindex\u001b[0m\u001b[0;34m,\u001b[0m \u001b[0mkey\u001b[0m\u001b[0;34m)\u001b[0m\u001b[0;34m\u001b[0m\u001b[0;34m\u001b[0m\u001b[0m\n\u001b[1;32m    809\u001b[0m \u001b[0;34m\u001b[0m\u001b[0m\n\u001b[0;32m--> 810\u001b[0;31m         \u001b[0;32mreturn\u001b[0m \u001b[0mself\u001b[0m\u001b[0;34m.\u001b[0m\u001b[0m_get_with\u001b[0m\u001b[0;34m(\u001b[0m\u001b[0mkey\u001b[0m\u001b[0;34m)\u001b[0m\u001b[0;34m\u001b[0m\u001b[0;34m\u001b[0m\u001b[0m\n\u001b[0m\u001b[1;32m    811\u001b[0m \u001b[0;34m\u001b[0m\u001b[0m\n\u001b[1;32m    812\u001b[0m     \u001b[0;32mdef\u001b[0m \u001b[0m_get_with\u001b[0m\u001b[0;34m(\u001b[0m\u001b[0mself\u001b[0m\u001b[0;34m,\u001b[0m \u001b[0mkey\u001b[0m\u001b[0;34m)\u001b[0m\u001b[0;34m:\u001b[0m\u001b[0;34m\u001b[0m\u001b[0;34m\u001b[0m\u001b[0m\n",
      "\u001b[0;32m~/anaconda3/lib/python3.7/site-packages/pandas/core/series.py\u001b[0m in \u001b[0;36m_get_with\u001b[0;34m(self, key)\u001b[0m\n\u001b[1;32m    840\u001b[0m             \u001b[0;32mif\u001b[0m \u001b[0mkey_type\u001b[0m \u001b[0;34m==\u001b[0m \u001b[0;34m'integer'\u001b[0m\u001b[0;34m:\u001b[0m\u001b[0;34m\u001b[0m\u001b[0;34m\u001b[0m\u001b[0m\n\u001b[1;32m    841\u001b[0m                 \u001b[0;32mif\u001b[0m \u001b[0mself\u001b[0m\u001b[0;34m.\u001b[0m\u001b[0mindex\u001b[0m\u001b[0;34m.\u001b[0m\u001b[0mis_integer\u001b[0m\u001b[0;34m(\u001b[0m\u001b[0;34m)\u001b[0m \u001b[0;32mor\u001b[0m \u001b[0mself\u001b[0m\u001b[0;34m.\u001b[0m\u001b[0mindex\u001b[0m\u001b[0;34m.\u001b[0m\u001b[0mis_floating\u001b[0m\u001b[0;34m(\u001b[0m\u001b[0;34m)\u001b[0m\u001b[0;34m:\u001b[0m\u001b[0;34m\u001b[0m\u001b[0;34m\u001b[0m\u001b[0m\n\u001b[0;32m--> 842\u001b[0;31m                     \u001b[0;32mreturn\u001b[0m \u001b[0mself\u001b[0m\u001b[0;34m.\u001b[0m\u001b[0mloc\u001b[0m\u001b[0;34m[\u001b[0m\u001b[0mkey\u001b[0m\u001b[0;34m]\u001b[0m\u001b[0;34m\u001b[0m\u001b[0;34m\u001b[0m\u001b[0m\n\u001b[0m\u001b[1;32m    843\u001b[0m                 \u001b[0;32melse\u001b[0m\u001b[0;34m:\u001b[0m\u001b[0;34m\u001b[0m\u001b[0;34m\u001b[0m\u001b[0m\n\u001b[1;32m    844\u001b[0m                     \u001b[0;32mreturn\u001b[0m \u001b[0mself\u001b[0m\u001b[0;34m.\u001b[0m\u001b[0m_get_values\u001b[0m\u001b[0;34m(\u001b[0m\u001b[0mkey\u001b[0m\u001b[0;34m)\u001b[0m\u001b[0;34m\u001b[0m\u001b[0;34m\u001b[0m\u001b[0m\n",
      "\u001b[0;32m~/anaconda3/lib/python3.7/site-packages/pandas/core/indexing.py\u001b[0m in \u001b[0;36m__getitem__\u001b[0;34m(self, key)\u001b[0m\n\u001b[1;32m   1476\u001b[0m \u001b[0;34m\u001b[0m\u001b[0m\n\u001b[1;32m   1477\u001b[0m             \u001b[0mmaybe_callable\u001b[0m \u001b[0;34m=\u001b[0m \u001b[0mcom\u001b[0m\u001b[0;34m.\u001b[0m\u001b[0m_apply_if_callable\u001b[0m\u001b[0;34m(\u001b[0m\u001b[0mkey\u001b[0m\u001b[0;34m,\u001b[0m \u001b[0mself\u001b[0m\u001b[0;34m.\u001b[0m\u001b[0mobj\u001b[0m\u001b[0;34m)\u001b[0m\u001b[0;34m\u001b[0m\u001b[0;34m\u001b[0m\u001b[0m\n\u001b[0;32m-> 1478\u001b[0;31m             \u001b[0;32mreturn\u001b[0m \u001b[0mself\u001b[0m\u001b[0;34m.\u001b[0m\u001b[0m_getitem_axis\u001b[0m\u001b[0;34m(\u001b[0m\u001b[0mmaybe_callable\u001b[0m\u001b[0;34m,\u001b[0m \u001b[0maxis\u001b[0m\u001b[0;34m=\u001b[0m\u001b[0maxis\u001b[0m\u001b[0;34m)\u001b[0m\u001b[0;34m\u001b[0m\u001b[0;34m\u001b[0m\u001b[0m\n\u001b[0m\u001b[1;32m   1479\u001b[0m \u001b[0;34m\u001b[0m\u001b[0m\n\u001b[1;32m   1480\u001b[0m     \u001b[0;32mdef\u001b[0m \u001b[0m_is_scalar_access\u001b[0m\u001b[0;34m(\u001b[0m\u001b[0mself\u001b[0m\u001b[0;34m,\u001b[0m \u001b[0mkey\u001b[0m\u001b[0;34m)\u001b[0m\u001b[0;34m:\u001b[0m\u001b[0;34m\u001b[0m\u001b[0;34m\u001b[0m\u001b[0m\n",
      "\u001b[0;32m~/anaconda3/lib/python3.7/site-packages/pandas/core/indexing.py\u001b[0m in \u001b[0;36m_getitem_axis\u001b[0;34m(self, key, axis)\u001b[0m\n\u001b[1;32m   1899\u001b[0m                     \u001b[0;32mraise\u001b[0m \u001b[0mValueError\u001b[0m\u001b[0;34m(\u001b[0m\u001b[0;34m'Cannot index with multidimensional key'\u001b[0m\u001b[0;34m)\u001b[0m\u001b[0;34m\u001b[0m\u001b[0;34m\u001b[0m\u001b[0m\n\u001b[1;32m   1900\u001b[0m \u001b[0;34m\u001b[0m\u001b[0m\n\u001b[0;32m-> 1901\u001b[0;31m                 \u001b[0;32mreturn\u001b[0m \u001b[0mself\u001b[0m\u001b[0;34m.\u001b[0m\u001b[0m_getitem_iterable\u001b[0m\u001b[0;34m(\u001b[0m\u001b[0mkey\u001b[0m\u001b[0;34m,\u001b[0m \u001b[0maxis\u001b[0m\u001b[0;34m=\u001b[0m\u001b[0maxis\u001b[0m\u001b[0;34m)\u001b[0m\u001b[0;34m\u001b[0m\u001b[0;34m\u001b[0m\u001b[0m\n\u001b[0m\u001b[1;32m   1902\u001b[0m \u001b[0;34m\u001b[0m\u001b[0m\n\u001b[1;32m   1903\u001b[0m             \u001b[0;31m# nested tuple slicing\u001b[0m\u001b[0;34m\u001b[0m\u001b[0;34m\u001b[0m\u001b[0;34m\u001b[0m\u001b[0m\n",
      "\u001b[0;32m~/anaconda3/lib/python3.7/site-packages/pandas/core/indexing.py\u001b[0m in \u001b[0;36m_getitem_iterable\u001b[0;34m(self, key, axis)\u001b[0m\n\u001b[1;32m   1141\u001b[0m             \u001b[0;32mif\u001b[0m \u001b[0mlabels\u001b[0m\u001b[0;34m.\u001b[0m\u001b[0mis_unique\u001b[0m \u001b[0;32mand\u001b[0m \u001b[0mIndex\u001b[0m\u001b[0;34m(\u001b[0m\u001b[0mkeyarr\u001b[0m\u001b[0;34m)\u001b[0m\u001b[0;34m.\u001b[0m\u001b[0mis_unique\u001b[0m\u001b[0;34m:\u001b[0m\u001b[0;34m\u001b[0m\u001b[0;34m\u001b[0m\u001b[0m\n\u001b[1;32m   1142\u001b[0m                 \u001b[0mindexer\u001b[0m \u001b[0;34m=\u001b[0m \u001b[0max\u001b[0m\u001b[0;34m.\u001b[0m\u001b[0mget_indexer_for\u001b[0m\u001b[0;34m(\u001b[0m\u001b[0mkey\u001b[0m\u001b[0;34m)\u001b[0m\u001b[0;34m\u001b[0m\u001b[0;34m\u001b[0m\u001b[0m\n\u001b[0;32m-> 1143\u001b[0;31m                 \u001b[0mself\u001b[0m\u001b[0;34m.\u001b[0m\u001b[0m_validate_read_indexer\u001b[0m\u001b[0;34m(\u001b[0m\u001b[0mkey\u001b[0m\u001b[0;34m,\u001b[0m \u001b[0mindexer\u001b[0m\u001b[0;34m,\u001b[0m \u001b[0maxis\u001b[0m\u001b[0;34m)\u001b[0m\u001b[0;34m\u001b[0m\u001b[0;34m\u001b[0m\u001b[0m\n\u001b[0m\u001b[1;32m   1144\u001b[0m \u001b[0;34m\u001b[0m\u001b[0m\n\u001b[1;32m   1145\u001b[0m                 \u001b[0md\u001b[0m \u001b[0;34m=\u001b[0m \u001b[0;34m{\u001b[0m\u001b[0maxis\u001b[0m\u001b[0;34m:\u001b[0m \u001b[0;34m[\u001b[0m\u001b[0max\u001b[0m\u001b[0;34m.\u001b[0m\u001b[0mreindex\u001b[0m\u001b[0;34m(\u001b[0m\u001b[0mkeyarr\u001b[0m\u001b[0;34m)\u001b[0m\u001b[0;34m[\u001b[0m\u001b[0;36m0\u001b[0m\u001b[0;34m]\u001b[0m\u001b[0;34m,\u001b[0m \u001b[0mindexer\u001b[0m\u001b[0;34m]\u001b[0m\u001b[0;34m}\u001b[0m\u001b[0;34m\u001b[0m\u001b[0;34m\u001b[0m\u001b[0m\n",
      "\u001b[0;32m~/anaconda3/lib/python3.7/site-packages/pandas/core/indexing.py\u001b[0m in \u001b[0;36m_validate_read_indexer\u001b[0;34m(self, key, indexer, axis)\u001b[0m\n\u001b[1;32m   1204\u001b[0m                 raise KeyError(\n\u001b[1;32m   1205\u001b[0m                     u\"None of [{key}] are in the [{axis}]\".format(\n\u001b[0;32m-> 1206\u001b[0;31m                         key=key, axis=self.obj._get_axis_name(axis)))\n\u001b[0m\u001b[1;32m   1207\u001b[0m \u001b[0;34m\u001b[0m\u001b[0m\n\u001b[1;32m   1208\u001b[0m             \u001b[0;31m# we skip the warning on Categorical/Interval\u001b[0m\u001b[0;34m\u001b[0m\u001b[0;34m\u001b[0m\u001b[0;34m\u001b[0m\u001b[0m\n",
      "\u001b[0;31mKeyError\u001b[0m: 'None of [[0, 1, 2, 3, 4, 5, 6, 7, 8, 9]] are in the [index]'"
     ]
    }
   ],
   "source": [
    "reg_land = stats.linregress(co2_Rayner.loc[1992:2002].CO2, Rayner['earth_land_total'].astype(float)[i])\n",
    "slope_land = reg_land[0]\n",
    "intercept_land = reg_land[1]\n",
    "\n",
    "line_ii = slope_land*co2_Rayner.loc[1992:2002].CO2+intercept_land\n",
    "\n",
    "plt.scatter(co2_Rayner.CO2[i], Rayner.earth_land_total[i])\n",
    "plt.plot(co2_Rayner.CO2[i], line_ii, color ='r')\n",
    "print(reg_land)"
   ]
  },
  {
   "cell_type": "code",
   "execution_count": 37,
   "metadata": {
    "scrolled": false
   },
   "outputs": [],
   "source": [
    "j = decade_sel(range(2002,2013))"
   ]
  },
  {
   "cell_type": "code",
   "execution_count": 38,
   "metadata": {
    "scrolled": true
   },
   "outputs": [
    {
     "name": "stdout",
     "output_type": "stream",
     "text": [
      "LinregressResult(slope=-0.013089926820294754, intercept=4.816012558459486, rvalue=-0.2301249167799863, pvalue=0.007942307160194699, stderr=0.004854970973702247)\n"
     ]
    },
    {
     "data": {
      "image/png": "[encoded data removed]",
      "text/plain": [
       "<Figure size 432x288 with 1 Axes>"
      ]
     },
     "metadata": {
      "needs_background": "light"
     },
     "output_type": "display_data"
    }
   ],
   "source": [
    "reg_land = stats.linregress(co2_Rayner.CO2[j], Rayner['earth_land_total'].astype(float)[j])\n",
    "slope_land = reg_land[0]\n",
    "intercept_land = reg_land[1]\n",
    "\n",
    "line_jj = slope_land*co2_Rayner.CO2[j]+intercept_land\n",
    "\n",
    "plt.scatter(co2_Rayner.CO2[j], Rayner.earth_land_total[j])\n",
    "plt.plot(co2_Rayner.CO2[j], line_jj, color ='r')\n",
    "print(reg_land)"
   ]
  },
  {
   "cell_type": "markdown",
   "metadata": {},
   "source": [
    "### Linear regression anomaly plot: decades"
   ]
  },
  {
   "cell_type": "code",
   "execution_count": 39,
   "metadata": {},
   "outputs": [
    {
     "name": "stdout",
     "output_type": "stream",
     "text": [
      "0.3594069670015973\n"
     ]
    },
    {
     "data": {
      "image/png": "[encoded data removed]",
      "text/plain": [
       "<Figure size 432x288 with 1 Axes>"
      ]
     },
     "metadata": {
      "needs_background": "light"
     },
     "output_type": "display_data"
    }
   ],
   "source": [
    "plt.scatter(co2_Rayner.CO2[i], Rayner.earth_land_total[i]-line_ii)\n",
    "print((Rayner.earth_land_total[i]-line_ii).std())"
   ]
  },
  {
   "cell_type": "code",
   "execution_count": 40,
   "metadata": {
    "scrolled": true
   },
   "outputs": [
    {
     "name": "stdout",
     "output_type": "stream",
     "text": [
      "0.359582518102512\n"
     ]
    },
    {
     "data": {
      "image/png": "[encoded data removed]",
      "text/plain": [
       "<Figure size 432x288 with 1 Axes>"
      ]
     },
     "metadata": {
      "needs_background": "light"
     },
     "output_type": "display_data"
    }
   ],
   "source": [
    "plt.scatter(co2_Rayner.CO2[j], Rayner.earth_land_total[j]-line_jj)\n",
    "print((Rayner.earth_land_total[j]-line_jj).std())"
   ]
  },
  {
   "cell_type": "code",
   "execution_count": null,
   "metadata": {},
   "outputs": [],
   "source": []
  }
 ],
 "metadata": {
  "kernelspec": {
   "display_name": "Python 3",
   "language": "python",
   "name": "python3"
  },
  "language_info": {
   "codemirror_mode": {
    "name": "ipython",
    "version": 3
   },
   "file_extension": ".py",
   "mimetype": "text/x-python",
   "name": "python",
   "nbconvert_exporter": "python",
   "pygments_lexer": "ipython3",
   "version": "3.7.1"
  },
  "toc": {
   "base_numbering": 1,
   "nav_menu": {},
   "number_sections": true,
   "sideBar": true,
   "skip_h1_title": false,
   "title_cell": "Table of Contents",
   "title_sidebar": "Contents",
   "toc_cell": false,
   "toc_position": {},
   "toc_section_display": true,
   "toc_window_display": true
  }
 },
 "nbformat": 4,
 "nbformat_minor": 2
}
