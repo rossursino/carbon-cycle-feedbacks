{
 "cells": [
  {
   "cell_type": "code",
   "execution_count": 15,
   "metadata": {
    "init_cell": true
   },
   "outputs": [],
   "source": [
    "import numpy as np\n",
    "import pandas as pd\n",
    "import xarray as xr\n",
    "import pickle\n",
    "import scipy\n",
    "from scipy import stats\n",
    "import matplotlib.pyplot as plt"
   ]
  },
  {
   "cell_type": "code",
   "execution_count": 16,
   "metadata": {
    "init_cell": true
   },
   "outputs": [
    {
     "data": {
      "text/html": [
       "<div>\n",
       "<style scoped>\n",
       "    .dataframe tbody tr th:only-of-type {\n",
       "        vertical-align: middle;\n",
       "    }\n",
       "\n",
       "    .dataframe tbody tr th {\n",
       "        vertical-align: top;\n",
       "    }\n",
       "\n",
       "    .dataframe thead th {\n",
       "        text-align: right;\n",
       "    }\n",
       "</style>\n",
       "<table border=\"1\" class=\"dataframe\">\n",
       "  <thead>\n",
       "    <tr style=\"text-align: right;\">\n",
       "      <th></th>\n",
       "      <th>ocean sink</th>\n",
       "      <th>land sink</th>\n",
       "      <th>budget imbalance</th>\n",
       "    </tr>\n",
       "    <tr>\n",
       "      <th>Year</th>\n",
       "      <th></th>\n",
       "      <th></th>\n",
       "      <th></th>\n",
       "    </tr>\n",
       "  </thead>\n",
       "  <tbody>\n",
       "    <tr>\n",
       "      <th>1959</th>\n",
       "      <td>0.852376</td>\n",
       "      <td>0.516073</td>\n",
       "      <td>0.860316</td>\n",
       "    </tr>\n",
       "    <tr>\n",
       "      <th>1960</th>\n",
       "      <td>0.819017</td>\n",
       "      <td>1.394030</td>\n",
       "      <td>0.522722</td>\n",
       "    </tr>\n",
       "    <tr>\n",
       "      <th>1961</th>\n",
       "      <td>0.714842</td>\n",
       "      <td>0.605098</td>\n",
       "      <td>1.213762</td>\n",
       "    </tr>\n",
       "    <tr>\n",
       "      <th>1962</th>\n",
       "      <td>0.756709</td>\n",
       "      <td>1.348349</td>\n",
       "      <td>0.959605</td>\n",
       "    </tr>\n",
       "    <tr>\n",
       "      <th>1963</th>\n",
       "      <td>0.904997</td>\n",
       "      <td>0.877794</td>\n",
       "      <td>1.355333</td>\n",
       "    </tr>\n",
       "  </tbody>\n",
       "</table>\n",
       "</div>"
      ],
      "text/plain": [
       "      ocean sink  land sink  budget imbalance\n",
       "Year                                         \n",
       "1959    0.852376   0.516073          0.860316\n",
       "1960    0.819017   1.394030          0.522722\n",
       "1961    0.714842   0.605098          1.213762\n",
       "1962    0.756709   1.348349          0.959605\n",
       "1963    0.904997   0.877794          1.355333"
      ]
     },
     "execution_count": 16,
     "metadata": {},
     "output_type": "execute_result"
    }
   ],
   "source": [
    "GCP = pd.read_csv(\"./../../Prelim_Data_Analysis/gcb_data/budget.csv\",\n",
    "                  index_col=0,\n",
    "                  usecols=[0,4,5,6]\n",
    "                 )\n",
    "GCP.head()"
   ]
  },
  {
   "cell_type": "code",
   "execution_count": 17,
   "metadata": {
    "init_cell": true
   },
   "outputs": [],
   "source": [
    "GCP['CO2'] = pd.read_csv(\"./../co2_temp_data/co2/co2_global.csv\", index_col=0, header=0)[2:]\n",
    "GCP['land sink'] = -GCP['land sink']\n",
    "GCP['ocean sink'] = -GCP['ocean sink']\n",
    "GCP['budget imbalance'] = -GCP[\"budget imbalance\"] + GCP['land sink']\n",
    "GCP.rename(columns={\"ocean sink\": \"ocean\",\n",
    "                    \"land sink\": \"land (model)\",\n",
    "                    \"budget imbalance\": \"land\"\n",
    "                   },\n",
    "           inplace=True)"
   ]
  },
  {
   "cell_type": "code",
   "execution_count": 18,
   "metadata": {
    "init_cell": true
   },
   "outputs": [
    {
     "data": {
      "text/html": [
       "<div>\n",
       "<style scoped>\n",
       "    .dataframe tbody tr th:only-of-type {\n",
       "        vertical-align: middle;\n",
       "    }\n",
       "\n",
       "    .dataframe tbody tr th {\n",
       "        vertical-align: top;\n",
       "    }\n",
       "\n",
       "    .dataframe thead th {\n",
       "        text-align: right;\n",
       "    }\n",
       "</style>\n",
       "<table border=\"1\" class=\"dataframe\">\n",
       "  <thead>\n",
       "    <tr style=\"text-align: right;\">\n",
       "      <th></th>\n",
       "      <th>ocean</th>\n",
       "      <th>land (model)</th>\n",
       "      <th>land</th>\n",
       "      <th>CO2</th>\n",
       "    </tr>\n",
       "    <tr>\n",
       "      <th>Year</th>\n",
       "      <th></th>\n",
       "      <th></th>\n",
       "      <th></th>\n",
       "      <th></th>\n",
       "    </tr>\n",
       "  </thead>\n",
       "  <tbody>\n",
       "    <tr>\n",
       "      <th>1959</th>\n",
       "      <td>-0.852376</td>\n",
       "      <td>-0.516073</td>\n",
       "      <td>-1.376389</td>\n",
       "      <td>315.486</td>\n",
       "    </tr>\n",
       "    <tr>\n",
       "      <th>1960</th>\n",
       "      <td>-0.819017</td>\n",
       "      <td>-1.394030</td>\n",
       "      <td>-1.916752</td>\n",
       "      <td>316.163</td>\n",
       "    </tr>\n",
       "    <tr>\n",
       "      <th>1961</th>\n",
       "      <td>-0.714842</td>\n",
       "      <td>-0.605098</td>\n",
       "      <td>-1.818860</td>\n",
       "      <td>316.856</td>\n",
       "    </tr>\n",
       "    <tr>\n",
       "      <th>1962</th>\n",
       "      <td>-0.756709</td>\n",
       "      <td>-1.348349</td>\n",
       "      <td>-2.307954</td>\n",
       "      <td>317.558</td>\n",
       "    </tr>\n",
       "    <tr>\n",
       "      <th>1963</th>\n",
       "      <td>-0.904997</td>\n",
       "      <td>-0.877794</td>\n",
       "      <td>-2.233127</td>\n",
       "      <td>318.268</td>\n",
       "    </tr>\n",
       "  </tbody>\n",
       "</table>\n",
       "</div>"
      ],
      "text/plain": [
       "         ocean  land (model)      land      CO2\n",
       "Year                                           \n",
       "1959 -0.852376     -0.516073 -1.376389  315.486\n",
       "1960 -0.819017     -1.394030 -1.916752  316.163\n",
       "1961 -0.714842     -0.605098 -1.818860  316.856\n",
       "1962 -0.756709     -1.348349 -2.307954  317.558\n",
       "1963 -0.904997     -0.877794 -2.233127  318.268"
      ]
     },
     "execution_count": 18,
     "metadata": {},
     "output_type": "execute_result"
    }
   ],
   "source": [
    "GCP.head()"
   ]
  },
  {
   "cell_type": "code",
   "execution_count": 5,
   "metadata": {},
   "outputs": [
    {
     "data": {
      "text/plain": [
       "[<matplotlib.lines.Line2D at 0x7f2dc4148e10>]"
      ]
     },
     "execution_count": 5,
     "metadata": {},
     "output_type": "execute_result"
    },
    {
     "data": {
      "image/png": "[encoded data removed]",
      "text/plain": [
       "<Figure size 432x288 with 1 Axes>"
      ]
     },
     "metadata": {
      "needs_background": "light"
     },
     "output_type": "display_data"
    }
   ],
   "source": [
    "plt.plot(GCP.land)"
   ]
  },
  {
   "cell_type": "markdown",
   "metadata": {},
   "source": [
    "# Mann-Kendall Test"
   ]
  },
  {
   "cell_type": "markdown",
   "metadata": {},
   "source": [
    "https://vsp.pnnl.gov/help/Vsample/Design_Trend_Mann_Kendall.htm"
   ]
  },
  {
   "cell_type": "markdown",
   "metadata": {},
   "source": [
    "Example"
   ]
  },
  {
   "cell_type": "code",
   "execution_count": 6,
   "metadata": {},
   "outputs": [],
   "source": [
    "# STEP 1\n",
    "x = np.array([0,3,2,4,3])"
   ]
  },
  {
   "cell_type": "code",
   "execution_count": 7,
   "metadata": {},
   "outputs": [],
   "source": [
    "# STEP 2"
   ]
  },
  {
   "cell_type": "code",
   "execution_count": 8,
   "metadata": {},
   "outputs": [],
   "source": [
    "expected_result = [[1,1,1,1], [-1,1,0], [1,1], [-1]]"
   ]
  },
  {
   "cell_type": "code",
   "execution_count": 9,
   "metadata": {},
   "outputs": [],
   "source": [
    "result = []\n",
    "for k in range(len(x)):\n",
    "    sub = []\n",
    "    for j in range(len(x)):\n",
    "        if j > k:\n",
    "            sub.append(np.sign(x[j] - x[k]))\n",
    "    if len(sub) != 0:\n",
    "        result.append(sub)"
   ]
  },
  {
   "cell_type": "code",
   "execution_count": 10,
   "metadata": {},
   "outputs": [
    {
     "data": {
      "text/plain": [
       "[[1, 1, 1, 1], [-1, 1, 0], [1, 1], [-1]]"
      ]
     },
     "execution_count": 10,
     "metadata": {},
     "output_type": "execute_result"
    }
   ],
   "source": [
    "result"
   ]
  },
  {
   "cell_type": "code",
   "execution_count": 11,
   "metadata": {},
   "outputs": [
    {
     "data": {
      "text/plain": [
       "True"
      ]
     },
     "execution_count": 11,
     "metadata": {},
     "output_type": "execute_result"
    }
   ],
   "source": [
    "expected_result == result"
   ]
  },
  {
   "cell_type": "code",
   "execution_count": 12,
   "metadata": {},
   "outputs": [],
   "source": [
    "# create function for step 2\n",
    "def sgns(x):\n",
    "    \n",
    "    result = []\n",
    "    for k in range(len(x)):\n",
    "        sub = []\n",
    "        for j in range(len(x)):\n",
    "            if j > k:\n",
    "                sub.append(np.sign(x[j] - x[k]))\n",
    "        if len(sub) != 0:\n",
    "            result.append(sub)\n",
    "    \n",
    "    return result"
   ]
  },
  {
   "cell_type": "code",
   "execution_count": 13,
   "metadata": {},
   "outputs": [
    {
     "data": {
      "text/plain": [
       "([[1, 1, 1, 1], [-1, 1, 0], [1, 1], [-1]], True)"
      ]
     },
     "execution_count": 13,
     "metadata": {},
     "output_type": "execute_result"
    }
   ],
   "source": [
    "sgns(x), sgns(x) == expected_result"
   ]
  },
  {
   "cell_type": "code",
   "execution_count": 14,
   "metadata": {},
   "outputs": [],
   "source": [
    "# STEP 4"
   ]
  },
  {
   "cell_type": "code",
   "execution_count": 15,
   "metadata": {},
   "outputs": [
    {
     "data": {
      "text/plain": [
       "5"
      ]
     },
     "execution_count": 15,
     "metadata": {},
     "output_type": "execute_result"
    }
   ],
   "source": [
    "expected_sum = 4 + 0 + 2 -1\n",
    "expected_sum"
   ]
  },
  {
   "cell_type": "code",
   "execution_count": 42,
   "metadata": {},
   "outputs": [
    {
     "data": {
      "text/plain": [
       "(5, True)"
      ]
     },
     "execution_count": 42,
     "metadata": {},
     "output_type": "execute_result"
    }
   ],
   "source": [
    "np.sum(np.sum(sgns(x))), np.sum(np.sum(sgns(x))) == expected_sum"
   ]
  },
  {
   "cell_type": "markdown",
   "metadata": {},
   "source": [
    "Now use on GCP"
   ]
  },
  {
   "cell_type": "code",
   "execution_count": 62,
   "metadata": {},
   "outputs": [
    {
     "data": {
      "text/plain": [
       "138.8000555325"
      ]
     },
     "execution_count": 62,
     "metadata": {},
     "output_type": "execute_result"
    }
   ],
   "source": [
    "S = np.sum(np.sum(-GCP.land.values))\n",
    "S"
   ]
  },
  {
   "cell_type": "code",
   "execution_count": 63,
   "metadata": {},
   "outputs": [],
   "source": [
    "# STEP 5: n>10\n",
    "# STEP 6"
   ]
  },
  {
   "cell_type": "code",
   "execution_count": 64,
   "metadata": {},
   "outputs": [
    {
     "data": {
      "text/plain": [
       "[2]"
      ]
     },
     "execution_count": 64,
     "metadata": {},
     "output_type": "execute_result"
    }
   ],
   "source": [
    "unique, counts = np.unique(x, return_counts=True)\n",
    "\n",
    "tied_groups = []\n",
    "for count in counts:\n",
    "    if count > 1:\n",
    "        tied_groups.append(count)\n",
    "tied_groups"
   ]
  },
  {
   "cell_type": "code",
   "execution_count": 65,
   "metadata": {},
   "outputs": [
    {
     "data": {
      "text/plain": [
       "[18]"
      ]
     },
     "execution_count": 65,
     "metadata": {},
     "output_type": "execute_result"
    }
   ],
   "source": [
    "[i*(i-1)*(2*i+5) for i in t]"
   ]
  },
  {
   "cell_type": "code",
   "execution_count": 66,
   "metadata": {},
   "outputs": [
    {
     "data": {
      "text/plain": [
       "15.666666666666664"
      ]
     },
     "execution_count": 66,
     "metadata": {},
     "output_type": "execute_result"
    }
   ],
   "source": [
    "n = len(x)\n",
    "t = tied_groups\n",
    "var_s = (1/18)*(n*(n-1)*(2*n+5)) - (1/18)*np.sum([i*(i-1)*(2*i+5) for i in t])\n",
    "var_s"
   ]
  },
  {
   "cell_type": "code",
   "execution_count": 67,
   "metadata": {},
   "outputs": [
    {
     "data": {
      "text/plain": [
       "(138.8000555325, 15.666666666666664)"
      ]
     },
     "execution_count": 67,
     "metadata": {},
     "output_type": "execute_result"
    }
   ],
   "source": [
    "# STEP 7\n",
    "S, var_s\n",
    "# S > 0"
   ]
  },
  {
   "cell_type": "code",
   "execution_count": 68,
   "metadata": {},
   "outputs": [
    {
     "data": {
      "text/plain": [
       "34.814574446930365"
      ]
     },
     "execution_count": 68,
     "metadata": {},
     "output_type": "execute_result"
    }
   ],
   "source": [
    "Z_mk = (S-1)/np.sqrt(var_s)\n",
    "Z_mk"
   ]
  },
  {
   "cell_type": "code",
   "execution_count": 69,
   "metadata": {},
   "outputs": [],
   "source": [
    "# positive Z_mk means data tends to increase with time."
   ]
  },
  {
   "cell_type": "code",
   "execution_count": 70,
   "metadata": {},
   "outputs": [],
   "source": [
    "# STEP 8: null hypothesis\n"
   ]
  },
  {
   "cell_type": "markdown",
   "metadata": {},
   "source": [
    "## Function"
   ]
  },
  {
   "cell_type": "code",
   "execution_count": 19,
   "metadata": {
    "init_cell": true
   },
   "outputs": [],
   "source": [
    "def S_kendall(data):\n",
    "    S = 0\n",
    "    n = len(data)\n",
    "   \n",
    "    # Outer sum\n",
    "    for i in np.arange(0, n - 1):\n",
    "        # Inner sum\n",
    "        for k in np.arange(i + 1, n):\n",
    "\n",
    "            S += np.sign(data[k] - data[i])\n",
    "\n",
    "    return S\n",
    "\n",
    "\n",
    "def var_kendall(data):\n",
    "    unique_vals, count_vals = np.unique(data, return_counts = True)\n",
    "   \n",
    "    n = len(data)\n",
    "    var = n*(n - 1)* (2*n +5)/ 18\n",
    "   \n",
    "    if any(count_vals > 1): # there is a repeated value\n",
    "       \n",
    "        # These are the number of samples that have been used multiple times\n",
    "        multi_sampled = count_vals[np.where(count_vals > 1)]\n",
    "       \n",
    "        # This following is doing the sum as seen in the varience equation\n",
    "        summed = 0\n",
    "        for i in multi_sampled:\n",
    "            summand = i * (i - 1) * (2 * i + 5)\n",
    "\n",
    "            summed += summand\n",
    "           \n",
    "        # Divided by 18 and subtract from var\n",
    "       \n",
    "        var = var - summed / 18\n",
    "   \n",
    "    return var\n",
    "\n",
    "\n",
    "def Z_kendall(S,var):\n",
    "   \n",
    "    if S > 0:\n",
    "        S = S-1\n",
    "    else:\n",
    "        S = S+1\n",
    "       \n",
    "    Z = S/np.sqrt(var)\n",
    "   \n",
    "    return Z\n",
    "\n",
    "\n",
    "def mann_kendall(data, return_all = False):\n",
    "   \n",
    "    # Calculates the s value\n",
    "    S = S_kendall(data)\n",
    "   \n",
    "    # Calculates the varience, does both repeated and non-repeated values\n",
    "    var = var_kendall(data)\n",
    "   \n",
    "    # The z value\n",
    "    Z = Z_kendall(S,var)\n",
    "   \n",
    "    # The p-value form the normal distribution\n",
    "    p_val = 2 * (1 - stats.norm.cdf(abs(Z)))  # two tail test\n",
    "\n",
    "   \n",
    "    # In case I want to check what the z-value is\n",
    "    if return_all:\n",
    "        return S, var, Z, p_val\n",
    "    else:\n",
    "        return p_val"
   ]
  },
  {
   "cell_type": "code",
   "execution_count": 20,
   "metadata": {
    "init_cell": true
   },
   "outputs": [
    {
     "data": {
      "text/plain": [
       "(654.0, 24583.333333333332, 4.164787011055623, 3.1164336024236405e-05)"
      ]
     },
     "execution_count": 20,
     "metadata": {},
     "output_type": "execute_result"
    }
   ],
   "source": [
    "mann_kendall(-GCP.land.values, return_all=True)"
   ]
  },
  {
   "cell_type": "code",
   "execution_count": 21,
   "metadata": {
    "init_cell": true
   },
   "outputs": [
    {
     "data": {
      "text/plain": [
       "(1558.0, 24583.333333333332, 9.930433960510879, 0.0)"
      ]
     },
     "execution_count": 21,
     "metadata": {},
     "output_type": "execute_result"
    }
   ],
   "source": [
    "mann_kendall(-GCP.ocean.values, return_all=True)"
   ]
  },
  {
   "cell_type": "code",
   "execution_count": 38,
   "metadata": {},
   "outputs": [
    {
     "data": {
      "text/plain": [
       "(1.7146428199482247, 1.6448536269514722)"
      ]
     },
     "execution_count": 38,
     "metadata": {},
     "output_type": "execute_result"
    }
   ],
   "source": [
    "x = np.array([0,-1,6,8,44])\n",
    "mann_kendall(x, True)[2], stats.norm.ppf(1-0.05)"
   ]
  },
  {
   "cell_type": "code",
   "execution_count": 39,
   "metadata": {},
   "outputs": [
    {
     "data": {
      "text/plain": [
       "(0.08641073297370006, 0.04550026389635842)"
      ]
     },
     "execution_count": 39,
     "metadata": {},
     "output_type": "execute_result"
    }
   ],
   "source": [
    "mann_kendall(x, True)[-1], 2*(1-stats.norm.cdf(2))"
   ]
  },
  {
   "cell_type": "markdown",
   "metadata": {},
   "source": [
    "# Results"
   ]
  },
  {
   "cell_type": "markdown",
   "metadata": {},
   "source": [
    "Rolling gradient - statistical significance"
   ]
  },
  {
   "cell_type": "code",
   "execution_count": 45,
   "metadata": {},
   "outputs": [],
   "source": [
    "roll_land = pickle.load(open(\"./../Output/output_linreg/GCP/roll_df_land.pik\", \"rb\")).values.squeeze()\n",
    "roll_ocean = pickle.load(open(\"./../Output/output_linreg/GCP/roll_df_ocean.pik\", \"rb\")).values.squeeze()"
   ]
  },
  {
   "cell_type": "code",
   "execution_count": 52,
   "metadata": {},
   "outputs": [
    {
     "data": {
      "text/plain": [
       "[<matplotlib.lines.Line2D at 0x7fe269cf8898>]"
      ]
     },
     "execution_count": 52,
     "metadata": {},
     "output_type": "execute_result"
    },
    {
     "data": {
      "image/png": "[encoded data removed]",
      "text/plain": [
       "<Figure size 432x288 with 1 Axes>"
      ]
     },
     "metadata": {
      "needs_background": "light"
     },
     "output_type": "display_data"
    }
   ],
   "source": [
    "plt.plot(roll_land)"
   ]
  },
  {
   "cell_type": "code",
   "execution_count": 66,
   "metadata": {},
   "outputs": [
    {
     "data": {
      "text/plain": [
       "[<matplotlib.lines.Line2D at 0x7fe269c67ef0>]"
      ]
     },
     "execution_count": 66,
     "metadata": {},
     "output_type": "execute_result"
    },
    {
     "data": {
      "image/png": "[encoded data removed]",
      "text/plain": [
       "<Figure size 432x288 with 1 Axes>"
      ]
     },
     "metadata": {
      "needs_background": "light"
     },
     "output_type": "display_data"
    }
   ],
   "source": [
    "plt.plot(roll_ocean)"
   ]
  },
  {
   "cell_type": "code",
   "execution_count": 47,
   "metadata": {},
   "outputs": [
    {
     "data": {
      "text/plain": [
       "(-258.0, 13458.666666666666, -2.215297741974068, 0.026739634741513196)"
      ]
     },
     "execution_count": 47,
     "metadata": {},
     "output_type": "execute_result"
    }
   ],
   "source": [
    "mann_kendall(roll_land, True)"
   ]
  },
  {
   "cell_type": "code",
   "execution_count": 48,
   "metadata": {},
   "outputs": [
    {
     "data": {
      "text/plain": [
       "(478.0, 13458.666666666666, 4.1116615677884445, 3.928218324222854e-05)"
      ]
     },
     "execution_count": 48,
     "metadata": {},
     "output_type": "execute_result"
    }
   ],
   "source": [
    "mann_kendall(roll_ocean, True)"
   ]
  },
  {
   "cell_type": "markdown",
   "metadata": {},
   "source": [
    "# Other methods from Stats course"
   ]
  },
  {
   "cell_type": "markdown",
   "metadata": {},
   "source": [
    "## Stats.linregress"
   ]
  },
  {
   "cell_type": "markdown",
   "metadata": {},
   "source": [
    "Just use stats.linregress which has a p value calculated from the slope.\n",
    "\n",
    "From scipy.org:\n",
    "\"Two-sided p-value for a hypothesis test whose null hypothesis is that the slope is zero, using Wald Test with t-distribution of the test statistic.\""
   ]
  },
  {
   "cell_type": "code",
   "execution_count": 64,
   "metadata": {},
   "outputs": [
    {
     "data": {
      "text/plain": [
       "0.04082105318973629"
      ]
     },
     "execution_count": 64,
     "metadata": {},
     "output_type": "execute_result"
    }
   ],
   "source": [
    "stats.linregress(np.arange(1959,2008), roll_land)[3]"
   ]
  },
  {
   "cell_type": "code",
   "execution_count": 65,
   "metadata": {},
   "outputs": [
    {
     "data": {
      "text/plain": [
       "1.0570682001171875e-05"
      ]
     },
     "execution_count": 65,
     "metadata": {},
     "output_type": "execute_result"
    }
   ],
   "source": [
    "stats.linregress(np.arange(1959,2008), roll_ocean)[3]"
   ]
  },
  {
   "cell_type": "markdown",
   "metadata": {},
   "source": [
    "## Wald Test"
   ]
  },
  {
   "cell_type": "markdown",
   "metadata": {},
   "source": [
    "Used by stats.linregress"
   ]
  },
  {
   "cell_type": "markdown",
   "metadata": {},
   "source": [
    "https://www.statisticshowto.datasciencecentral.com/wald-test/"
   ]
  },
  {
   "cell_type": "code",
   "execution_count": null,
   "metadata": {},
   "outputs": [],
   "source": []
  }
 ],
 "metadata": {
  "celltoolbar": "Initialization Cell",
  "kernelspec": {
   "display_name": "Python 3",
   "language": "python",
   "name": "python3"
  },
  "language_info": {
   "codemirror_mode": {
    "name": "ipython",
    "version": 3
   },
   "file_extension": ".py",
   "mimetype": "text/x-python",
   "name": "python",
   "nbconvert_exporter": "python",
   "pygments_lexer": "ipython3",
   "version": "3.7.1"
  },
  "toc": {
   "base_numbering": 1,
   "nav_menu": {},
   "number_sections": true,
   "sideBar": true,
   "skip_h1_title": false,
   "title_cell": "Table of Contents",
   "title_sidebar": "Contents",
   "toc_cell": false,
   "toc_position": {},
   "toc_section_display": true,
   "toc_window_display": false
  }
 },
 "nbformat": 4,
 "nbformat_minor": 2
}
