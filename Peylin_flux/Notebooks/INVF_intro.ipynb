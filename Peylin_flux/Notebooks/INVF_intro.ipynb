{
 "cells": [
  {
   "cell_type": "code",
   "execution_count": 41,
   "metadata": {},
   "outputs": [],
   "source": [
    "import numpy as np\n",
    "import xarray as xr\n",
    "import pandas as pd\n",
    "import matplotlib.pyplot as plt\n",
    "from matplotlib.ticker import MaxNLocator"
   ]
  },
  {
   "cell_type": "code",
   "execution_count": 2,
   "metadata": {},
   "outputs": [],
   "source": [
    "import sys\n",
    "sys.path.append('./../Scripts')\n",
    "import inv_flux as invf"
   ]
  },
  {
   "cell_type": "code",
   "execution_count": 3,
   "metadata": {},
   "outputs": [
    {
     "data": {
      "text/plain": [
       "<module 'inv_flux' from './../Scripts/inv_flux.py'>"
      ]
     },
     "execution_count": 3,
     "metadata": {},
     "output_type": "execute_result"
    }
   ],
   "source": [
    "import importlib as ilib\n",
    "ilib.reload(invf)"
   ]
  },
  {
   "cell_type": "markdown",
   "metadata": {},
   "source": [
    "# Trial of functions"
   ]
  },
  {
   "cell_type": "code",
   "execution_count": 4,
   "metadata": {},
   "outputs": [],
   "source": [
    "Rayner = './../raw_data/fco2_Rayner-C13-2018_June2018-ext3_1992-2012_monthlymean_XYT.nc'\n",
    "df = invf.TheDataFrame(data=Rayner)"
   ]
  },
  {
   "cell_type": "code",
   "execution_count": 5,
   "metadata": {},
   "outputs": [
    {
     "data": {
      "text/plain": [
       "inv_flux.TheDataFrame"
      ]
     },
     "execution_count": 5,
     "metadata": {},
     "output_type": "execute_result"
    }
   ],
   "source": [
    "type(df)"
   ]
  },
  {
   "cell_type": "code",
   "execution_count": 6,
   "metadata": {},
   "outputs": [
    {
     "ename": "AttributeError",
     "evalue": "'TheDataFrame' object has no attribute 'variables'",
     "output_type": "error",
     "traceback": [
      "\u001b[0;31m---------------------------------------------------------------------------\u001b[0m",
      "\u001b[0;31mAttributeError\u001b[0m                            Traceback (most recent call last)",
      "\u001b[0;32m<ipython-input-6-b1baa1cf837d>\u001b[0m in \u001b[0;36m<module>\u001b[0;34m\u001b[0m\n\u001b[0;32m----> 1\u001b[0;31m \u001b[0mdf\u001b[0m\u001b[0;34m.\u001b[0m\u001b[0mvariables\u001b[0m\u001b[0;34m\u001b[0m\u001b[0;34m\u001b[0m\u001b[0m\n\u001b[0m",
      "\u001b[0;31mAttributeError\u001b[0m: 'TheDataFrame' object has no attribute 'variables'"
     ]
    }
   ],
   "source": [
    "df.variables"
   ]
  },
  {
   "cell_type": "code",
   "execution_count": 7,
   "metadata": {
    "scrolled": false
   },
   "outputs": [],
   "source": [
    "s=df.spatial_integration()"
   ]
  },
  {
   "cell_type": "code",
   "execution_count": 8,
   "metadata": {},
   "outputs": [
    {
     "data": {
      "text/plain": [
       "<xarray.Dataset>\n",
       "Dimensions:         (time: 252)\n",
       "Coordinates:\n",
       "  * time            (time) object 1992-01-16 00:00:00 ... 2012-12-16 00:00:00\n",
       "Data variables:\n",
       "    Earth_Land      (time) float64 -0.2064 -0.3233 -0.4555 ... 0.02093 -0.01092\n",
       "    South_Land      (time) float64 0.00262 0.01488 -0.005087 ... 0.0481 0.004143\n",
       "    Tropical_Land   (time) float64 -0.1846 -0.1388 -0.1045 ... 0.1637 0.09664\n",
       "    North_Land      (time) float64 -0.02442 -0.1993 -0.3459 ... -0.1909 -0.1117\n",
       "    Earth_Ocean     (time) float64 0.09155 0.01149 0.005619 ... 0.1239 0.07068\n",
       "    South_Ocean     (time) float64 0.08013 0.0373 0.08644 ... 0.05885 0.07064\n",
       "    Tropical_Ocean  (time) float64 -0.01266 -0.03395 ... 0.04484 -0.003618\n",
       "    North_Ocean     (time) float64 0.02408 0.008147 -0.01712 ... 0.0202 0.003659"
      ]
     },
     "execution_count": 8,
     "metadata": {},
     "output_type": "execute_result"
    }
   ],
   "source": [
    "s"
   ]
  },
  {
   "cell_type": "code",
   "execution_count": 14,
   "metadata": {},
   "outputs": [
    {
     "data": {
      "text/plain": [
       "<xarray.Dataset>\n",
       "Dimensions:           ()\n",
       "Data variables:\n",
       "    Terrestrial_flux  float32 -64391412.0\n",
       "    ocean             float32 11391212.0"
      ]
     },
     "execution_count": 14,
     "metadata": {},
     "output_type": "execute_result"
    }
   ],
   "source": [
    "df.data.sum()"
   ]
  },
  {
   "cell_type": "code",
   "execution_count": 15,
   "metadata": {},
   "outputs": [
    {
     "data": {
      "text/html": [
       "<div>\n",
       "<style scoped>\n",
       "    .dataframe tbody tr th:only-of-type {\n",
       "        vertical-align: middle;\n",
       "    }\n",
       "\n",
       "    .dataframe tbody tr th {\n",
       "        vertical-align: top;\n",
       "    }\n",
       "\n",
       "    .dataframe thead th {\n",
       "        text-align: right;\n",
       "    }\n",
       "</style>\n",
       "<table border=\"1\" class=\"dataframe\">\n",
       "  <thead>\n",
       "    <tr style=\"text-align: right;\">\n",
       "      <th></th>\n",
       "      <th>Year</th>\n",
       "      <th>earth_land_total</th>\n",
       "      <th>south_land_total</th>\n",
       "      <th>trop_land_total</th>\n",
       "      <th>north_land_total</th>\n",
       "      <th>earth_ocean_total</th>\n",
       "      <th>south_ocean_total</th>\n",
       "      <th>trop_ocean_total</th>\n",
       "      <th>north_ocean_total</th>\n",
       "    </tr>\n",
       "  </thead>\n",
       "  <tbody>\n",
       "    <tr>\n",
       "      <th>0</th>\n",
       "      <td>1992</td>\n",
       "      <td>-2.44695</td>\n",
       "      <td>0.224023</td>\n",
       "      <td>-0.81209</td>\n",
       "      <td>-1.85888</td>\n",
       "      <td>-0.252198</td>\n",
       "      <td>0.51051</td>\n",
       "      <td>-0.483421</td>\n",
       "      <td>-0.279286</td>\n",
       "    </tr>\n",
       "    <tr>\n",
       "      <th>1</th>\n",
       "      <td>1993</td>\n",
       "      <td>-3.34941</td>\n",
       "      <td>-0.368533</td>\n",
       "      <td>-0.369603</td>\n",
       "      <td>-2.61127</td>\n",
       "      <td>1.24133</td>\n",
       "      <td>1.07817</td>\n",
       "      <td>-0.0101273</td>\n",
       "      <td>0.173287</td>\n",
       "    </tr>\n",
       "    <tr>\n",
       "      <th>2</th>\n",
       "      <td>1994</td>\n",
       "      <td>-0.734497</td>\n",
       "      <td>0.292096</td>\n",
       "      <td>0.573278</td>\n",
       "      <td>-1.59987</td>\n",
       "      <td>0.112975</td>\n",
       "      <td>0.57777</td>\n",
       "      <td>-0.471583</td>\n",
       "      <td>0.00678795</td>\n",
       "    </tr>\n",
       "    <tr>\n",
       "      <th>3</th>\n",
       "      <td>1995</td>\n",
       "      <td>-0.811956</td>\n",
       "      <td>-0.244602</td>\n",
       "      <td>1.26042</td>\n",
       "      <td>-1.82777</td>\n",
       "      <td>0.225526</td>\n",
       "      <td>0.797611</td>\n",
       "      <td>-0.461935</td>\n",
       "      <td>-0.11015</td>\n",
       "    </tr>\n",
       "    <tr>\n",
       "      <th>4</th>\n",
       "      <td>1996</td>\n",
       "      <td>-2.30852</td>\n",
       "      <td>-0.238651</td>\n",
       "      <td>-0.371002</td>\n",
       "      <td>-1.69887</td>\n",
       "      <td>0.396192</td>\n",
       "      <td>0.74824</td>\n",
       "      <td>-0.334994</td>\n",
       "      <td>-0.017055</td>\n",
       "    </tr>\n",
       "    <tr>\n",
       "      <th>5</th>\n",
       "      <td>1997</td>\n",
       "      <td>-0.534001</td>\n",
       "      <td>0.393517</td>\n",
       "      <td>1.15454</td>\n",
       "      <td>-2.08206</td>\n",
       "      <td>-0.466631</td>\n",
       "      <td>0.221819</td>\n",
       "      <td>-0.617863</td>\n",
       "      <td>-0.0705875</td>\n",
       "    </tr>\n",
       "    <tr>\n",
       "      <th>6</th>\n",
       "      <td>1998</td>\n",
       "      <td>1.01841</td>\n",
       "      <td>0.683573</td>\n",
       "      <td>2.2621</td>\n",
       "      <td>-1.92727</td>\n",
       "      <td>-0.426082</td>\n",
       "      <td>0.18317</td>\n",
       "      <td>-0.629241</td>\n",
       "      <td>0.0199884</td>\n",
       "    </tr>\n",
       "    <tr>\n",
       "      <th>7</th>\n",
       "      <td>1999</td>\n",
       "      <td>-2.13609</td>\n",
       "      <td>0.0547002</td>\n",
       "      <td>0.197585</td>\n",
       "      <td>-2.38837</td>\n",
       "      <td>0.143578</td>\n",
       "      <td>0.500371</td>\n",
       "      <td>-0.428802</td>\n",
       "      <td>0.0720088</td>\n",
       "    </tr>\n",
       "    <tr>\n",
       "      <th>8</th>\n",
       "      <td>2000</td>\n",
       "      <td>-2.13503</td>\n",
       "      <td>-0.394168</td>\n",
       "      <td>0.295049</td>\n",
       "      <td>-2.03592</td>\n",
       "      <td>0.298124</td>\n",
       "      <td>0.549731</td>\n",
       "      <td>-0.291496</td>\n",
       "      <td>0.0398891</td>\n",
       "    </tr>\n",
       "    <tr>\n",
       "      <th>9</th>\n",
       "      <td>2001</td>\n",
       "      <td>-2.04285</td>\n",
       "      <td>-0.201406</td>\n",
       "      <td>0.290846</td>\n",
       "      <td>-2.13229</td>\n",
       "      <td>0.201494</td>\n",
       "      <td>0.691956</td>\n",
       "      <td>-0.46857</td>\n",
       "      <td>-0.0218921</td>\n",
       "    </tr>\n",
       "    <tr>\n",
       "      <th>10</th>\n",
       "      <td>2002</td>\n",
       "      <td>-0.415532</td>\n",
       "      <td>0.0792672</td>\n",
       "      <td>1.06597</td>\n",
       "      <td>-1.56077</td>\n",
       "      <td>0.0892122</td>\n",
       "      <td>0.768321</td>\n",
       "      <td>-0.471581</td>\n",
       "      <td>-0.207527</td>\n",
       "    </tr>\n",
       "    <tr>\n",
       "      <th>11</th>\n",
       "      <td>2003</td>\n",
       "      <td>-1.01934</td>\n",
       "      <td>-0.0331783</td>\n",
       "      <td>0.328092</td>\n",
       "      <td>-1.31425</td>\n",
       "      <td>-0.0198941</td>\n",
       "      <td>0.580932</td>\n",
       "      <td>-0.343404</td>\n",
       "      <td>-0.257422</td>\n",
       "    </tr>\n",
       "    <tr>\n",
       "      <th>12</th>\n",
       "      <td>2004</td>\n",
       "      <td>-2.48687</td>\n",
       "      <td>-0.0484896</td>\n",
       "      <td>0.0272704</td>\n",
       "      <td>-2.46565</td>\n",
       "      <td>0.189821</td>\n",
       "      <td>0.762688</td>\n",
       "      <td>-0.322493</td>\n",
       "      <td>-0.250374</td>\n",
       "    </tr>\n",
       "    <tr>\n",
       "      <th>13</th>\n",
       "      <td>2005</td>\n",
       "      <td>-0.965314</td>\n",
       "      <td>0.0869331</td>\n",
       "      <td>1.36334</td>\n",
       "      <td>-2.41559</td>\n",
       "      <td>-0.119464</td>\n",
       "      <td>0.462407</td>\n",
       "      <td>-0.426171</td>\n",
       "      <td>-0.1557</td>\n",
       "    </tr>\n",
       "    <tr>\n",
       "      <th>14</th>\n",
       "      <td>2006</td>\n",
       "      <td>-2.95286</td>\n",
       "      <td>-0.314295</td>\n",
       "      <td>-0.38331</td>\n",
       "      <td>-2.25526</td>\n",
       "      <td>-0.304833</td>\n",
       "      <td>0.583911</td>\n",
       "      <td>-0.614549</td>\n",
       "      <td>-0.274196</td>\n",
       "    </tr>\n",
       "    <tr>\n",
       "      <th>15</th>\n",
       "      <td>2007</td>\n",
       "      <td>-1.8193</td>\n",
       "      <td>-0.0369875</td>\n",
       "      <td>1.23391</td>\n",
       "      <td>-3.01622</td>\n",
       "      <td>-0.273511</td>\n",
       "      <td>0.546213</td>\n",
       "      <td>-0.441155</td>\n",
       "      <td>-0.378569</td>\n",
       "    </tr>\n",
       "    <tr>\n",
       "      <th>16</th>\n",
       "      <td>2008</td>\n",
       "      <td>-3.523</td>\n",
       "      <td>-0.154689</td>\n",
       "      <td>-0.337786</td>\n",
       "      <td>-3.03052</td>\n",
       "      <td>0.0924152</td>\n",
       "      <td>0.607006</td>\n",
       "      <td>-0.401914</td>\n",
       "      <td>-0.112676</td>\n",
       "    </tr>\n",
       "    <tr>\n",
       "      <th>17</th>\n",
       "      <td>2009</td>\n",
       "      <td>-3.00637</td>\n",
       "      <td>-0.284022</td>\n",
       "      <td>0.609948</td>\n",
       "      <td>-3.3323</td>\n",
       "      <td>-0.396403</td>\n",
       "      <td>0.388138</td>\n",
       "      <td>-0.550843</td>\n",
       "      <td>-0.233699</td>\n",
       "    </tr>\n",
       "    <tr>\n",
       "      <th>18</th>\n",
       "      <td>2010</td>\n",
       "      <td>-2.5141</td>\n",
       "      <td>-0.0526179</td>\n",
       "      <td>0.238653</td>\n",
       "      <td>-2.70013</td>\n",
       "      <td>0.0325817</td>\n",
       "      <td>0.409943</td>\n",
       "      <td>-0.362167</td>\n",
       "      <td>-0.015194</td>\n",
       "    </tr>\n",
       "    <tr>\n",
       "      <th>19</th>\n",
       "      <td>2011</td>\n",
       "      <td>-4.19234</td>\n",
       "      <td>-0.723568</td>\n",
       "      <td>-0.548307</td>\n",
       "      <td>-2.92046</td>\n",
       "      <td>0.179385</td>\n",
       "      <td>0.621704</td>\n",
       "      <td>-0.330879</td>\n",
       "      <td>-0.11144</td>\n",
       "    </tr>\n",
       "    <tr>\n",
       "      <th>20</th>\n",
       "      <td>2012</td>\n",
       "      <td>-2.76836</td>\n",
       "      <td>-0.119956</td>\n",
       "      <td>0.630373</td>\n",
       "      <td>-3.27878</td>\n",
       "      <td>-0.119651</td>\n",
       "      <td>0.339171</td>\n",
       "      <td>-0.356249</td>\n",
       "      <td>-0.102574</td>\n",
       "    </tr>\n",
       "  </tbody>\n",
       "</table>\n",
       "</div>"
      ],
      "text/plain": [
       "    Year earth_land_total south_land_total trop_land_total north_land_total  \\\n",
       "0   1992         -2.44695         0.224023        -0.81209         -1.85888   \n",
       "1   1993         -3.34941        -0.368533       -0.369603         -2.61127   \n",
       "2   1994        -0.734497         0.292096        0.573278         -1.59987   \n",
       "3   1995        -0.811956        -0.244602         1.26042         -1.82777   \n",
       "4   1996         -2.30852        -0.238651       -0.371002         -1.69887   \n",
       "5   1997        -0.534001         0.393517         1.15454         -2.08206   \n",
       "6   1998          1.01841         0.683573          2.2621         -1.92727   \n",
       "7   1999         -2.13609        0.0547002        0.197585         -2.38837   \n",
       "8   2000         -2.13503        -0.394168        0.295049         -2.03592   \n",
       "9   2001         -2.04285        -0.201406        0.290846         -2.13229   \n",
       "10  2002        -0.415532        0.0792672         1.06597         -1.56077   \n",
       "11  2003         -1.01934       -0.0331783        0.328092         -1.31425   \n",
       "12  2004         -2.48687       -0.0484896       0.0272704         -2.46565   \n",
       "13  2005        -0.965314        0.0869331         1.36334         -2.41559   \n",
       "14  2006         -2.95286        -0.314295        -0.38331         -2.25526   \n",
       "15  2007          -1.8193       -0.0369875         1.23391         -3.01622   \n",
       "16  2008           -3.523        -0.154689       -0.337786         -3.03052   \n",
       "17  2009         -3.00637        -0.284022        0.609948          -3.3323   \n",
       "18  2010          -2.5141       -0.0526179        0.238653         -2.70013   \n",
       "19  2011         -4.19234        -0.723568       -0.548307         -2.92046   \n",
       "20  2012         -2.76836        -0.119956        0.630373         -3.27878   \n",
       "\n",
       "   earth_ocean_total south_ocean_total trop_ocean_total north_ocean_total  \n",
       "0          -0.252198           0.51051        -0.483421         -0.279286  \n",
       "1            1.24133           1.07817       -0.0101273          0.173287  \n",
       "2           0.112975           0.57777        -0.471583        0.00678795  \n",
       "3           0.225526          0.797611        -0.461935          -0.11015  \n",
       "4           0.396192           0.74824        -0.334994         -0.017055  \n",
       "5          -0.466631          0.221819        -0.617863        -0.0705875  \n",
       "6          -0.426082           0.18317        -0.629241         0.0199884  \n",
       "7           0.143578          0.500371        -0.428802         0.0720088  \n",
       "8           0.298124          0.549731        -0.291496         0.0398891  \n",
       "9           0.201494          0.691956         -0.46857        -0.0218921  \n",
       "10         0.0892122          0.768321        -0.471581         -0.207527  \n",
       "11        -0.0198941          0.580932        -0.343404         -0.257422  \n",
       "12          0.189821          0.762688        -0.322493         -0.250374  \n",
       "13         -0.119464          0.462407        -0.426171           -0.1557  \n",
       "14         -0.304833          0.583911        -0.614549         -0.274196  \n",
       "15         -0.273511          0.546213        -0.441155         -0.378569  \n",
       "16         0.0924152          0.607006        -0.401914         -0.112676  \n",
       "17         -0.396403          0.388138        -0.550843         -0.233699  \n",
       "18         0.0325817          0.409943        -0.362167         -0.015194  \n",
       "19          0.179385          0.621704        -0.330879          -0.11144  \n",
       "20         -0.119651          0.339171        -0.356249         -0.102574  "
      ]
     },
     "execution_count": 15,
     "metadata": {},
     "output_type": "execute_result"
    }
   ],
   "source": [
    "y=df.year_integration()\n",
    "y"
   ]
  },
  {
   "cell_type": "code",
   "execution_count": 16,
   "metadata": {},
   "outputs": [
    {
     "data": {
      "text/plain": [
       "(3, 9)"
      ]
     },
     "execution_count": 16,
     "metadata": {},
     "output_type": "execute_result"
    }
   ],
   "source": [
    "t=df.decade_integration()\n",
    "t.shape"
   ]
  },
  {
   "cell_type": "code",
   "execution_count": 17,
   "metadata": {},
   "outputs": [
    {
     "data": {
      "text/html": [
       "<div>\n",
       "<style scoped>\n",
       "    .dataframe tbody tr th:only-of-type {\n",
       "        vertical-align: middle;\n",
       "    }\n",
       "\n",
       "    .dataframe tbody tr th {\n",
       "        vertical-align: top;\n",
       "    }\n",
       "\n",
       "    .dataframe thead th {\n",
       "        text-align: right;\n",
       "    }\n",
       "</style>\n",
       "<table border=\"1\" class=\"dataframe\">\n",
       "  <thead>\n",
       "    <tr style=\"text-align: right;\">\n",
       "      <th></th>\n",
       "      <th>earth_land_total</th>\n",
       "      <th>south_land_total</th>\n",
       "      <th>trop_land_total</th>\n",
       "      <th>north_land_total</th>\n",
       "      <th>earth_ocean_total</th>\n",
       "      <th>south_ocean_total</th>\n",
       "      <th>trop_ocean_total</th>\n",
       "      <th>north_ocean_total</th>\n",
       "    </tr>\n",
       "  </thead>\n",
       "  <tbody>\n",
       "    <tr>\n",
       "      <th>0</th>\n",
       "      <td>-41.1443</td>\n",
       "      <td>-1.40105</td>\n",
       "      <td>8.70928</td>\n",
       "      <td>-48.4525</td>\n",
       "      <td>0.823964</td>\n",
       "      <td>11.9298</td>\n",
       "      <td>-8.81944</td>\n",
       "      <td>-2.28638</td>\n",
       "    </tr>\n",
       "  </tbody>\n",
       "</table>\n",
       "</div>"
      ],
      "text/plain": [
       "  earth_land_total south_land_total trop_land_total north_land_total  \\\n",
       "0         -41.1443         -1.40105         8.70928         -48.4525   \n",
       "\n",
       "  earth_ocean_total south_ocean_total trop_ocean_total north_ocean_total  \n",
       "0          0.823964           11.9298         -8.81944          -2.28638  "
      ]
     },
     "execution_count": 17,
     "metadata": {},
     "output_type": "execute_result"
    }
   ],
   "source": [
    "p=df.whole_time_integration()\n",
    "p"
   ]
  },
  {
   "cell_type": "code",
   "execution_count": 18,
   "metadata": {},
   "outputs": [
    {
     "data": {
      "text/plain": [
       "121945878340.89328"
      ]
     },
     "execution_count": 18,
     "metadata": {},
     "output_type": "execute_result"
    }
   ],
   "source": [
    "invf.scalar_earth_area(9,10,100,110)"
   ]
  },
  {
   "cell_type": "markdown",
   "metadata": {},
   "source": [
    "# Pickle data"
   ]
  },
  {
   "cell_type": "code",
   "execution_count": 19,
   "metadata": {},
   "outputs": [],
   "source": [
    "import pickle"
   ]
  },
  {
   "cell_type": "code",
   "execution_count": 20,
   "metadata": {},
   "outputs": [
    {
     "data": {
      "text/html": [
       "<div>\n",
       "<style scoped>\n",
       "    .dataframe tbody tr th:only-of-type {\n",
       "        vertical-align: middle;\n",
       "    }\n",
       "\n",
       "    .dataframe tbody tr th {\n",
       "        vertical-align: top;\n",
       "    }\n",
       "\n",
       "    .dataframe thead th {\n",
       "        text-align: right;\n",
       "    }\n",
       "</style>\n",
       "<table border=\"1\" class=\"dataframe\">\n",
       "  <thead>\n",
       "    <tr style=\"text-align: right;\">\n",
       "      <th></th>\n",
       "      <th>Year</th>\n",
       "      <th>earth_land_total</th>\n",
       "      <th>south_land_total</th>\n",
       "      <th>trop_land_total</th>\n",
       "      <th>north_land_total</th>\n",
       "      <th>earth_ocean_total</th>\n",
       "      <th>south_ocean_total</th>\n",
       "      <th>trop_ocean_total</th>\n",
       "      <th>north_ocean_total</th>\n",
       "    </tr>\n",
       "  </thead>\n",
       "  <tbody>\n",
       "    <tr>\n",
       "      <th>0</th>\n",
       "      <td>1992</td>\n",
       "      <td>-2.44695</td>\n",
       "      <td>0.224023</td>\n",
       "      <td>-0.81209</td>\n",
       "      <td>-1.85888</td>\n",
       "      <td>-0.252198</td>\n",
       "      <td>0.51051</td>\n",
       "      <td>-0.483421</td>\n",
       "      <td>-0.279286</td>\n",
       "    </tr>\n",
       "    <tr>\n",
       "      <th>1</th>\n",
       "      <td>1993</td>\n",
       "      <td>-3.34941</td>\n",
       "      <td>-0.368533</td>\n",
       "      <td>-0.369603</td>\n",
       "      <td>-2.61127</td>\n",
       "      <td>1.24133</td>\n",
       "      <td>1.07817</td>\n",
       "      <td>-0.0101273</td>\n",
       "      <td>0.173287</td>\n",
       "    </tr>\n",
       "    <tr>\n",
       "      <th>2</th>\n",
       "      <td>1994</td>\n",
       "      <td>-0.734497</td>\n",
       "      <td>0.292096</td>\n",
       "      <td>0.573278</td>\n",
       "      <td>-1.59987</td>\n",
       "      <td>0.112975</td>\n",
       "      <td>0.57777</td>\n",
       "      <td>-0.471583</td>\n",
       "      <td>0.00678795</td>\n",
       "    </tr>\n",
       "    <tr>\n",
       "      <th>3</th>\n",
       "      <td>1995</td>\n",
       "      <td>-0.811956</td>\n",
       "      <td>-0.244602</td>\n",
       "      <td>1.26042</td>\n",
       "      <td>-1.82777</td>\n",
       "      <td>0.225526</td>\n",
       "      <td>0.797611</td>\n",
       "      <td>-0.461935</td>\n",
       "      <td>-0.11015</td>\n",
       "    </tr>\n",
       "    <tr>\n",
       "      <th>4</th>\n",
       "      <td>1996</td>\n",
       "      <td>-2.30852</td>\n",
       "      <td>-0.238651</td>\n",
       "      <td>-0.371002</td>\n",
       "      <td>-1.69887</td>\n",
       "      <td>0.396192</td>\n",
       "      <td>0.74824</td>\n",
       "      <td>-0.334994</td>\n",
       "      <td>-0.017055</td>\n",
       "    </tr>\n",
       "    <tr>\n",
       "      <th>5</th>\n",
       "      <td>1997</td>\n",
       "      <td>-0.534001</td>\n",
       "      <td>0.393517</td>\n",
       "      <td>1.15454</td>\n",
       "      <td>-2.08206</td>\n",
       "      <td>-0.466631</td>\n",
       "      <td>0.221819</td>\n",
       "      <td>-0.617863</td>\n",
       "      <td>-0.0705875</td>\n",
       "    </tr>\n",
       "    <tr>\n",
       "      <th>6</th>\n",
       "      <td>1998</td>\n",
       "      <td>1.01841</td>\n",
       "      <td>0.683573</td>\n",
       "      <td>2.2621</td>\n",
       "      <td>-1.92727</td>\n",
       "      <td>-0.426082</td>\n",
       "      <td>0.18317</td>\n",
       "      <td>-0.629241</td>\n",
       "      <td>0.0199884</td>\n",
       "    </tr>\n",
       "    <tr>\n",
       "      <th>7</th>\n",
       "      <td>1999</td>\n",
       "      <td>-2.13609</td>\n",
       "      <td>0.0547002</td>\n",
       "      <td>0.197585</td>\n",
       "      <td>-2.38837</td>\n",
       "      <td>0.143578</td>\n",
       "      <td>0.500371</td>\n",
       "      <td>-0.428802</td>\n",
       "      <td>0.0720088</td>\n",
       "    </tr>\n",
       "    <tr>\n",
       "      <th>8</th>\n",
       "      <td>2000</td>\n",
       "      <td>-2.13503</td>\n",
       "      <td>-0.394168</td>\n",
       "      <td>0.295049</td>\n",
       "      <td>-2.03592</td>\n",
       "      <td>0.298124</td>\n",
       "      <td>0.549731</td>\n",
       "      <td>-0.291496</td>\n",
       "      <td>0.0398891</td>\n",
       "    </tr>\n",
       "    <tr>\n",
       "      <th>9</th>\n",
       "      <td>2001</td>\n",
       "      <td>-2.04285</td>\n",
       "      <td>-0.201406</td>\n",
       "      <td>0.290846</td>\n",
       "      <td>-2.13229</td>\n",
       "      <td>0.201494</td>\n",
       "      <td>0.691956</td>\n",
       "      <td>-0.46857</td>\n",
       "      <td>-0.0218921</td>\n",
       "    </tr>\n",
       "    <tr>\n",
       "      <th>10</th>\n",
       "      <td>2002</td>\n",
       "      <td>-0.415532</td>\n",
       "      <td>0.0792672</td>\n",
       "      <td>1.06597</td>\n",
       "      <td>-1.56077</td>\n",
       "      <td>0.0892122</td>\n",
       "      <td>0.768321</td>\n",
       "      <td>-0.471581</td>\n",
       "      <td>-0.207527</td>\n",
       "    </tr>\n",
       "    <tr>\n",
       "      <th>11</th>\n",
       "      <td>2003</td>\n",
       "      <td>-1.01934</td>\n",
       "      <td>-0.0331783</td>\n",
       "      <td>0.328092</td>\n",
       "      <td>-1.31425</td>\n",
       "      <td>-0.0198941</td>\n",
       "      <td>0.580932</td>\n",
       "      <td>-0.343404</td>\n",
       "      <td>-0.257422</td>\n",
       "    </tr>\n",
       "    <tr>\n",
       "      <th>12</th>\n",
       "      <td>2004</td>\n",
       "      <td>-2.48687</td>\n",
       "      <td>-0.0484896</td>\n",
       "      <td>0.0272704</td>\n",
       "      <td>-2.46565</td>\n",
       "      <td>0.189821</td>\n",
       "      <td>0.762688</td>\n",
       "      <td>-0.322493</td>\n",
       "      <td>-0.250374</td>\n",
       "    </tr>\n",
       "    <tr>\n",
       "      <th>13</th>\n",
       "      <td>2005</td>\n",
       "      <td>-0.965314</td>\n",
       "      <td>0.0869331</td>\n",
       "      <td>1.36334</td>\n",
       "      <td>-2.41559</td>\n",
       "      <td>-0.119464</td>\n",
       "      <td>0.462407</td>\n",
       "      <td>-0.426171</td>\n",
       "      <td>-0.1557</td>\n",
       "    </tr>\n",
       "    <tr>\n",
       "      <th>14</th>\n",
       "      <td>2006</td>\n",
       "      <td>-2.95286</td>\n",
       "      <td>-0.314295</td>\n",
       "      <td>-0.38331</td>\n",
       "      <td>-2.25526</td>\n",
       "      <td>-0.304833</td>\n",
       "      <td>0.583911</td>\n",
       "      <td>-0.614549</td>\n",
       "      <td>-0.274196</td>\n",
       "    </tr>\n",
       "    <tr>\n",
       "      <th>15</th>\n",
       "      <td>2007</td>\n",
       "      <td>-1.8193</td>\n",
       "      <td>-0.0369875</td>\n",
       "      <td>1.23391</td>\n",
       "      <td>-3.01622</td>\n",
       "      <td>-0.273511</td>\n",
       "      <td>0.546213</td>\n",
       "      <td>-0.441155</td>\n",
       "      <td>-0.378569</td>\n",
       "    </tr>\n",
       "    <tr>\n",
       "      <th>16</th>\n",
       "      <td>2008</td>\n",
       "      <td>-3.523</td>\n",
       "      <td>-0.154689</td>\n",
       "      <td>-0.337786</td>\n",
       "      <td>-3.03052</td>\n",
       "      <td>0.0924152</td>\n",
       "      <td>0.607006</td>\n",
       "      <td>-0.401914</td>\n",
       "      <td>-0.112676</td>\n",
       "    </tr>\n",
       "    <tr>\n",
       "      <th>17</th>\n",
       "      <td>2009</td>\n",
       "      <td>-3.00637</td>\n",
       "      <td>-0.284022</td>\n",
       "      <td>0.609948</td>\n",
       "      <td>-3.3323</td>\n",
       "      <td>-0.396403</td>\n",
       "      <td>0.388138</td>\n",
       "      <td>-0.550843</td>\n",
       "      <td>-0.233699</td>\n",
       "    </tr>\n",
       "    <tr>\n",
       "      <th>18</th>\n",
       "      <td>2010</td>\n",
       "      <td>-2.5141</td>\n",
       "      <td>-0.0526179</td>\n",
       "      <td>0.238653</td>\n",
       "      <td>-2.70013</td>\n",
       "      <td>0.0325817</td>\n",
       "      <td>0.409943</td>\n",
       "      <td>-0.362167</td>\n",
       "      <td>-0.015194</td>\n",
       "    </tr>\n",
       "    <tr>\n",
       "      <th>19</th>\n",
       "      <td>2011</td>\n",
       "      <td>-4.19234</td>\n",
       "      <td>-0.723568</td>\n",
       "      <td>-0.548307</td>\n",
       "      <td>-2.92046</td>\n",
       "      <td>0.179385</td>\n",
       "      <td>0.621704</td>\n",
       "      <td>-0.330879</td>\n",
       "      <td>-0.11144</td>\n",
       "    </tr>\n",
       "    <tr>\n",
       "      <th>20</th>\n",
       "      <td>2012</td>\n",
       "      <td>-2.76836</td>\n",
       "      <td>-0.119956</td>\n",
       "      <td>0.630373</td>\n",
       "      <td>-3.27878</td>\n",
       "      <td>-0.119651</td>\n",
       "      <td>0.339171</td>\n",
       "      <td>-0.356249</td>\n",
       "      <td>-0.102574</td>\n",
       "    </tr>\n",
       "  </tbody>\n",
       "</table>\n",
       "</div>"
      ],
      "text/plain": [
       "    Year earth_land_total south_land_total trop_land_total north_land_total  \\\n",
       "0   1992         -2.44695         0.224023        -0.81209         -1.85888   \n",
       "1   1993         -3.34941        -0.368533       -0.369603         -2.61127   \n",
       "2   1994        -0.734497         0.292096        0.573278         -1.59987   \n",
       "3   1995        -0.811956        -0.244602         1.26042         -1.82777   \n",
       "4   1996         -2.30852        -0.238651       -0.371002         -1.69887   \n",
       "5   1997        -0.534001         0.393517         1.15454         -2.08206   \n",
       "6   1998          1.01841         0.683573          2.2621         -1.92727   \n",
       "7   1999         -2.13609        0.0547002        0.197585         -2.38837   \n",
       "8   2000         -2.13503        -0.394168        0.295049         -2.03592   \n",
       "9   2001         -2.04285        -0.201406        0.290846         -2.13229   \n",
       "10  2002        -0.415532        0.0792672         1.06597         -1.56077   \n",
       "11  2003         -1.01934       -0.0331783        0.328092         -1.31425   \n",
       "12  2004         -2.48687       -0.0484896       0.0272704         -2.46565   \n",
       "13  2005        -0.965314        0.0869331         1.36334         -2.41559   \n",
       "14  2006         -2.95286        -0.314295        -0.38331         -2.25526   \n",
       "15  2007          -1.8193       -0.0369875         1.23391         -3.01622   \n",
       "16  2008           -3.523        -0.154689       -0.337786         -3.03052   \n",
       "17  2009         -3.00637        -0.284022        0.609948          -3.3323   \n",
       "18  2010          -2.5141       -0.0526179        0.238653         -2.70013   \n",
       "19  2011         -4.19234        -0.723568       -0.548307         -2.92046   \n",
       "20  2012         -2.76836        -0.119956        0.630373         -3.27878   \n",
       "\n",
       "   earth_ocean_total south_ocean_total trop_ocean_total north_ocean_total  \n",
       "0          -0.252198           0.51051        -0.483421         -0.279286  \n",
       "1            1.24133           1.07817       -0.0101273          0.173287  \n",
       "2           0.112975           0.57777        -0.471583        0.00678795  \n",
       "3           0.225526          0.797611        -0.461935          -0.11015  \n",
       "4           0.396192           0.74824        -0.334994         -0.017055  \n",
       "5          -0.466631          0.221819        -0.617863        -0.0705875  \n",
       "6          -0.426082           0.18317        -0.629241         0.0199884  \n",
       "7           0.143578          0.500371        -0.428802         0.0720088  \n",
       "8           0.298124          0.549731        -0.291496         0.0398891  \n",
       "9           0.201494          0.691956         -0.46857        -0.0218921  \n",
       "10         0.0892122          0.768321        -0.471581         -0.207527  \n",
       "11        -0.0198941          0.580932        -0.343404         -0.257422  \n",
       "12          0.189821          0.762688        -0.322493         -0.250374  \n",
       "13         -0.119464          0.462407        -0.426171           -0.1557  \n",
       "14         -0.304833          0.583911        -0.614549         -0.274196  \n",
       "15         -0.273511          0.546213        -0.441155         -0.378569  \n",
       "16         0.0924152          0.607006        -0.401914         -0.112676  \n",
       "17         -0.396403          0.388138        -0.550843         -0.233699  \n",
       "18         0.0325817          0.409943        -0.362167         -0.015194  \n",
       "19          0.179385          0.621704        -0.330879          -0.11144  \n",
       "20         -0.119651          0.339171        -0.356249         -0.102574  "
      ]
     },
     "execution_count": 20,
     "metadata": {},
     "output_type": "execute_result"
    }
   ],
   "source": [
    "y"
   ]
  },
  {
   "cell_type": "code",
   "execution_count": 21,
   "metadata": {},
   "outputs": [
    {
     "ename": "TypeError",
     "evalue": "write() argument must be str, not bytes",
     "output_type": "error",
     "traceback": [
      "\u001b[0;31m---------------------------------------------------------------------------\u001b[0m",
      "\u001b[0;31mTypeError\u001b[0m                                 Traceback (most recent call last)",
      "\u001b[0;32m<ipython-input-21-b0e2bc4a0ef5>\u001b[0m in \u001b[0;36m<module>\u001b[0;34m\u001b[0m\n\u001b[0;32m----> 1\u001b[0;31m \u001b[0mpickle\u001b[0m\u001b[0;34m.\u001b[0m\u001b[0mdump\u001b[0m\u001b[0;34m(\u001b[0m\u001b[0my\u001b[0m\u001b[0;34m,\u001b[0m \u001b[0mopen\u001b[0m\u001b[0;34m(\u001b[0m\u001b[0;34m\"output.csv\"\u001b[0m\u001b[0;34m,\u001b[0m \u001b[0;34m\"w\"\u001b[0m\u001b[0;34m)\u001b[0m\u001b[0;34m)\u001b[0m\u001b[0;34m\u001b[0m\u001b[0;34m\u001b[0m\u001b[0m\n\u001b[0m",
      "\u001b[0;31mTypeError\u001b[0m: write() argument must be str, not bytes"
     ]
    }
   ],
   "source": [
    "pickle.dump(y, open(\"output.csv\", \"w\"))"
   ]
  },
  {
   "cell_type": "markdown",
   "metadata": {},
   "source": [
    "# Return DataArray in Spatial"
   ]
  },
  {
   "cell_type": "code",
   "execution_count": 9,
   "metadata": {},
   "outputs": [
    {
     "data": {
      "text/plain": [
       "<xarray.Dataset>\n",
       "Dimensions:         (time: 252)\n",
       "Coordinates:\n",
       "  * time            (time) object 1992-01-16 00:00:00 ... 2012-12-16 00:00:00\n",
       "Data variables:\n",
       "    Earth_Land      (time) float64 -0.2064 -0.3233 -0.4555 ... 0.02093 -0.01092\n",
       "    South_Land      (time) float64 0.00262 0.01488 -0.005087 ... 0.0481 0.004143\n",
       "    Tropical_Land   (time) float64 -0.1846 -0.1388 -0.1045 ... 0.1637 0.09664\n",
       "    North_Land      (time) float64 -0.02442 -0.1993 -0.3459 ... -0.1909 -0.1117\n",
       "    Earth_Ocean     (time) float64 0.09155 0.01149 0.005619 ... 0.1239 0.07068\n",
       "    South_Ocean     (time) float64 0.08013 0.0373 0.08644 ... 0.05885 0.07064\n",
       "    Tropical_Ocean  (time) float64 -0.01266 -0.03395 ... 0.04484 -0.003618\n",
       "    North_Ocean     (time) float64 0.02408 0.008147 -0.01712 ... 0.0202 0.003659"
      ]
     },
     "execution_count": 9,
     "metadata": {},
     "output_type": "execute_result"
    }
   ],
   "source": [
    "s"
   ]
  },
  {
   "cell_type": "code",
   "execution_count": 10,
   "metadata": {},
   "outputs": [
    {
     "ename": "AttributeError",
     "evalue": "'Dataset' object has no attribute 'iloc'",
     "output_type": "error",
     "traceback": [
      "\u001b[0;31m---------------------------------------------------------------------------\u001b[0m",
      "\u001b[0;31mAttributeError\u001b[0m                            Traceback (most recent call last)",
      "\u001b[0;32m<ipython-input-10-d13fafe54afe>\u001b[0m in \u001b[0;36m<module>\u001b[0;34m\u001b[0m\n\u001b[0;32m----> 1\u001b[0;31m da = xr.DataArray(s.iloc[:,1],\n\u001b[0m\u001b[1;32m      2\u001b[0m              \u001b[0mdims\u001b[0m\u001b[0;34m=\u001b[0m\u001b[0;34m[\u001b[0m\u001b[0;34m'time'\u001b[0m\u001b[0;34m]\u001b[0m\u001b[0;34m,\u001b[0m\u001b[0;34m\u001b[0m\u001b[0;34m\u001b[0m\u001b[0m\n\u001b[1;32m      3\u001b[0m              \u001b[0mcoords\u001b[0m\u001b[0;34m=\u001b[0m\u001b[0;34m{\u001b[0m\u001b[0;34m'time'\u001b[0m\u001b[0;34m:\u001b[0m \u001b[0ms\u001b[0m\u001b[0;34m.\u001b[0m\u001b[0mtime\u001b[0m\u001b[0;34m}\u001b[0m\u001b[0;34m\u001b[0m\u001b[0;34m\u001b[0m\u001b[0m\n\u001b[1;32m      4\u001b[0m             )\n\u001b[1;32m      5\u001b[0m \u001b[0mda\u001b[0m\u001b[0;34m\u001b[0m\u001b[0;34m\u001b[0m\u001b[0m\n",
      "\u001b[0;32m~/anaconda3/lib/python3.7/site-packages/xarray/core/common.py\u001b[0m in \u001b[0;36m__getattr__\u001b[0;34m(self, name)\u001b[0m\n\u001b[1;32m    177\u001b[0m                     \u001b[0;32mreturn\u001b[0m \u001b[0msource\u001b[0m\u001b[0;34m[\u001b[0m\u001b[0mname\u001b[0m\u001b[0;34m]\u001b[0m\u001b[0;34m\u001b[0m\u001b[0;34m\u001b[0m\u001b[0m\n\u001b[1;32m    178\u001b[0m         raise AttributeError(\"%r object has no attribute %r\" %\n\u001b[0;32m--> 179\u001b[0;31m                              (type(self).__name__, name))\n\u001b[0m\u001b[1;32m    180\u001b[0m \u001b[0;34m\u001b[0m\u001b[0m\n\u001b[1;32m    181\u001b[0m     \u001b[0;32mdef\u001b[0m \u001b[0m__setattr__\u001b[0m\u001b[0;34m(\u001b[0m\u001b[0mself\u001b[0m\u001b[0;34m,\u001b[0m \u001b[0mname\u001b[0m\u001b[0;34m,\u001b[0m \u001b[0mvalue\u001b[0m\u001b[0;34m)\u001b[0m\u001b[0;34m:\u001b[0m\u001b[0;34m\u001b[0m\u001b[0;34m\u001b[0m\u001b[0m\n",
      "\u001b[0;31mAttributeError\u001b[0m: 'Dataset' object has no attribute 'iloc'"
     ]
    }
   ],
   "source": [
    "da = xr.DataArray(s.iloc[:,1],\n",
    "             dims=['time'],\n",
    "             coords={'time': s.time}\n",
    "            )\n",
    "da"
   ]
  },
  {
   "cell_type": "code",
   "execution_count": 11,
   "metadata": {},
   "outputs": [
    {
     "ename": "SyntaxError",
     "evalue": "invalid syntax (<ipython-input-11-d01e16c96230>, line 1)",
     "output_type": "error",
     "traceback": [
      "\u001b[0;36m  File \u001b[0;32m\"<ipython-input-11-d01e16c96230>\"\u001b[0;36m, line \u001b[0;32m1\u001b[0m\n\u001b[0;31m    xr.Dataset(,\u001b[0m\n\u001b[0m               ^\u001b[0m\n\u001b[0;31mSyntaxError\u001b[0m\u001b[0;31m:\u001b[0m invalid syntax\n"
     ]
    }
   ],
   "source": [
    "xr.Dataset(,\n",
    "           data_vars={'South_Land': (s.iloc[:,2]),\n",
    "                      'Tropical_Land': (s.iloc[:,3]),\n",
    "                      'North_Land': (s.iloc[:,4])}\n",
    "          )"
   ]
  },
  {
   "cell_type": "code",
   "execution_count": 44,
   "metadata": {},
   "outputs": [
    {
     "data": {
      "text/plain": [
       "<xarray.Dataset>\n",
       "Dimensions:        (time: 252)\n",
       "Coordinates:\n",
       "  * time           (time) object 1992-01-16 00:00:00 ... 2012-12-16 00:00:00\n",
       "Data variables:\n",
       "    South_Land     (time) object 0.00262 0.01488 -0.005087 ... 0.0481 0.004143\n",
       "    Tropical_Land  (time) object -0.1846 -0.1388 -0.1045 ... 0.1637 0.09664\n",
       "    North_Land     (time) object -0.02442 -0.1993 -0.3459 ... -0.1909 -0.1117"
      ]
     },
     "execution_count": 44,
     "metadata": {},
     "output_type": "execute_result"
    }
   ],
   "source": [
    "xr.Dataset({'South_Land': (('time'), s.iloc[:,2]),\n",
    "            'Tropical_Land': (('time'), s.iloc[:,3]),\n",
    "            'North_Land': (('time'), s.iloc[:,4])},\n",
    "           coords={'time': (('time'), s['time'])}\n",
    "          )"
   ]
  },
  {
   "cell_type": "code",
   "execution_count": 12,
   "metadata": {},
   "outputs": [
    {
     "data": {
      "text/plain": [
       "<xarray.Dataset>\n",
       "Dimensions:         (time: 252)\n",
       "Coordinates:\n",
       "  * time            (time) object 1992-01-16 00:00:00 ... 2012-12-16 00:00:00\n",
       "Data variables:\n",
       "    Earth_Land      (time) float64 -0.2064 -0.3233 -0.4555 ... 0.02093 -0.01092\n",
       "    South_Land      (time) float64 0.00262 0.01488 -0.005087 ... 0.0481 0.004143\n",
       "    Tropical_Land   (time) float64 -0.1846 -0.1388 -0.1045 ... 0.1637 0.09664\n",
       "    North_Land      (time) float64 -0.02442 -0.1993 -0.3459 ... -0.1909 -0.1117\n",
       "    Earth_Ocean     (time) float64 0.09155 0.01149 0.005619 ... 0.1239 0.07068\n",
       "    South_Ocean     (time) float64 0.08013 0.0373 0.08644 ... 0.05885 0.07064\n",
       "    Tropical_Ocean  (time) float64 -0.01266 -0.03395 ... 0.04484 -0.003618\n",
       "    North_Ocean     (time) float64 0.02408 0.008147 -0.01712 ... 0.0202 0.003659"
      ]
     },
     "execution_count": 12,
     "metadata": {},
     "output_type": "execute_result"
    }
   ],
   "source": [
    "s"
   ]
  },
  {
   "cell_type": "code",
   "execution_count": 20,
   "metadata": {},
   "outputs": [
    {
     "data": {
      "text/plain": [
       "<xarray.Dataset>\n",
       "Dimensions:         (time: 21)\n",
       "Coordinates:\n",
       "  * time            (time) object 1992-12-30 00:00:00 ... 2012-12-30 00:00:00\n",
       "Data variables:\n",
       "    Earth_Land      (time) float64 -2.447 -3.349 -0.7345 ... -4.192 -2.768\n",
       "    South_Land      (time) float64 0.224 -0.3685 0.2921 ... -0.7236 -0.12\n",
       "    Tropical_Land   (time) float64 -0.8121 -0.3696 0.5733 ... -0.5483 0.6304\n",
       "    North_Land      (time) float64 -1.859 -2.611 -1.6 ... -2.7 -2.92 -3.279\n",
       "    Earth_Ocean     (time) float64 -0.2522 1.241 0.113 ... 0.1794 -0.1197\n",
       "    South_Ocean     (time) float64 0.5105 1.078 0.5778 ... 0.4099 0.6217 0.3392\n",
       "    Tropical_Ocean  (time) float64 -0.4834 -0.01013 -0.4716 ... -0.3309 -0.3562\n",
       "    North_Ocean     (time) float64 -0.2793 0.1733 0.006788 ... -0.1114 -0.1026"
      ]
     },
     "execution_count": 20,
     "metadata": {},
     "output_type": "execute_result"
    }
   ],
   "source": [
    "year_s = s.resample({'time': 'Y'}).sum()\n",
    "year_s"
   ]
  },
  {
   "cell_type": "code",
   "execution_count": 28,
   "metadata": {},
   "outputs": [
    {
     "data": {
      "text/plain": [
       "1992"
      ]
     },
     "execution_count": 28,
     "metadata": {},
     "output_type": "execute_result"
    }
   ],
   "source": [
    "year_s.time.values[0].year"
   ]
  },
  {
   "cell_type": "code",
   "execution_count": 30,
   "metadata": {
    "scrolled": true
   },
   "outputs": [
    {
     "data": {
      "text/plain": [
       "[1992,\n",
       " 1993,\n",
       " 1994,\n",
       " 1995,\n",
       " 1996,\n",
       " 1997,\n",
       " 1998,\n",
       " 1999,\n",
       " 2000,\n",
       " 2001,\n",
       " 2002,\n",
       " 2003,\n",
       " 2004,\n",
       " 2005,\n",
       " 2006,\n",
       " 2007,\n",
       " 2008,\n",
       " 2009,\n",
       " 2010,\n",
       " 2011,\n",
       " 2012]"
      ]
     },
     "execution_count": 30,
     "metadata": {},
     "output_type": "execute_result"
    }
   ],
   "source": [
    "year_array = []\n",
    "for year in year_s.time.values:\n",
    "    year_array.append(year.year)\n",
    "year_array"
   ]
  },
  {
   "cell_type": "code",
   "execution_count": 44,
   "metadata": {},
   "outputs": [
    {
     "data": {
      "text/plain": [
       "[1992,\n",
       " 1993,\n",
       " 1994,\n",
       " 1995,\n",
       " 1996,\n",
       " 1997,\n",
       " 1998,\n",
       " 1999,\n",
       " 2000,\n",
       " 2001,\n",
       " 2002,\n",
       " 2003,\n",
       " 2004,\n",
       " 2005,\n",
       " 2006,\n",
       " 2007,\n",
       " 2008,\n",
       " 2009,\n",
       " 2010,\n",
       " 2011,\n",
       " 2012]"
      ]
     },
     "execution_count": 44,
     "metadata": {},
     "output_type": "execute_result"
    }
   ],
   "source": [
    "[year.year for year in year_s.time.values]"
   ]
  },
  {
   "cell_type": "code",
   "execution_count": 33,
   "metadata": {},
   "outputs": [],
   "source": [
    "my_df = pd.DataFrame({'Earth_Land': year_s.Earth_Land.values,\n",
    "              'Earth_Ocean': year_s.Earth_Ocean.values,\n",
    "              'Year': year_array\n",
    "             }).set_index('Year')"
   ]
  },
  {
   "cell_type": "code",
   "execution_count": 43,
   "metadata": {},
   "outputs": [
    {
     "data": {
      "text/plain": [
       "Text(0, 0.5, 'C flux to the atmosphere (GtC/yr)')"
      ]
     },
     "execution_count": 43,
     "metadata": {},
     "output_type": "execute_result"
    },
    {
     "data": {
      "image/png": "[encoded data removed]",
      "text/plain": [
       "<Figure size 432x288 with 1 Axes>"
      ]
     },
     "metadata": {
      "needs_background": "light"
     },
     "output_type": "display_data"
    }
   ],
   "source": [
    "ax = plt.figure().gca()\n",
    "ax.plot(my_df.index, my_df.Earth_Land)\n",
    "ax.xaxis.set_major_locator(MaxNLocator(integer=True))\n",
    "plt.title(\"Annual Global Land Flux\")\n",
    "plt.xlabel(\"Year\")\n",
    "plt.ylabel(\"C flux to the atmosphere (GtC/yr)\")\n",
    "#plt.ylim([-15,0])"
   ]
  },
  {
   "cell_type": "code",
   "execution_count": 50,
   "metadata": {},
   "outputs": [
    {
     "data": {
      "text/plain": [
       "<xarray.Dataset>\n",
       "Dimensions:         (time: 3)\n",
       "Coordinates:\n",
       "  * time            (time) object 1992-12-30 00:00:00 ... 2012-12-30 00:00:00\n",
       "Data variables:\n",
       "    Earth_Land      (time) float64 -2.447 -13.45 -25.25\n",
       "    South_Land      (time) float64 0.224 0.05579 -1.681\n",
       "    Tropical_Land   (time) float64 -0.8121 6.359 3.162\n",
       "    North_Land      (time) float64 -1.859 -19.86 -26.73\n",
       "    Earth_Ocean     (time) float64 -0.2522 1.816 -0.7396\n",
       "    South_Ocean     (time) float64 0.5105 6.117 5.302\n",
       "    Tropical_Ocean  (time) float64 -0.4834 -4.186 -4.15\n",
       "    North_Ocean     (time) float64 -0.2793 -0.1153 -1.892"
      ]
     },
     "execution_count": 50,
     "metadata": {},
     "output_type": "execute_result"
    }
   ],
   "source": [
    "s.resample({'time': '10Y'}).sum()"
   ]
  },
  {
   "cell_type": "code",
   "execution_count": 51,
   "metadata": {},
   "outputs": [
    {
     "data": {
      "text/plain": [
       "<xarray.Dataset>\n",
       "Dimensions:         ()\n",
       "Data variables:\n",
       "    Earth_Land      float64 -41.14\n",
       "    South_Land      float64 -1.401\n",
       "    Tropical_Land   float64 8.709\n",
       "    North_Land      float64 -48.45\n",
       "    Earth_Ocean     float64 0.824\n",
       "    South_Ocean     float64 11.93\n",
       "    Tropical_Ocean  float64 -8.819\n",
       "    North_Ocean     float64 -2.286"
      ]
     },
     "execution_count": 51,
     "metadata": {},
     "output_type": "execute_result"
    }
   ],
   "source": [
    "s.sum()"
   ]
  },
  {
   "cell_type": "code",
   "execution_count": 54,
   "metadata": {},
   "outputs": [
    {
     "data": {
      "text/plain": [
       "<xarray.Dataset>\n",
       "Dimensions:         (time: 3)\n",
       "Coordinates:\n",
       "  * time            (time) object 1992-12-30 00:00:00 ... 2012-12-30 00:00:00\n",
       "Data variables:\n",
       "    Earth_Land      (time) float64 -2.447 -13.45 -25.25\n",
       "    South_Land      (time) float64 0.224 0.05579 -1.681\n",
       "    Tropical_Land   (time) float64 -0.8121 6.359 3.162\n",
       "    North_Land      (time) float64 -1.859 -19.86 -26.73\n",
       "    Earth_Ocean     (time) float64 -0.2522 1.816 -0.7396\n",
       "    South_Ocean     (time) float64 0.5105 6.117 5.302\n",
       "    Tropical_Ocean  (time) float64 -0.4834 -4.186 -4.15\n",
       "    North_Ocean     (time) float64 -0.2793 -0.1153 -1.892"
      ]
     },
     "execution_count": 54,
     "metadata": {},
     "output_type": "execute_result"
    }
   ],
   "source": [
    "s.resample({'time': '10Y'}).sum()"
   ]
  },
  {
   "cell_type": "code",
   "execution_count": null,
   "metadata": {},
   "outputs": [],
   "source": []
  }
 ],
 "metadata": {
  "kernelspec": {
   "display_name": "Python 3",
   "language": "python",
   "name": "python3"
  },
  "language_info": {
   "codemirror_mode": {
    "name": "ipython",
    "version": 3
   },
   "file_extension": ".py",
   "mimetype": "text/x-python",
   "name": "python",
   "nbconvert_exporter": "python",
   "pygments_lexer": "ipython3",
   "version": "3.7.1"
  },
  "toc": {
   "base_numbering": 1,
   "nav_menu": {},
   "number_sections": true,
   "sideBar": true,
   "skip_h1_title": false,
   "title_cell": "Table of Contents",
   "title_sidebar": "Contents",
   "toc_cell": false,
   "toc_position": {},
   "toc_section_display": true,
   "toc_window_display": false
  }
 },
 "nbformat": 4,
 "nbformat_minor": 2
}
