{
 "cells": [
  {
   "cell_type": "code",
   "execution_count": 2,
   "metadata": {},
   "outputs": [],
   "source": [
    "import numpy as np\n",
    "import pandas as pd\n",
    "import xarray as xr\n",
    "import matplotlib.pyplot as plt\n",
    "\n",
    "%matplotlib inline"
   ]
  },
  {
   "cell_type": "markdown",
   "metadata": {},
   "source": [
    "# Introduction to Peylin flux data"
   ]
  },
  {
   "cell_type": "markdown",
   "metadata": {},
   "source": [
    "Open flux data files and try some analyis."
   ]
  },
  {
   "cell_type": "code",
   "execution_count": 3,
   "metadata": {},
   "outputs": [],
   "source": [
    "file_dir = './../data/fco2_CAMS-V17-1-2018_June2018-ext3_1979-2017_monthlymean_XYT.nc'\n",
    "CAMS_V17 = xr.open_dataset(file_dir)"
   ]
  },
  {
   "cell_type": "code",
   "execution_count": 4,
   "metadata": {},
   "outputs": [
    {
     "data": {
      "text/plain": [
       "<xarray.Dataset>\n",
       "Dimensions:           (latitude: 180, longitude: 360, time: 468)\n",
       "Coordinates:\n",
       "  * longitude         (longitude) float64 -179.5 -178.5 -177.5 ... 178.5 179.5\n",
       "  * latitude          (latitude) float64 -89.5 -88.5 -87.5 ... 87.5 88.5 89.5\n",
       "  * time              (time) object 1979-01-16 00:00:00 ... 2017-12-16 00:00:00\n",
       "Data variables:\n",
       "    fossil            (time, latitude, longitude) float32 ...\n",
       "    Terrestrial_flux  (time, latitude, longitude) float32 ...\n",
       "    Ocean_flux        (time, latitude, longitude) float32 ...\n",
       "Attributes:\n",
       "    Conventions:  CF-1.0\n",
       "    history:      Thu Apr  4 23:44:41 2019: ncrename -a .FillValue,_FillValue...\n",
       "    NCO:          \"4.6.3\""
      ]
     },
     "execution_count": 4,
     "metadata": {},
     "output_type": "execute_result"
    }
   ],
   "source": [
    "CAMS_V17"
   ]
  },
  {
   "cell_type": "code",
   "execution_count": 17,
   "metadata": {},
   "outputs": [
    {
     "data": {
      "text/plain": [
       "<xarray.DataArray 'fossil' (time: 468)>\n",
       "array([0.114432, 0.114432, 0.114432, ..., 0.213189, 0.213189, 0.213189],\n",
       "      dtype=float32)\n",
       "Coordinates:\n",
       "    longitude  float64 0.5\n",
       "    latitude   float64 0.5\n",
       "  * time       (time) object 1979-01-16 00:00:00 ... 2017-12-16 00:00:00\n",
       "Attributes:\n",
       "    title:    fossil\n",
       "    units:    gC/m2/year"
      ]
     },
     "execution_count": 17,
     "metadata": {},
     "output_type": "execute_result"
    }
   ],
   "source": [
    "CAMS_V17.fossil.sel(longitude=0.5, latitude=0.5)"
   ]
  },
  {
   "cell_type": "code",
   "execution_count": 18,
   "metadata": {},
   "outputs": [],
   "source": [
    "test = CAMS_V17.fossil.sel(longitude=0.5, latitude=0.5).values"
   ]
  },
  {
   "cell_type": "code",
   "execution_count": 19,
   "metadata": {},
   "outputs": [
    {
     "data": {
      "text/plain": [
       "[<matplotlib.lines.Line2D at 0x7fa6d26dd2b0>]"
      ]
     },
     "execution_count": 19,
     "metadata": {},
     "output_type": "execute_result"
    },
    {
     "data": {
      "image/png": "[encoded data removed]",
      "text/plain": [
       "<Figure size 432x288 with 1 Axes>"
      ]
     },
     "metadata": {
      "needs_background": "light"
     },
     "output_type": "display_data"
    }
   ],
   "source": [
    "plt.plot(test)"
   ]
  },
  {
   "cell_type": "code",
   "execution_count": null,
   "metadata": {},
   "outputs": [],
   "source": []
  }
 ],
 "metadata": {
  "kernelspec": {
   "display_name": "Python 3",
   "language": "python",
   "name": "python3"
  },
  "language_info": {
   "codemirror_mode": {
    "name": "ipython",
    "version": 3
   },
   "file_extension": ".py",
   "mimetype": "text/x-python",
   "name": "python",
   "nbconvert_exporter": "python",
   "pygments_lexer": "ipython3",
   "version": "3.7.1"
  },
  "toc": {
   "base_numbering": 1,
   "nav_menu": {},
   "number_sections": true,
   "sideBar": true,
   "skip_h1_title": false,
   "title_cell": "Table of Contents",
   "title_sidebar": "Contents",
   "toc_cell": false,
   "toc_position": {},
   "toc_section_display": true,
   "toc_window_display": false
  }
 },
 "nbformat": 4,
 "nbformat_minor": 2
}
