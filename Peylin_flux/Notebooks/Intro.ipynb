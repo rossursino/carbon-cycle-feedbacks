{
 "cells": [
  {
   "cell_type": "code",
   "execution_count": 1,
   "metadata": {},
   "outputs": [],
   "source": [
    "import numpy as np\n",
    "import pandas as pd\n",
    "import xarray as xr\n",
    "import matplotlib.pyplot as plt\n",
    "import cartopy.crs as ccrs\n",
    "\n",
    "%matplotlib inline"
   ]
  },
  {
   "cell_type": "markdown",
   "metadata": {},
   "source": [
    "# Introduction to Peylin flux data"
   ]
  },
  {
   "cell_type": "markdown",
   "metadata": {},
   "source": [
    "Open flux data files and try some analyis."
   ]
  },
  {
   "cell_type": "code",
   "execution_count": 2,
   "metadata": {},
   "outputs": [],
   "source": [
    "file_dir = './../data/fco2_Rayner-C13-2018_June2018-ext3_1992-2012_monthlymean_XYT.nc'\n",
    "Rayner = xr.open_dataset(file_dir)"
   ]
  },
  {
   "cell_type": "code",
   "execution_count": 3,
   "metadata": {},
   "outputs": [
    {
     "data": {
      "text/plain": [
       "<xarray.Dataset>\n",
       "Dimensions:           (latitude: 180, longitude: 360, time: 252)\n",
       "Coordinates:\n",
       "  * longitude         (longitude) float64 -179.5 -178.5 -177.5 ... 178.5 179.5\n",
       "  * latitude          (latitude) float64 -89.5 -88.5 -87.5 ... 87.5 88.5 89.5\n",
       "  * time              (time) object 1992-01-16 00:00:00 ... 2012-12-16 00:00:00\n",
       "Data variables:\n",
       "    Terrestrial_flux  (time, latitude, longitude) float32 ...\n",
       "    ocean             (time, latitude, longitude) float32 ...\n",
       "Attributes:\n",
       "    Conventions:  CF-1.0\n",
       "    history:      Fri Apr  5 01:24:44 2019: ncrename -a .FillValue,_FillValue...\n",
       "    NCO:          \"4.6.3\""
      ]
     },
     "execution_count": 3,
     "metadata": {},
     "output_type": "execute_result"
    }
   ],
   "source": [
    "Rayner"
   ]
  },
  {
   "cell_type": "code",
   "execution_count": 4,
   "metadata": {},
   "outputs": [],
   "source": [
    "file_dir = './../data/fco2_CAMS-V17-1-2018_June2018-ext3_1979-2017_monthlymean_XYT.nc'\n",
    "CAMS_V17 = xr.open_dataset(file_dir)"
   ]
  },
  {
   "cell_type": "code",
   "execution_count": 5,
   "metadata": {},
   "outputs": [
    {
     "data": {
      "text/plain": [
       "<xarray.Dataset>\n",
       "Dimensions:           (latitude: 180, longitude: 360, time: 468)\n",
       "Coordinates:\n",
       "  * longitude         (longitude) float64 -179.5 -178.5 -177.5 ... 178.5 179.5\n",
       "  * latitude          (latitude) float64 -89.5 -88.5 -87.5 ... 87.5 88.5 89.5\n",
       "  * time              (time) object 1979-01-16 00:00:00 ... 2017-12-16 00:00:00\n",
       "Data variables:\n",
       "    fossil            (time, latitude, longitude) float32 ...\n",
       "    Terrestrial_flux  (time, latitude, longitude) float32 ...\n",
       "    Ocean_flux        (time, latitude, longitude) float32 ...\n",
       "Attributes:\n",
       "    Conventions:  CF-1.0\n",
       "    history:      Thu Apr  4 23:44:41 2019: ncrename -a .FillValue,_FillValue...\n",
       "    NCO:          \"4.6.3\""
      ]
     },
     "execution_count": 5,
     "metadata": {},
     "output_type": "execute_result"
    }
   ],
   "source": [
    "CAMS_V17"
   ]
  },
  {
   "cell_type": "code",
   "execution_count": 6,
   "metadata": {},
   "outputs": [
    {
     "data": {
      "text/plain": [
       "<xarray.DataArray 'Terrestrial_flux' (time: 468, latitude: 180, longitude: 360)>\n",
       "[30326400 values with dtype=float32]\n",
       "Coordinates:\n",
       "  * longitude  (longitude) float64 -179.5 -178.5 -177.5 ... 177.5 178.5 179.5\n",
       "  * latitude   (latitude) float64 -89.5 -88.5 -87.5 -86.5 ... 87.5 88.5 89.5\n",
       "  * time       (time) object 1979-01-16 00:00:00 ... 2017-12-16 00:00:00\n",
       "Attributes:\n",
       "    title:    Terrestrial_flux\n",
       "    units:    gC/m2/year"
      ]
     },
     "execution_count": 6,
     "metadata": {},
     "output_type": "execute_result"
    }
   ],
   "source": [
    "CAMS_V17.Terrestrial_flux"
   ]
  },
  {
   "cell_type": "code",
   "execution_count": 7,
   "metadata": {},
   "outputs": [
    {
     "data": {
      "text/plain": [
       "<xarray.DataArray 'Terrestrial_flux' (time: 1, latitude: 180, longitude: 360)>\n",
       "array([[[6.597166e-09, 6.602390e-09, ..., 6.933514e-09, 6.597166e-09],\n",
       "        [4.039088e-08, 4.044185e-08, ..., 4.367262e-08, 4.039088e-08],\n",
       "        ...,\n",
       "        [0.000000e+00, 0.000000e+00, ..., 0.000000e+00, 0.000000e+00],\n",
       "        [0.000000e+00, 0.000000e+00, ..., 0.000000e+00, 0.000000e+00]]],\n",
       "      dtype=float32)\n",
       "Coordinates:\n",
       "  * longitude  (longitude) float64 -179.5 -178.5 -177.5 ... 177.5 178.5 179.5\n",
       "  * latitude   (latitude) float64 -89.5 -88.5 -87.5 -86.5 ... 87.5 88.5 89.5\n",
       "  * time       (time) object 2017-11-16 00:00:00\n",
       "Attributes:\n",
       "    title:    Terrestrial_flux\n",
       "    units:    gC/m2/year"
      ]
     },
     "execution_count": 7,
     "metadata": {},
     "output_type": "execute_result"
    }
   ],
   "source": [
    "CAMS_V17.Terrestrial_flux.sel(time='2017-11-16')"
   ]
  },
  {
   "cell_type": "code",
   "execution_count": 8,
   "metadata": {
    "scrolled": false
   },
   "outputs": [
    {
     "data": {
      "text/plain": [
       "<xarray.DataArray 'Terrestrial_flux' (time: 1, latitude: 180, longitude: 360)>\n",
       "array([[[5.332498e-09, 5.336406e-09, ..., 5.449448e-09, 5.332498e-09],\n",
       "        [2.431741e-08, 2.435555e-08, ..., 2.545849e-08, 2.431741e-08],\n",
       "        ...,\n",
       "        [0.000000e+00, 0.000000e+00, ..., 0.000000e+00, 0.000000e+00],\n",
       "        [0.000000e+00, 0.000000e+00, ..., 0.000000e+00, 0.000000e+00]]],\n",
       "      dtype=float32)\n",
       "Coordinates:\n",
       "  * longitude  (longitude) float64 -179.5 -178.5 -177.5 ... 177.5 178.5 179.5\n",
       "  * latitude   (latitude) float64 -89.5 -88.5 -87.5 -86.5 ... 87.5 88.5 89.5\n",
       "  * time       (time) object 2017-12-16 00:00:00\n",
       "Attributes:\n",
       "    title:    Terrestrial_flux\n",
       "    units:    gC/m2/year"
      ]
     },
     "execution_count": 8,
     "metadata": {},
     "output_type": "execute_result"
    }
   ],
   "source": [
    "land = CAMS_V17.Terrestrial_flux.sel(time='2017-12-16')\n",
    "land"
   ]
  },
  {
   "cell_type": "code",
   "execution_count": 9,
   "metadata": {
    "scrolled": true
   },
   "outputs": [
    {
     "data": {
      "text/plain": [
       "<matplotlib.contour.QuadContourSet at 0x7f79f7fa0860>"
      ]
     },
     "execution_count": 9,
     "metadata": {},
     "output_type": "execute_result"
    },
    {
     "data": {
      "image/png": "[encoded data removed]",
      "text/plain": [
       "<Figure size 432x288 with 1 Axes>"
      ]
     },
     "metadata": {
      "needs_background": "light"
     },
     "output_type": "display_data"
    }
   ],
   "source": [
    "fig = plt.figure()\n",
    "ax = fig.add_subplot(1,1,1,projection=ccrs.PlateCarree())\n",
    "ax.coastlines()\n",
    "ax.contourf(land.longitude, land.latitude, land.values[0])"
   ]
  },
  {
   "cell_type": "code",
   "execution_count": 10,
   "metadata": {
    "scrolled": true
   },
   "outputs": [
    {
     "data": {
      "text/plain": [
       "<xarray.DataArray 'Ocean_flux' (time: 1, latitude: 180, longitude: 360)>\n",
       "array([[[ 0.      ,  0.      , ...,  0.      ,  0.      ],\n",
       "        [ 0.      ,  0.      , ...,  0.      ,  0.      ],\n",
       "        ...,\n",
       "        [-0.049694, -0.049657, ..., -0.049679, -0.049694],\n",
       "        [-0.051127, -0.051123, ..., -0.051125, -0.051127]]], dtype=float32)\n",
       "Coordinates:\n",
       "  * longitude  (longitude) float64 -179.5 -178.5 -177.5 ... 177.5 178.5 179.5\n",
       "  * latitude   (latitude) float64 -89.5 -88.5 -87.5 -86.5 ... 87.5 88.5 89.5\n",
       "  * time       (time) object 2017-11-16 00:00:00\n",
       "Attributes:\n",
       "    title:    Ocean_flux\n",
       "    units:    gC/m2/year"
      ]
     },
     "execution_count": 10,
     "metadata": {},
     "output_type": "execute_result"
    }
   ],
   "source": [
    "ocean = CAMS_V17.Ocean_flux.sel(time='2017-11-16')\n",
    "ocean"
   ]
  },
  {
   "cell_type": "code",
   "execution_count": 11,
   "metadata": {
    "scrolled": true
   },
   "outputs": [
    {
     "data": {
      "text/plain": [
       "<matplotlib.contour.QuadContourSet at 0x7f79f7e98828>"
      ]
     },
     "execution_count": 11,
     "metadata": {},
     "output_type": "execute_result"
    },
    {
     "data": {
      "image/png": "[encoded data removed]",
      "text/plain": [
       "<Figure size 432x288 with 1 Axes>"
      ]
     },
     "metadata": {
      "needs_background": "light"
     },
     "output_type": "display_data"
    }
   ],
   "source": [
    "fig = plt.figure()\n",
    "ax = fig.add_subplot(1,1,1,projection=ccrs.PlateCarree())\n",
    "ax.coastlines()\n",
    "ax.contourf(ocean.longitude, ocean.latitude, ocean.values[0])"
   ]
  },
  {
   "cell_type": "code",
   "execution_count": 12,
   "metadata": {
    "scrolled": true
   },
   "outputs": [
    {
     "data": {
      "text/plain": [
       "<xarray.DataArray 'fossil' (time: 1, latitude: 180, longitude: 360)>\n",
       "array([[[0., 0., ..., 0., 0.],\n",
       "        [0., 0., ..., 0., 0.],\n",
       "        ...,\n",
       "        [0., 0., ..., 0., 0.],\n",
       "        [0., 0., ..., 0., 0.]]], dtype=float32)\n",
       "Coordinates:\n",
       "  * longitude  (longitude) float64 -179.5 -178.5 -177.5 ... 177.5 178.5 179.5\n",
       "  * latitude   (latitude) float64 -89.5 -88.5 -87.5 -86.5 ... 87.5 88.5 89.5\n",
       "  * time       (time) object 2015-01-16 00:00:00\n",
       "Attributes:\n",
       "    title:    fossil\n",
       "    units:    gC/m2/year"
      ]
     },
     "execution_count": 12,
     "metadata": {},
     "output_type": "execute_result"
    }
   ],
   "source": [
    "fossil = CAMS_V17.fossil.sel(time='2015-01-16', method='nearest')\n",
    "fossil"
   ]
  },
  {
   "cell_type": "code",
   "execution_count": 13,
   "metadata": {
    "scrolled": true
   },
   "outputs": [
    {
     "data": {
      "text/plain": [
       "<matplotlib.contour.QuadContourSet at 0x7f79f7e0fd30>"
      ]
     },
     "execution_count": 13,
     "metadata": {},
     "output_type": "execute_result"
    },
    {
     "data": {
      "image/png": "[encoded data removed]",
      "text/plain": [
       "<Figure size 432x288 with 1 Axes>"
      ]
     },
     "metadata": {
      "needs_background": "light"
     },
     "output_type": "display_data"
    }
   ],
   "source": [
    "fig = plt.figure()\n",
    "ax = fig.add_subplot(1,1,1,projection=ccrs.PlateCarree())\n",
    "ax.coastlines()\n",
    "ax.contourf(fossil.longitude, fossil.latitude, fossil.values[0])"
   ]
  },
  {
   "cell_type": "markdown",
   "metadata": {},
   "source": [
    "# Introductory Gridbox analysis (area)"
   ]
  },
  {
   "cell_type": "code",
   "execution_count": 14,
   "metadata": {},
   "outputs": [
    {
     "data": {
      "text/plain": [
       "<xarray.DataArray 'latitude' (latitude: 180)>\n",
       "array([-89.5, -88.5, -87.5, -86.5, -85.5, -84.5, -83.5, -82.5, -81.5, -80.5,\n",
       "       -79.5, -78.5, -77.5, -76.5, -75.5, -74.5, -73.5, -72.5, -71.5, -70.5,\n",
       "       -69.5, -68.5, -67.5, -66.5, -65.5, -64.5, -63.5, -62.5, -61.5, -60.5,\n",
       "       -59.5, -58.5, -57.5, -56.5, -55.5, -54.5, -53.5, -52.5, -51.5, -50.5,\n",
       "       -49.5, -48.5, -47.5, -46.5, -45.5, -44.5, -43.5, -42.5, -41.5, -40.5,\n",
       "       -39.5, -38.5, -37.5, -36.5, -35.5, -34.5, -33.5, -32.5, -31.5, -30.5,\n",
       "       -29.5, -28.5, -27.5, -26.5, -25.5, -24.5, -23.5, -22.5, -21.5, -20.5,\n",
       "       -19.5, -18.5, -17.5, -16.5, -15.5, -14.5, -13.5, -12.5, -11.5, -10.5,\n",
       "        -9.5,  -8.5,  -7.5,  -6.5,  -5.5,  -4.5,  -3.5,  -2.5,  -1.5,  -0.5,\n",
       "         0.5,   1.5,   2.5,   3.5,   4.5,   5.5,   6.5,   7.5,   8.5,   9.5,\n",
       "        10.5,  11.5,  12.5,  13.5,  14.5,  15.5,  16.5,  17.5,  18.5,  19.5,\n",
       "        20.5,  21.5,  22.5,  23.5,  24.5,  25.5,  26.5,  27.5,  28.5,  29.5,\n",
       "        30.5,  31.5,  32.5,  33.5,  34.5,  35.5,  36.5,  37.5,  38.5,  39.5,\n",
       "        40.5,  41.5,  42.5,  43.5,  44.5,  45.5,  46.5,  47.5,  48.5,  49.5,\n",
       "        50.5,  51.5,  52.5,  53.5,  54.5,  55.5,  56.5,  57.5,  58.5,  59.5,\n",
       "        60.5,  61.5,  62.5,  63.5,  64.5,  65.5,  66.5,  67.5,  68.5,  69.5,\n",
       "        70.5,  71.5,  72.5,  73.5,  74.5,  75.5,  76.5,  77.5,  78.5,  79.5,\n",
       "        80.5,  81.5,  82.5,  83.5,  84.5,  85.5,  86.5,  87.5,  88.5,  89.5])\n",
       "Coordinates:\n",
       "  * latitude  (latitude) float64 -89.5 -88.5 -87.5 -86.5 ... 86.5 87.5 88.5 89.5\n",
       "Attributes:\n",
       "    standard_name:  latitude\n",
       "    long_name:      latitude\n",
       "    units:          degrees_north\n",
       "    axis:           Y"
      ]
     },
     "execution_count": 14,
     "metadata": {},
     "output_type": "execute_result"
    }
   ],
   "source": [
    "CAMS_V17.latitude"
   ]
  },
  {
   "cell_type": "code",
   "execution_count": 15,
   "metadata": {},
   "outputs": [
    {
     "data": {
      "text/plain": [
       "<xarray.DataArray 'longitude' (longitude: 360)>\n",
       "array([-179.5, -178.5, -177.5, ...,  177.5,  178.5,  179.5])\n",
       "Coordinates:\n",
       "  * longitude  (longitude) float64 -179.5 -178.5 -177.5 ... 177.5 178.5 179.5\n",
       "Attributes:\n",
       "    standard_name:  longitude\n",
       "    long_name:      longitude\n",
       "    units:          degrees_east\n",
       "    axis:           X"
      ]
     },
     "execution_count": 15,
     "metadata": {},
     "output_type": "execute_result"
    }
   ],
   "source": [
    "CAMS_V17.longitude"
   ]
  },
  {
   "cell_type": "markdown",
   "metadata": {},
   "source": [
    "Function to find the area of one gridbox in metres squared."
   ]
  },
  {
   "cell_type": "code",
   "execution_count": 16,
   "metadata": {},
   "outputs": [],
   "source": [
    "import sys"
   ]
  },
  {
   "cell_type": "code",
   "execution_count": 17,
   "metadata": {},
   "outputs": [],
   "source": [
    "sys.path.append('./../')\n",
    "from Scripts import earth_area as ea"
   ]
  },
  {
   "cell_type": "markdown",
   "metadata": {},
   "source": [
    "Example: Area between 20-21N and 20-21W."
   ]
  },
  {
   "cell_type": "code",
   "execution_count": 18,
   "metadata": {},
   "outputs": [
    {
     "data": {
      "text/plain": [
       "11581159925.416557"
      ]
     },
     "execution_count": 18,
     "metadata": {},
     "output_type": "execute_result"
    }
   ],
   "source": [
    "ea.scalar_earth_area(20,21,20,21)"
   ]
  },
  {
   "cell_type": "markdown",
   "metadata": {},
   "source": [
    "Example: Area between 0-1N and 0-1W."
   ]
  },
  {
   "cell_type": "code",
   "execution_count": 19,
   "metadata": {},
   "outputs": [
    {
     "data": {
      "text/plain": [
       "12363.683990261115"
      ]
     },
     "execution_count": 19,
     "metadata": {},
     "output_type": "execute_result"
    }
   ],
   "source": [
    "ea.scalar_earth_area(0,1,0,1)/1000000"
   ]
  },
  {
   "cell_type": "code",
   "execution_count": 20,
   "metadata": {},
   "outputs": [
    {
     "data": {
      "text/plain": [
       "107.89623558970828"
      ]
     },
     "execution_count": 20,
     "metadata": {},
     "output_type": "execute_result"
    }
   ],
   "source": [
    "ea.scalar_earth_area(89,90,0,1)/1000000"
   ]
  },
  {
   "cell_type": "markdown",
   "metadata": {},
   "source": [
    "Now we can get an array of gridbox areas with the function below."
   ]
  },
  {
   "cell_type": "code",
   "execution_count": 28,
   "metadata": {},
   "outputs": [],
   "source": [
    "grid = np.zeros((180,360))\n",
    "for i in enumerate(range(-90,90)):\n",
    "    grid[i[0],:] = ea.earth_area(i[1],i[1]+1,range(-180,180),range(-179,181))[0]"
   ]
  },
  {
   "cell_type": "code",
   "execution_count": 29,
   "metadata": {},
   "outputs": [
    {
     "data": {
      "text/plain": [
       "array([[1.07896236e+08, 1.07896236e+08, 1.07896236e+08, ...,\n",
       "        1.07896236e+08, 1.07896236e+08, 1.07896236e+08],\n",
       "       [3.23655841e+08, 3.23655841e+08, 3.23655841e+08, ...,\n",
       "        3.23655841e+08, 3.23655841e+08, 3.23655841e+08],\n",
       "       [5.39316857e+08, 5.39316857e+08, 5.39316857e+08, ...,\n",
       "        5.39316857e+08, 5.39316857e+08, 5.39316857e+08],\n",
       "       ...,\n",
       "       [5.39316857e+08, 5.39316857e+08, 5.39316857e+08, ...,\n",
       "        5.39316857e+08, 5.39316857e+08, 5.39316857e+08],\n",
       "       [3.23655841e+08, 3.23655841e+08, 3.23655841e+08, ...,\n",
       "        3.23655841e+08, 3.23655841e+08, 3.23655841e+08],\n",
       "       [1.07896236e+08, 1.07896236e+08, 1.07896236e+08, ...,\n",
       "        1.07896236e+08, 1.07896236e+08, 1.07896236e+08]])"
      ]
     },
     "execution_count": 29,
     "metadata": {},
     "output_type": "execute_result"
    }
   ],
   "source": [
    "grid"
   ]
  },
  {
   "cell_type": "markdown",
   "metadata": {},
   "source": [
    "Now multiply the fluxes by the area in each gridbox and sum it up to get the net global sink (at one time point)."
   ]
  },
  {
   "cell_type": "code",
   "execution_count": 23,
   "metadata": {},
   "outputs": [
    {
     "data": {
      "text/plain": [
       "array([[5.3324976e-09, 5.3364064e-09, 5.3637663e-09, ..., 6.2680985e-09,\n",
       "        5.4494480e-09, 5.3324976e-09],\n",
       "       [2.4317412e-08, 2.4355552e-08, 2.4622503e-08, ..., 3.3446028e-08,\n",
       "        2.5458490e-08, 2.4317412e-08],\n",
       "       [3.0211840e-08, 3.0259617e-08, 3.0594048e-08, ..., 3.7863785e-08,\n",
       "        3.1168334e-08, 3.0211840e-08],\n",
       "       ...,\n",
       "       [0.0000000e+00, 0.0000000e+00, 0.0000000e+00, ..., 0.0000000e+00,\n",
       "        0.0000000e+00, 0.0000000e+00],\n",
       "       [0.0000000e+00, 0.0000000e+00, 0.0000000e+00, ..., 0.0000000e+00,\n",
       "        0.0000000e+00, 0.0000000e+00],\n",
       "       [0.0000000e+00, 0.0000000e+00, 0.0000000e+00, ..., 0.0000000e+00,\n",
       "        0.0000000e+00, 0.0000000e+00]], dtype=float32)"
      ]
     },
     "execution_count": 23,
     "metadata": {},
     "output_type": "execute_result"
    }
   ],
   "source": [
    "land_flux = CAMS_V17.Terrestrial_flux.sel(time='2017-12-16').values[0]\n",
    "land_flux"
   ]
  },
  {
   "cell_type": "code",
   "execution_count": 24,
   "metadata": {},
   "outputs": [
    {
     "data": {
      "text/plain": [
       "array([[ 0.57535641,  0.57577817,  0.57873019, ...,  0.67630423,\n",
       "         0.58797493,  0.57535641],\n",
       "       [ 7.87047245,  7.88281673,  7.96921695, ..., 10.82500236,\n",
       "         8.23978912,  7.87047245],\n",
       "       [16.29375466, 16.31952155, 16.4998859 , ..., 20.42057751,\n",
       "        16.80960776, 16.29375466],\n",
       "       ...,\n",
       "       [ 0.        ,  0.        ,  0.        , ...,  0.        ,\n",
       "         0.        ,  0.        ],\n",
       "       [ 0.        ,  0.        ,  0.        , ...,  0.        ,\n",
       "         0.        ,  0.        ],\n",
       "       [ 0.        ,  0.        ,  0.        , ...,  0.        ,\n",
       "         0.        ,  0.        ]])"
      ]
     },
     "execution_count": 24,
     "metadata": {},
     "output_type": "execute_result"
    }
   ],
   "source": [
    "total_sink = land_flux*grid\n",
    "total_sink"
   ]
  },
  {
   "cell_type": "markdown",
   "metadata": {},
   "source": [
    "Net global terrestrial sink Dec 2017, gC of Carbon (per year or in just that month?)"
   ]
  },
  {
   "cell_type": "code",
   "execution_count": 46,
   "metadata": {},
   "outputs": [
    {
     "data": {
      "text/plain": [
       "5300820115999727.0"
      ]
     },
     "execution_count": 46,
     "metadata": {},
     "output_type": "execute_result"
    }
   ],
   "source": [
    "np.sum(total_sink)"
   ]
  },
  {
   "cell_type": "markdown",
   "metadata": {},
   "source": [
    "Net global terrestrial sink Dec 2017, gtC of Carbon (per year or in just that month?)"
   ]
  },
  {
   "cell_type": "code",
   "execution_count": 45,
   "metadata": {},
   "outputs": [
    {
     "data": {
      "text/plain": [
       "5.300820115999727"
      ]
     },
     "execution_count": 45,
     "metadata": {},
     "output_type": "execute_result"
    }
   ],
   "source": [
    "np.sum(total_sink)*1e-15"
   ]
  },
  {
   "cell_type": "code",
   "execution_count": null,
   "metadata": {},
   "outputs": [],
   "source": []
  }
 ],
 "metadata": {
  "kernelspec": {
   "display_name": "Python 3",
   "language": "python",
   "name": "python3"
  },
  "language_info": {
   "codemirror_mode": {
    "name": "ipython",
    "version": 3
   },
   "file_extension": ".py",
   "mimetype": "text/x-python",
   "name": "python",
   "nbconvert_exporter": "python",
   "pygments_lexer": "ipython3",
   "version": "3.7.1"
  },
  "toc": {
   "base_numbering": 1,
   "nav_menu": {},
   "number_sections": true,
   "sideBar": true,
   "skip_h1_title": false,
   "title_cell": "Table of Contents",
   "title_sidebar": "Contents",
   "toc_cell": false,
   "toc_position": {},
   "toc_section_display": true,
   "toc_window_display": false
  }
 },
 "nbformat": 4,
 "nbformat_minor": 2
}
