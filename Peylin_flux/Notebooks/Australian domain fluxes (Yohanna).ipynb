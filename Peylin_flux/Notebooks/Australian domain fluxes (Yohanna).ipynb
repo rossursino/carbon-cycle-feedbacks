{
 "cells": [
  {
   "cell_type": "code",
   "execution_count": 1,
   "metadata": {},
   "outputs": [],
   "source": [
    "import sys\n",
    "sys.path.append(\"./../Scripts/\")\n",
    "import inv_flux as invf"
   ]
  },
  {
   "cell_type": "code",
   "execution_count": 15,
   "metadata": {},
   "outputs": [],
   "source": [
    "import xarray as xr\n",
    "import numpy as np\n",
    "import matplotlib.pyplot as plt\n",
    "import pickle\n",
    "import cartopy.crs as ccrs\n",
    "import pandas as pd"
   ]
  },
  {
   "cell_type": "code",
   "execution_count": 19,
   "metadata": {},
   "outputs": [],
   "source": [
    "from numpy import pi\n",
    "r_earth = 6.371e6 # Radius of Earth\n",
    "dtor = pi/180. # conversion from degrees to radians.\n",
    "\n",
    "def scalar_earth_area(minlat, maxlat, minlon, maxlon):\n",
    "    \"\"\"Returns the area of earth in the defined grid box.\"\"\"\n",
    "    \n",
    "    diff_lon = np.unwrap((minlon,maxlon), discont=360.+1e-6)\n",
    "    \n",
    "    return 2.*pi*r_earth**2 *(np.sin( dtor*maxlat) - np.sin(dtor*minlat))*(diff_lon[1]-diff_lon[0])/360.\n",
    "\n",
    "\n",
    "def earth_area(minlat, maxlat, minlon, maxlon):\n",
    "    \"\"\"Returns grid of areas with shape=(minlon, minlat) and earth area.\"\"\"\n",
    "    \n",
    "    result = np.zeros((np.array(minlon).size, np.array(minlat).size))\n",
    "    diffsinlat = 2.*pi*r_earth**2 *(np.sin(dtor*maxlat) - np.sin(dtor*minlat))\n",
    "    diff_lon = np.unwrap((minlon,maxlon), discont=360.+1e-6)\n",
    "    \n",
    "    for i in range(np.array(minlon).size):\n",
    "        result[i, :] = diffsinlat *(diff_lon[1,i]-diff_lon[0,i])/360.\n",
    "    \n",
    "    return result\n",
    "\n",
    "def earth_area_grid(lats,lons):\n",
    "    \"\"\"Returns an array of the areas of each grid box within a defined set of lats and lons.\"\"\"\n",
    "    \n",
    "    result=np.zeros((lats.size, lons.size))\n",
    "    \n",
    "    minlats = lats - 0.5*(lats[1]-lats[0])\n",
    "    maxlats= lats + 0.5*(lats[1]-lats[0])\n",
    "    minlons = lons - 0.5*(lons[1]-lons[0])\n",
    "    maxlons=lons + 0.5*(lons[1]-lons[0])\n",
    "    \n",
    "    for i in range(lats.size):\n",
    "        result[i,:] = scalar_earth_area(minlats[i],maxlats[i],minlons[0],maxlons[0])\n",
    "    \n",
    "    return result"
   ]
  },
  {
   "cell_type": "code",
   "execution_count": 31,
   "metadata": {},
   "outputs": [],
   "source": [
    "def spatial_integration(df):\n",
    "\n",
    "    values = {'Time':[], 'Land':[]}\n",
    "\n",
    "    start_time = df.time.values[0].strftime('%Y-%m')\n",
    "    end_time = df.time.values[-1]\n",
    "    try:\n",
    "        next_month = end_time.replace(month=end_time.month+1)\n",
    "    except ValueError:\n",
    "        next_month = end_time.replace(year=end_time.year+1, month=1)\n",
    "    end_time = next_month.strftime('%Y-%m')\n",
    "\n",
    "    arg_time_range = pd.date_range(start=start_time, end=end_time, freq='M').strftime('%Y-%m')\n",
    "\n",
    "    lat = df.latitude\n",
    "    lon = df.longitude\n",
    "    earth_grid_area = earth_area_grid(lat,lon)\n",
    "\n",
    "    days = {'01': 31, '02': 28, '03': 31, '04': 30,\n",
    "            '05': 31, '06': 30, '07': 31, '08': 31,\n",
    "            '09': 30, '10': 31, '11': 30, '12': 31}\n",
    "\n",
    "    for index,time_point in enumerate(arg_time_range):\n",
    "\n",
    "        days_in_month = days[time_point[-2:]]\n",
    "\n",
    "        earth_land_flux = df['Terrestrial_flux'].sel(time=time_point).values[0]*(days_in_month/365)\n",
    "\n",
    "        earth_land_sink = earth_grid_area*earth_land_flux\n",
    "\n",
    "        values['Time'].append(df.sel(time=time_point).time.values[0])\n",
    "        values['Land'].append(np.sum(1e-15*earth_land_sink))\n",
    "\n",
    "\n",
    "    return xr.Dataset({'Land': (('time'), values['Land'])},\n",
    "                      coords={'time': (('time'), values['Time'])})"
   ]
  },
  {
   "cell_type": "code",
   "execution_count": 4,
   "metadata": {},
   "outputs": [
    {
     "data": {
      "text/plain": [
       "<xarray.Dataset>\n",
       "Dimensions:           (latitude: 180, longitude: 360, time: 468)\n",
       "Coordinates:\n",
       "  * longitude         (longitude) float64 -179.5 -178.5 -177.5 ... 178.5 179.5\n",
       "  * latitude          (latitude) float64 -89.5 -88.5 -87.5 ... 87.5 88.5 89.5\n",
       "  * time              (time) object 1979-01-16 00:00:00 ... 2017-12-16 00:00:00\n",
       "Data variables:\n",
       "    fossil            (time, latitude, longitude) float32 ...\n",
       "    Terrestrial_flux  (time, latitude, longitude) float32 ...\n",
       "    Ocean_flux        (time, latitude, longitude) float32 ...\n",
       "Attributes:\n",
       "    Conventions:  CF-1.0\n",
       "    history:      Thu Apr  4 23:44:41 2019: ncrename -a .FillValue,_FillValue...\n",
       "    NCO:          \"4.6.3\""
      ]
     },
     "execution_count": 4,
     "metadata": {},
     "output_type": "execute_result"
    }
   ],
   "source": [
    "CAMS = xr.open_dataset(\"./../raw_data/fco2_CAMS-V17-1-2018_June2018-ext3_1979-2017_monthlymean_XYT.nc\")\n",
    "CAMS"
   ]
  },
  {
   "cell_type": "code",
   "execution_count": 10,
   "metadata": {},
   "outputs": [
    {
     "data": {
      "text/plain": [
       "<xarray.Dataset>\n",
       "Dimensions:           (latitude: 64, longitude: 91, time: 12)\n",
       "Coordinates:\n",
       "  * longitude         (longitude) float64 89.5 90.5 91.5 ... 177.5 178.5 179.5\n",
       "  * latitude          (latitude) float64 -56.5 -55.5 -54.5 -53.5 ... 4.5 5.5 6.5\n",
       "  * time              (time) object 2015-01-16 00:00:00 ... 2015-12-16 00:00:00\n",
       "Data variables:\n",
       "    fossil            (time, latitude, longitude) float32 ...\n",
       "    Terrestrial_flux  (time, latitude, longitude) float32 ...\n",
       "    Ocean_flux        (time, latitude, longitude) float32 ...\n",
       "Attributes:\n",
       "    Conventions:  CF-1.0\n",
       "    history:      Thu Apr  4 23:44:41 2019: ncrename -a .FillValue,_FillValue...\n",
       "    NCO:          \"4.6.3\""
      ]
     },
     "execution_count": 10,
     "metadata": {},
     "output_type": "execute_result"
    }
   ],
   "source": [
    "CAMS_2015 = CAMS.sel(time=slice(\"2015-01\", \"2015-12\"),\n",
    "                     latitude=slice(-56.5, 6.5),\n",
    "                     longitude=slice(89.5, 190.5)\n",
    "                    )\n",
    "CAMS_2015"
   ]
  },
  {
   "cell_type": "code",
   "execution_count": 13,
   "metadata": {},
   "outputs": [
    {
     "data": {
      "text/plain": [
       "<matplotlib.contour.QuadContourSet at 0x2729bce69b0>"
      ]
     },
     "execution_count": 13,
     "metadata": {},
     "output_type": "execute_result"
    },
    {
     "data": {
      "image/png": "[encoded data removed]",
      "text/plain": [
       "<Figure size 432x288 with 1 Axes>"
      ]
     },
     "metadata": {
      "needs_background": "light"
     },
     "output_type": "display_data"
    }
   ],
   "source": [
    "fig = plt.figure()\n",
    "ax = fig.add_subplot(1,1,1,projection=ccrs.PlateCarree())\n",
    "ax.coastlines()\n",
    "ax.contourf(CAMS_2015.longitude, CAMS_2015.latitude, CAMS_2015.Terrestrial_flux.sel(time=\"2015-06\").squeeze())"
   ]
  },
  {
   "cell_type": "code",
   "execution_count": 32,
   "metadata": {},
   "outputs": [
    {
     "data": {
      "text/plain": [
       "<xarray.Dataset>\n",
       "Dimensions:  (time: 12)\n",
       "Coordinates:\n",
       "  * time     (time) object 2015-01-16 00:00:00 ... 2015-12-16 00:00:00\n",
       "Data variables:\n",
       "    Land     (time) float64 -0.1034 -0.137 -0.1409 ... 0.05192 0.05582 -0.004845"
      ]
     },
     "execution_count": 32,
     "metadata": {},
     "output_type": "execute_result"
    }
   ],
   "source": [
    "spatial_integration(CAMS_2015)"
   ]
  },
  {
   "cell_type": "code",
   "execution_count": 40,
   "metadata": {},
   "outputs": [],
   "source": [
    "CTRACKER = xr.open_dataset(\"./../raw_data/fco2_CTRACKER-EU-v2018_June2018-ext3_2000-2017_monthlymean_XYT.nc\")\n",
    "JAMSTEC = xr.open_dataset(\"./../raw_data/fco2_JAMSTEC-V1-2-2018_June2018-ext3_1996-2017_monthlymean_XYT.nc\")\n",
    "JENA_s76 = xr.open_dataset(\"./../raw_data/fco2_JENA-s76-4-2-2018_June2018-ext3_1976-2017_monthlymean_XYT.nc\")\n",
    "JENA_s85 = xr.open_dataset(\"./../raw_data/fco2_JENA-s85-4-2-2018_June2018-ext3_1985-2017_monthlymean_XYT.nc\")"
   ]
  },
  {
   "cell_type": "code",
   "execution_count": 44,
   "metadata": {},
   "outputs": [],
   "source": [
    "def main(df):\n",
    "    df_2015 =  df.sel(time=slice(\"2015-01\", \"2015-12\"),\n",
    "                     latitude=slice(-56.5, 6.5),\n",
    "                     longitude=slice(89.5, 190.5)\n",
    "                    )\n",
    "    \n",
    "    return spatial_integration(df_2015)"
   ]
  },
  {
   "cell_type": "code",
   "execution_count": 45,
   "metadata": {},
   "outputs": [
    {
     "data": {
      "text/plain": [
       "<xarray.Dataset>\n",
       "Dimensions:  (time: 12)\n",
       "Coordinates:\n",
       "  * time     (time) object 2015-01-16 00:00:00 ... 2015-12-16 00:00:00\n",
       "Data variables:\n",
       "    Land     (time) float64 -0.07084 -0.09834 -0.08601 ... 0.1655 0.1469 0.05189"
      ]
     },
     "execution_count": 45,
     "metadata": {},
     "output_type": "execute_result"
    }
   ],
   "source": [
    "main(CTRACKER)"
   ]
  },
  {
   "cell_type": "code",
   "execution_count": 46,
   "metadata": {},
   "outputs": [
    {
     "data": {
      "text/plain": [
       "<xarray.Dataset>\n",
       "Dimensions:  (time: 12)\n",
       "Coordinates:\n",
       "  * time     (time) object 2015-01-16 00:00:00 ... 2015-12-16 00:00:00\n",
       "Data variables:\n",
       "    Land     (time) float64 -0.07084 -0.09834 -0.08601 ... 0.1655 0.1469 0.05189"
      ]
     },
     "execution_count": 46,
     "metadata": {},
     "output_type": "execute_result"
    }
   ],
   "source": [
    "main(JAMSTEC)"
   ]
  },
  {
   "cell_type": "code",
   "execution_count": 47,
   "metadata": {},
   "outputs": [
    {
     "data": {
      "text/plain": [
       "<xarray.Dataset>\n",
       "Dimensions:  (time: 12)\n",
       "Coordinates:\n",
       "  * time     (time) object 2015-01-16 00:00:00 ... 2015-12-16 00:00:00\n",
       "Data variables:\n",
       "    Land     (time) float64 -0.07084 -0.09834 -0.08601 ... 0.1655 0.1469 0.05189"
      ]
     },
     "execution_count": 47,
     "metadata": {},
     "output_type": "execute_result"
    }
   ],
   "source": [
    "main(JENA_s76)"
   ]
  },
  {
   "cell_type": "code",
   "execution_count": 48,
   "metadata": {},
   "outputs": [
    {
     "data": {
      "text/plain": [
       "<xarray.Dataset>\n",
       "Dimensions:  (time: 12)\n",
       "Coordinates:\n",
       "  * time     (time) object 2015-01-16 00:00:00 ... 2015-12-16 00:00:00\n",
       "Data variables:\n",
       "    Land     (time) float64 -0.04181 -0.0626 -0.04467 ... 0.1003 0.1257 0.06289"
      ]
     },
     "execution_count": 48,
     "metadata": {},
     "output_type": "execute_result"
    }
   ],
   "source": [
    "main(JENA_s85)"
   ]
  },
  {
   "cell_type": "code",
   "execution_count": null,
   "metadata": {},
   "outputs": [],
   "source": []
  }
 ],
 "metadata": {
  "kernelspec": {
   "display_name": "Python 3",
   "language": "python",
   "name": "python3"
  },
  "language_info": {
   "codemirror_mode": {
    "name": "ipython",
    "version": 3
   },
   "file_extension": ".py",
   "mimetype": "text/x-python",
   "name": "python",
   "nbconvert_exporter": "python",
   "pygments_lexer": "ipython3",
   "version": "3.7.3"
  }
 },
 "nbformat": 4,
 "nbformat_minor": 2
}
