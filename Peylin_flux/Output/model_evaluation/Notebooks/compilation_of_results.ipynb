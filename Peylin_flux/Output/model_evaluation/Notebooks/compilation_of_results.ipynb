{
 "cells": [
  {
   "cell_type": "code",
   "execution_count": 21,
   "metadata": {},
   "outputs": [],
   "source": [
    "import pickle\n",
    "import numpy as np"
   ]
  },
  {
   "cell_type": "markdown",
   "metadata": {},
   "source": [
    "# Regression timeseries to GCP"
   ]
  },
  {
   "cell_type": "code",
   "execution_count": 15,
   "metadata": {},
   "outputs": [],
   "source": [
    "models = [\"CAMS\", \"CTRACKER\", \"JAMSTEC\", \"JENA_s76\", \"JENA_s85\", \"Rayner\"]\n",
    "\n",
    "regress_timeseries_to_GCP_land = {}\n",
    "regress_timeseries_to_GCP_ocean = {}\n",
    "\n",
    "for model in models:\n",
    "    \n",
    "    land = pickle.load(open(f\"./../{model}/regress_timeseries_to_GCP_land.pik\", \"rb\"))\n",
    "    ocean = pickle.load(open(f\"./../{model}/regress_timeseries_to_GCP_ocean.pik\", \"rb\"))\n",
    "    \n",
    "    regress_timeseries_to_GCP_land[model] = land[2]\n",
    "    regress_timeseries_to_GCP_ocean[model] = ocean[2]"
   ]
  },
  {
   "cell_type": "code",
   "execution_count": 24,
   "metadata": {},
   "outputs": [
    {
     "data": {
      "text/plain": [
       "{'CAMS': 0.9306003663997316,\n",
       " 'CTRACKER': 0.8013892316302725,\n",
       " 'JAMSTEC': 0.9050152117860832,\n",
       " 'JENA_s76': 0.941175883761199,\n",
       " 'JENA_s85': 0.9314900593857286,\n",
       " 'Rayner': 0.918051232813843}"
      ]
     },
     "execution_count": 24,
     "metadata": {},
     "output_type": "execute_result"
    }
   ],
   "source": [
    "regress_timeseries_to_GCP_land"
   ]
  },
  {
   "cell_type": "code",
   "execution_count": 25,
   "metadata": {},
   "outputs": [
    {
     "data": {
      "text/plain": [
       "{'CAMS': 0.7968713846213297,\n",
       " 'CTRACKER': 0.3615649891518183,\n",
       " 'JAMSTEC': 0.6188491638241479,\n",
       " 'JENA_s76': 0.6555787901201344,\n",
       " 'JENA_s85': 0.6697820364799113,\n",
       " 'Rayner': 0.30137267108784216}"
      ]
     },
     "execution_count": 25,
     "metadata": {},
     "output_type": "execute_result"
    }
   ],
   "source": [
    "regress_timeseries_to_GCP_ocean"
   ]
  },
  {
   "cell_type": "code",
   "execution_count": 29,
   "metadata": {},
   "outputs": [
    {
     "data": {
      "text/plain": [
       "(0.9046203309628096, 0.04755778574888623)"
      ]
     },
     "execution_count": 29,
     "metadata": {},
     "output_type": "execute_result"
    }
   ],
   "source": [
    "np.mean(list(regress_timeseries_to_GCP_land.values())), np.std(list(regress_timeseries_to_GCP_land.values()))"
   ]
  },
  {
   "cell_type": "code",
   "execution_count": 28,
   "metadata": {},
   "outputs": [
    {
     "data": {
      "text/plain": [
       "(0.5673365058808639, 0.17639930105164264)"
      ]
     },
     "execution_count": 28,
     "metadata": {},
     "output_type": "execute_result"
    }
   ],
   "source": [
    "np.mean(list(regress_timeseries_to_GCP_ocean.values())), np.std(list(regress_timeseries_to_GCP_ocean.values()))"
   ]
  },
  {
   "cell_type": "markdown",
   "metadata": {},
   "source": [
    "# Compare trend to GCP"
   ]
  },
  {
   "cell_type": "code",
   "execution_count": 37,
   "metadata": {},
   "outputs": [],
   "source": [
    "models = [\"CAMS\", \"CTRACKER\", \"JAMSTEC\", \"JENA_s76\", \"JENA_s85\", \"Rayner\"]\n",
    "\n",
    "compare_trend_to_GCP_land = {}\n",
    "compare_trend_to_GCP_ocean = {}\n",
    "\n",
    "for model in models:\n",
    "    \n",
    "    land = pickle.load(open(f\"./../{model}/compare_trend_to_GCP_land.pik\", \"rb\"))\n",
    "    ocean = pickle.load(open(f\"./../{model}/compare_trend_to_GCP_ocean.pik\", \"rb\"))\n",
    "    \n",
    "    compare_trend_to_GCP_land[model] = land[\"%_diff\"]\n",
    "    compare_trend_to_GCP_ocean[model] = ocean[\"%_diff\"]"
   ]
  },
  {
   "cell_type": "code",
   "execution_count": 39,
   "metadata": {},
   "outputs": [
    {
     "data": {
      "text/plain": [
       "{'CAMS': -2.7924921966109366,\n",
       " 'CTRACKER': 70.1566223205578,\n",
       " 'JAMSTEC': -27.377176732228406,\n",
       " 'JENA_s76': 8.691401591221975,\n",
       " 'JENA_s85': 15.591735476050658,\n",
       " 'Rayner': -6.702108931258195}"
      ]
     },
     "execution_count": 39,
     "metadata": {},
     "output_type": "execute_result"
    }
   ],
   "source": [
    "compare_trend_to_GCP_land"
   ]
  },
  {
   "cell_type": "code",
   "execution_count": 38,
   "metadata": {},
   "outputs": [
    {
     "data": {
      "text/plain": [
       "{'CAMS': 9.249714772597343,\n",
       " 'CTRACKER': 12.554096037291927,\n",
       " 'JAMSTEC': 43.33044974544342,\n",
       " 'JENA_s76': 19.84750689669528,\n",
       " 'JENA_s85': -15.46013697480079,\n",
       " 'Rayner': 13.775277322868035}"
      ]
     },
     "execution_count": 38,
     "metadata": {},
     "output_type": "execute_result"
    }
   ],
   "source": [
    "compare_trend_to_GCP_ocean"
   ]
  },
  {
   "cell_type": "markdown",
   "metadata": {},
   "source": [
    "Note that numbers are absolute when doing calcs."
   ]
  },
  {
   "cell_type": "code",
   "execution_count": 47,
   "metadata": {},
   "outputs": [
    {
     "data": {
      "text/plain": [
       "(21.885256207987993, 22.981999402035683)"
      ]
     },
     "execution_count": 47,
     "metadata": {},
     "output_type": "execute_result"
    }
   ],
   "source": [
    "np.mean(np.abs(list(compare_trend_to_GCP_land.values()))), np.std(np.abs(list(compare_trend_to_GCP_land.values())))"
   ]
  },
  {
   "cell_type": "code",
   "execution_count": 48,
   "metadata": {},
   "outputs": [
    {
     "data": {
      "text/plain": [
       "(19.036196958282797, 11.322008719297058)"
      ]
     },
     "execution_count": 48,
     "metadata": {},
     "output_type": "execute_result"
    }
   ],
   "source": [
    "np.mean(np.abs(list(compare_trend_to_GCP_ocean.values()))), np.std(np.abs(list(compare_trend_to_GCP_ocean.values())))"
   ]
  },
  {
   "cell_type": "code",
   "execution_count": null,
   "metadata": {},
   "outputs": [],
   "source": []
  }
 ],
 "metadata": {
  "kernelspec": {
   "display_name": "Python 3",
   "language": "python",
   "name": "python3"
  },
  "language_info": {
   "codemirror_mode": {
    "name": "ipython",
    "version": 3
   },
   "file_extension": ".py",
   "mimetype": "text/x-python",
   "name": "python",
   "nbconvert_exporter": "python",
   "pygments_lexer": "ipython3",
   "version": "3.7.1"
  },
  "toc": {
   "base_numbering": 1,
   "nav_menu": {},
   "number_sections": true,
   "sideBar": true,
   "skip_h1_title": false,
   "title_cell": "Table of Contents",
   "title_sidebar": "Contents",
   "toc_cell": false,
   "toc_position": {},
   "toc_section_display": true,
   "toc_window_display": false
  }
 },
 "nbformat": 4,
 "nbformat_minor": 2
}
