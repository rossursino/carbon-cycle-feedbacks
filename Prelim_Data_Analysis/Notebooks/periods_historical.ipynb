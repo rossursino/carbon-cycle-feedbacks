{
 "cells": [
  {
   "cell_type": "code",
   "execution_count": 2,
   "metadata": {},
   "outputs": [],
   "source": [
    "import pandas as pd\n",
    "import numpy as np\n",
    "import scipy as sp\n",
    "import matplotlib.pyplot as plt\n",
    "\n",
    "%matplotlib inline"
   ]
  },
  {
   "cell_type": "code",
   "execution_count": 3,
   "metadata": {},
   "outputs": [
    {
     "data": {
      "text/html": [
       "<div>\n",
       "<style scoped>\n",
       "    .dataframe tbody tr th:only-of-type {\n",
       "        vertical-align: middle;\n",
       "    }\n",
       "\n",
       "    .dataframe tbody tr th {\n",
       "        vertical-align: top;\n",
       "    }\n",
       "\n",
       "    .dataframe thead th {\n",
       "        text-align: right;\n",
       "    }\n",
       "</style>\n",
       "<table border=\"1\" class=\"dataframe\">\n",
       "  <thead>\n",
       "    <tr style=\"text-align: right;\">\n",
       "      <th></th>\n",
       "      <th>Year</th>\n",
       "      <th>fossil fuel and industry</th>\n",
       "      <th>land-use change emissions</th>\n",
       "      <th>atmospheric growth</th>\n",
       "      <th>ocean sink</th>\n",
       "      <th>land sink</th>\n",
       "      <th>budget imbalance</th>\n",
       "    </tr>\n",
       "  </thead>\n",
       "  <tbody>\n",
       "    <tr>\n",
       "      <th>0</th>\n",
       "      <td>1750</td>\n",
       "      <td>NaN</td>\n",
       "      <td>NaN</td>\n",
       "      <td>-0.077592</td>\n",
       "      <td>NaN</td>\n",
       "      <td>0.089932</td>\n",
       "      <td>NaN</td>\n",
       "    </tr>\n",
       "    <tr>\n",
       "      <th>1</th>\n",
       "      <td>1751</td>\n",
       "      <td>0.003</td>\n",
       "      <td>NaN</td>\n",
       "      <td>-0.073988</td>\n",
       "      <td>NaN</td>\n",
       "      <td>-0.529983</td>\n",
       "      <td>NaN</td>\n",
       "    </tr>\n",
       "    <tr>\n",
       "      <th>2</th>\n",
       "      <td>1752</td>\n",
       "      <td>0.003</td>\n",
       "      <td>NaN</td>\n",
       "      <td>-0.070596</td>\n",
       "      <td>NaN</td>\n",
       "      <td>-0.265491</td>\n",
       "      <td>NaN</td>\n",
       "    </tr>\n",
       "    <tr>\n",
       "      <th>3</th>\n",
       "      <td>1753</td>\n",
       "      <td>0.003</td>\n",
       "      <td>NaN</td>\n",
       "      <td>-0.067628</td>\n",
       "      <td>NaN</td>\n",
       "      <td>-0.165419</td>\n",
       "      <td>NaN</td>\n",
       "    </tr>\n",
       "    <tr>\n",
       "      <th>4</th>\n",
       "      <td>1754</td>\n",
       "      <td>0.003</td>\n",
       "      <td>NaN</td>\n",
       "      <td>-0.064024</td>\n",
       "      <td>NaN</td>\n",
       "      <td>-0.328966</td>\n",
       "      <td>NaN</td>\n",
       "    </tr>\n",
       "  </tbody>\n",
       "</table>\n",
       "</div>"
      ],
      "text/plain": [
       "   Year  fossil fuel and industry  land-use change emissions  \\\n",
       "0  1750                       NaN                        NaN   \n",
       "1  1751                     0.003                        NaN   \n",
       "2  1752                     0.003                        NaN   \n",
       "3  1753                     0.003                        NaN   \n",
       "4  1754                     0.003                        NaN   \n",
       "\n",
       "   atmospheric growth  ocean sink  land sink  budget imbalance  \n",
       "0           -0.077592         NaN   0.089932               NaN  \n",
       "1           -0.073988         NaN  -0.529983               NaN  \n",
       "2           -0.070596         NaN  -0.265491               NaN  \n",
       "3           -0.067628         NaN  -0.165419               NaN  \n",
       "4           -0.064024         NaN  -0.328966               NaN  "
      ]
     },
     "execution_count": 3,
     "metadata": {},
     "output_type": "execute_result"
    }
   ],
   "source": [
    "df = pd.read_csv('./../gcb_data/historical_budget.csv')\n",
    "df.head()"
   ]
  },
  {
   "cell_type": "code",
   "execution_count": 4,
   "metadata": {},
   "outputs": [],
   "source": [
    "year = df['Year']\n",
    "atmg = df['atmospheric growth']"
   ]
  },
  {
   "cell_type": "code",
   "execution_count": 5,
   "metadata": {},
   "outputs": [],
   "source": [
    "# Remove NaN values and years with them.\n",
    "year = year[atmg.notna()]\n",
    "atmg = atmg.dropna()"
   ]
  },
  {
   "cell_type": "code",
   "execution_count": 6,
   "metadata": {},
   "outputs": [
    {
     "data": {
      "text/plain": [
       "[<matplotlib.lines.Line2D at 0x7f022f8a7c18>]"
      ]
     },
     "execution_count": 6,
     "metadata": {},
     "output_type": "execute_result"
    },
    {
     "data": {
      "image/png": "[encoded data removed]",
      "text/plain": [
       "<Figure size 432x288 with 1 Axes>"
      ]
     },
     "metadata": {
      "needs_background": "light"
     },
     "output_type": "display_data"
    }
   ],
   "source": [
    "plt.plot(year, atmg)"
   ]
  },
  {
   "cell_type": "code",
   "execution_count": 7,
   "metadata": {},
   "outputs": [
    {
     "data": {
      "text/plain": [
       "(255,)"
      ]
     },
     "execution_count": 7,
     "metadata": {},
     "output_type": "execute_result"
    }
   ],
   "source": [
    "atmg.shape"
   ]
  },
  {
   "cell_type": "markdown",
   "metadata": {},
   "source": [
    "# Autocorrelation of atmg"
   ]
  },
  {
   "cell_type": "code",
   "execution_count": 8,
   "metadata": {
    "scrolled": true
   },
   "outputs": [
    {
     "data": {
      "text/plain": [
       "[<matplotlib.lines.Line2D at 0x7f022f7cd278>]"
      ]
     },
     "execution_count": 8,
     "metadata": {},
     "output_type": "execute_result"
    },
    {
     "data": {
      "image/png": "[encoded data removed]",
      "text/plain": [
       "<Figure size 432x288 with 1 Axes>"
      ]
     },
     "metadata": {
      "needs_background": "light"
     },
     "output_type": "display_data"
    }
   ],
   "source": [
    "result = np.correlate(atmg, atmg, mode='full')\n",
    "result = result[result.size // 2:]\n",
    "plt.plot(result/result[0])"
   ]
  },
  {
   "cell_type": "code",
   "execution_count": 18,
   "metadata": {
    "scrolled": true
   },
   "outputs": [
    {
     "data": {
      "text/plain": [
       "Year         1848.000000\n",
       "Unnamed 0       0.201225\n",
       "Name: 98, dtype: float64"
      ]
     },
     "execution_count": 18,
     "metadata": {},
     "output_type": "execute_result"
    }
   ],
   "source": [
    "pd.DataFrame([year, result/result[0]]).T.iloc[98]"
   ]
  },
  {
   "cell_type": "code",
   "execution_count": 21,
   "metadata": {},
   "outputs": [
    {
     "data": {
      "text/plain": [
       "(2.6020408163265305, 3)"
      ]
     },
     "execution_count": 21,
     "metadata": {},
     "output_type": "execute_result"
    }
   ],
   "source": [
    "# Decorrelation time at 1848, so:\n",
    "dec_time = 1848-1750\n",
    "# and so there are the following independent samples:\n",
    "year.size/dec_time, round(year.size/dec_time)98"
   ]
  },
  {
   "cell_type": "markdown",
   "metadata": {},
   "source": [
    "## Generator to produce equally-sized chunks"
   ]
  },
  {
   "cell_type": "code",
   "execution_count": 36,
   "metadata": {},
   "outputs": [],
   "source": [
    "def chunks(l, n):\n",
    "    \"\"\"Yield successive n-sized chunks from l.\"\"\"\n",
    "    for i in range(0, len(l), n):\n",
    "        yield l[i:i + n]"
   ]
  },
  {
   "cell_type": "markdown",
   "metadata": {},
   "source": [
    "# Split atm-growth into 100 year periods"
   ]
  },
  {
   "cell_type": "code",
   "execution_count": 41,
   "metadata": {},
   "outputs": [],
   "source": [
    "atmg_100 = list(chunks(atmg,100))"
   ]
  },
  {
   "cell_type": "code",
   "execution_count": 42,
   "metadata": {},
   "outputs": [
    {
     "data": {
      "text/plain": [
       "[0.20158232, 0.53201188, 2.427800872727273]"
      ]
     },
     "execution_count": 42,
     "metadata": {},
     "output_type": "execute_result"
    }
   ],
   "source": [
    "mean_atmg_100 = []\n",
    "for i in atmg_100:\n",
    "    mean_atmg_100.append(np.mean(i))\n",
    "mean_atmg_100"
   ]
  },
  {
   "cell_type": "code",
   "execution_count": 43,
   "metadata": {},
   "outputs": [
    {
     "data": {
      "text/plain": [
       "[0.1889834876564024, 0.2690872757782233, 1.001797235202251]"
      ]
     },
     "execution_count": 43,
     "metadata": {},
     "output_type": "execute_result"
    }
   ],
   "source": [
    "std_atmg_100 = []\n",
    "for i in atmg_100:\n",
    "    std_atmg_100.append(np.std(i))\n",
    "std_atmg_100"
   ]
  },
  {
   "cell_type": "markdown",
   "metadata": {},
   "source": [
    "# Split atm-growth into 50 year periods"
   ]
  },
  {
   "cell_type": "code",
   "execution_count": 44,
   "metadata": {},
   "outputs": [],
   "source": [
    "atmg_50 = list(chunks(atmg,50))"
   ]
  },
  {
   "cell_type": "code",
   "execution_count": 45,
   "metadata": {},
   "outputs": [
    {
     "data": {
      "text/plain": [
       "[0.23075352000000002,\n",
       " 0.17241112,\n",
       " 0.41900528000000004,\n",
       " 0.64501848,\n",
       " 2.3239991200000008,\n",
       " 3.4658184]"
      ]
     },
     "execution_count": 45,
     "metadata": {},
     "output_type": "execute_result"
    }
   ],
   "source": [
    "mean_atmg_50 = []\n",
    "for i in atmg_50:\n",
    "    mean_atmg_50.append(np.mean(i))\n",
    "mean_atmg_50"
   ]
  },
  {
   "cell_type": "code",
   "execution_count": 46,
   "metadata": {},
   "outputs": [
    {
     "data": {
      "text/plain": [
       "[0.19699852760934428,\n",
       " 0.17583850407241752,\n",
       " 0.2898784902352735,\n",
       " 0.18773758702851592,\n",
       " 0.9926857781553362,\n",
       " 0.009784575158891693]"
      ]
     },
     "execution_count": 46,
     "metadata": {},
     "output_type": "execute_result"
    }
   ],
   "source": [
    "std_atmg_50 = []\n",
    "for i in atmg_50:\n",
    "    std_atmg_50.append(np.std(i))\n",
    "std_atmg_50"
   ]
  },
  {
   "cell_type": "markdown",
   "metadata": {},
   "source": [
    "# Split atm-growth into 10 year periods"
   ]
  },
  {
   "cell_type": "code",
   "execution_count": 47,
   "metadata": {},
   "outputs": [],
   "source": [
    "atmg_10 = list(chunks(atmg,10))"
   ]
  },
  {
   "cell_type": "code",
   "execution_count": 48,
   "metadata": {},
   "outputs": [
    {
     "data": {
      "text/plain": [
       "[-0.0545052,\n",
       " 0.0981348,\n",
       " 0.24095919999999998,\n",
       " 0.40508960000000005,\n",
       " 0.4640892,\n",
       " 0.2841436,\n",
       " 0.011108799999999999,\n",
       " -0.0239136,\n",
       " 0.1886376,\n",
       " 0.4020792,\n",
       " 0.012507999999999997,\n",
       " 0.2391148,\n",
       " 0.4514964,\n",
       " 0.6763859999999999,\n",
       " 0.7155212000000001,\n",
       " 0.5855651999999999,\n",
       " 0.7956571999999998,\n",
       " 0.7511796000000001,\n",
       " 0.7590448000000001,\n",
       " 0.33364559999999993,\n",
       " 0.6967168000000001,\n",
       " 1.7942832000000002,\n",
       " 2.6514204000000006,\n",
       " 3.145974,\n",
       " 3.3316011999999993,\n",
       " 3.4658184]"
      ]
     },
     "execution_count": 48,
     "metadata": {},
     "output_type": "execute_result"
    }
   ],
   "source": [
    "mean_atmg_10 = []\n",
    "for i in atmg_10:\n",
    "    mean_atmg_10.append(np.mean(i))\n",
    "mean_atmg_10"
   ]
  },
  {
   "cell_type": "code",
   "execution_count": 49,
   "metadata": {},
   "outputs": [
    {
     "data": {
      "text/plain": [
       "[0.019932160629495235,\n",
       " 0.06272309043534127,\n",
       " 0.021192409040975017,\n",
       " 0.06595822552373586,\n",
       " 0.031748859811968046,\n",
       " 0.06584564718066031,\n",
       " 0.08172363249489097,\n",
       " 0.06759641193317882,\n",
       " 0.06521230272149572,\n",
       " 0.06857747478115535,\n",
       " 0.08277572509860603,\n",
       " 0.15203023754029985,\n",
       " 0.0347774417667545,\n",
       " 0.13765139756646136,\n",
       " 0.13115823208384594,\n",
       " 0.08179675702226831,\n",
       " 0.04846390944362617,\n",
       " 0.022033328387694853,\n",
       " 0.03818051137635533,\n",
       " 0.13338799425675463,\n",
       " 0.25166011291295254,\n",
       " 0.2903474356438507,\n",
       " 0.2073988978828962,\n",
       " 0.0771920646543412,\n",
       " 0.0613339449257914,\n",
       " 0.009784575158891693]"
      ]
     },
     "execution_count": 49,
     "metadata": {},
     "output_type": "execute_result"
    }
   ],
   "source": [
    "std_atmg_10 = []\n",
    "for i in atmg_10:\n",
    "    std_atmg_10.append(np.std(i))\n",
    "std_atmg_10"
   ]
  },
  {
   "cell_type": "markdown",
   "metadata": {},
   "source": [
    "# Plot of atmg and means"
   ]
  },
  {
   "cell_type": "code",
   "execution_count": 56,
   "metadata": {},
   "outputs": [
    {
     "data": {
      "text/plain": [
       "[<matplotlib.lines.Line2D at 0x7f291abf9eb8>]"
      ]
     },
     "execution_count": 56,
     "metadata": {},
     "output_type": "execute_result"
    },
    {
     "data": {
      "image/png": "[encoded data removed]",
      "text/plain": [
       "<Figure size 432x288 with 1 Axes>"
      ]
     },
     "metadata": {
      "needs_background": "light"
     },
     "output_type": "display_data"
    }
   ],
   "source": [
    "plt.plot(atmg)"
   ]
  },
  {
   "cell_type": "code",
   "execution_count": 52,
   "metadata": {},
   "outputs": [
    {
     "data": {
      "text/plain": [
       "[<matplotlib.lines.Line2D at 0x7f291ad7a5f8>]"
      ]
     },
     "execution_count": 52,
     "metadata": {},
     "output_type": "execute_result"
    },
    {
     "data": {
      "image/png": "[encoded data removed]",
      "text/plain": [
       "<Figure size 432x288 with 1 Axes>"
      ]
     },
     "metadata": {
      "needs_background": "light"
     },
     "output_type": "display_data"
    }
   ],
   "source": [
    "plt.plot(mean_atmg_100)"
   ]
  },
  {
   "cell_type": "code",
   "execution_count": 53,
   "metadata": {},
   "outputs": [
    {
     "data": {
      "text/plain": [
       "[<matplotlib.lines.Line2D at 0x7f291ad5ad30>]"
      ]
     },
     "execution_count": 53,
     "metadata": {},
     "output_type": "execute_result"
    },
    {
     "data": {
      "image/png": "[encoded data removed]",
      "text/plain": [
       "<Figure size 432x288 with 1 Axes>"
      ]
     },
     "metadata": {
      "needs_background": "light"
     },
     "output_type": "display_data"
    }
   ],
   "source": [
    "plt.plot(mean_atmg_50)"
   ]
  },
  {
   "cell_type": "code",
   "execution_count": 54,
   "metadata": {},
   "outputs": [
    {
     "data": {
      "text/plain": [
       "[<matplotlib.lines.Line2D at 0x7f291acb8f98>]"
      ]
     },
     "execution_count": 54,
     "metadata": {},
     "output_type": "execute_result"
    },
    {
     "data": {
      "image/png": "[encoded data removed]",
      "text/plain": [
       "<Figure size 432x288 with 1 Axes>"
      ]
     },
     "metadata": {
      "needs_background": "light"
     },
     "output_type": "display_data"
    }
   ],
   "source": [
    "plt.plot(mean_atmg_10)"
   ]
  },
  {
   "cell_type": "code",
   "execution_count": null,
   "metadata": {},
   "outputs": [],
   "source": []
  }
 ],
 "metadata": {
  "kernelspec": {
   "display_name": "Python 3",
   "language": "python",
   "name": "python3"
  },
  "language_info": {
   "codemirror_mode": {
    "name": "ipython",
    "version": 3
   },
   "file_extension": ".py",
   "mimetype": "text/x-python",
   "name": "python",
   "nbconvert_exporter": "python",
   "pygments_lexer": "ipython3",
   "version": "3.7.1"
  }
 },
 "nbformat": 4,
 "nbformat_minor": 2
}
