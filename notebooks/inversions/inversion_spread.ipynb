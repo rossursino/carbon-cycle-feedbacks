{
 "cells": [
  {
   "cell_type": "code",
   "execution_count": 1,
   "metadata": {},
   "outputs": [],
   "source": [
    "import pickle\n",
    "import numpy as np\n",
    "import scipy\n",
    "from scipy import stats\n",
    "import matplotlib.pyplot as plt\n",
    "import pandas as pd\n",
    "import xarray as xr"
   ]
  },
  {
   "cell_type": "code",
   "execution_count": 2,
   "metadata": {},
   "outputs": [
    {
     "data": {
      "text/plain": [
       "<xarray.Dataset>\n",
       "Dimensions:         (time: 468)\n",
       "Coordinates:\n",
       "  * time            (time) object 1979-01-16 00:00:00 ... 2017-12-16 00:00:00\n",
       "Data variables:\n",
       "    Earth_Land      (time) float64 0.4314 0.5878 0.8693 ... 1.254 1.15 0.4502\n",
       "    South_Land      (time) float64 0.03146 0.04228 0.06212 ... -0.03757 0.01857\n",
       "    Tropical_Land   (time) float64 -0.3288 0.06462 0.4028 ... 0.2813 -0.3327\n",
       "    North_Land      (time) float64 0.7288 0.4809 0.4045 ... 0.7788 0.9061 0.7644\n",
       "    Earth_Ocean     (time) float64 -0.09067 -0.09578 ... -0.1494 -0.1669\n",
       "    South_Ocean     (time) float64 -0.06071 -0.06981 -0.0825 ... -0.1165 -0.1023\n",
       "    Tropical_Ocean  (time) float64 0.0794 0.081 0.09499 ... 0.04063 0.03863\n",
       "    North_Ocean     (time) float64 -0.1094 -0.107 -0.1056 ... -0.07353 -0.1032"
      ]
     },
     "execution_count": 2,
     "metadata": {},
     "output_type": "execute_result"
    }
   ],
   "source": [
    "pickle.load(open(\"./../../output/inversions/raw/output_all/CAMS_all/spatial.pik\", \"rb\"))"
   ]
  },
  {
   "cell_type": "code",
   "execution_count": 4,
   "metadata": {},
   "outputs": [],
   "source": [
    "def open_inversions(names):\n",
    "    \n",
    "    dict_of_models = {}\n",
    "    for name in names:\n",
    "        dict_of_models[name] = pickle.load(open(f\"./../../output/inversions/raw/output_all/{name}_all/spatial.pik\", \"rb\"))\n",
    "    \n",
    "    return dict_of_models\n",
    "\n",
    "names = [\"CAMS\", \"JAMSTEC\", \"CTRACKER\", \"JENA_s85\", \"JENA_s76\", \"Rayner\"]\n",
    "dict_invs = open_inversions(names)"
   ]
  },
  {
   "cell_type": "code",
   "execution_count": 5,
   "metadata": {},
   "outputs": [
    {
     "data": {
      "text/plain": [
       "<xarray.Dataset>\n",
       "Dimensions:         (time: 468)\n",
       "Coordinates:\n",
       "  * time            (time) object 1979-01-16 00:00:00 ... 2017-12-16 00:00:00\n",
       "Data variables:\n",
       "    Earth_Land      (time) float64 0.4314 0.5878 0.8693 ... 1.254 1.15 0.4502\n",
       "    South_Land      (time) float64 0.03146 0.04228 0.06212 ... -0.03757 0.01857\n",
       "    Tropical_Land   (time) float64 -0.3288 0.06462 0.4028 ... 0.2813 -0.3327\n",
       "    North_Land      (time) float64 0.7288 0.4809 0.4045 ... 0.7788 0.9061 0.7644\n",
       "    Earth_Ocean     (time) float64 -0.09067 -0.09578 ... -0.1494 -0.1669\n",
       "    South_Ocean     (time) float64 -0.06071 -0.06981 -0.0825 ... -0.1165 -0.1023\n",
       "    Tropical_Ocean  (time) float64 0.0794 0.081 0.09499 ... 0.04063 0.03863\n",
       "    North_Ocean     (time) float64 -0.1094 -0.107 -0.1056 ... -0.07353 -0.1032"
      ]
     },
     "execution_count": 5,
     "metadata": {},
     "output_type": "execute_result"
    }
   ],
   "source": [
    "dict_invs[\"CAMS\"]"
   ]
  },
  {
   "cell_type": "code",
   "execution_count": 6,
   "metadata": {},
   "outputs": [],
   "source": [
    "def extract_var(dict_invs, var, to_list=False):\n",
    "    \n",
    "    dict_var = {}\n",
    "    for name, inv in dict_invs.items():\n",
    "        dict_var[name] = inv[var].values\n",
    "    \n",
    "    if to_list:\n",
    "        return list(dict_var.values())\n",
    "    else:\n",
    "        return dict_var"
   ]
  },
  {
   "cell_type": "code",
   "execution_count": 7,
   "metadata": {},
   "outputs": [
    {
     "data": {
      "text/plain": [
       "array([ 0.65996259,  0.5467065 ,  0.26368533,  0.6852524 , -0.27227026,\n",
       "       -1.7450354 , -2.43884107, -1.71411401, -0.10240639,  0.85854941,\n",
       "        1.01727751,  0.76234418,  0.82270751,  0.46563558,  0.34694551,\n",
       "        0.45023194, -0.6668229 , -2.07484505, -2.69959845, -1.53514109,\n",
       "        0.48486782,  1.42560044,  1.42080787,  0.84580048,  0.74943353,\n",
       "        0.70243539,  0.63615053,  0.81468764, -0.68598026, -1.36041508,\n",
       "       -2.13347723, -1.19244476,  0.30884786,  1.11442795,  0.94037043,\n",
       "        0.48969555,  0.66876351,  0.67658968,  0.43996322,  0.21402832,\n",
       "       -0.65388693, -1.89010444, -2.56734346, -1.49791761, -0.07472224,\n",
       "        1.04352839,  0.98878238,  0.7296115 ,  0.63508921,  0.57586058,\n",
       "        0.24207464,  0.38314086, -0.77277454, -1.83865807, -2.43326124,\n",
       "       -1.53436693,  0.32439411,  1.04792412,  1.03058386,  0.84327686,\n",
       "        0.67209757,  0.50523525,  0.32821126,  0.43400966, -0.81674466,\n",
       "       -2.00290909, -2.31062947, -1.41848044,  0.30524881,  1.172889  ,\n",
       "        0.97115879,  0.50770252,  0.66640765,  0.74348218,  0.41116907,\n",
       "        0.49315709, -0.62494894, -1.80668965, -2.47675643, -1.43496792,\n",
       "        0.55131109,  1.36830352,  1.05455664,  0.76974639,  0.84471942,\n",
       "        0.7616225 ,  0.26887701,  0.89064729, -0.52595273, -1.87506516,\n",
       "       -2.70254444, -1.56092404,  0.0793361 ,  1.11752716,  1.00112201,\n",
       "        0.6256099 ,  0.62906083,  0.60560657,  0.20604058,  0.42060868,\n",
       "       -0.50948241, -2.19954568, -2.86451107, -1.84726908,  0.05273312,\n",
       "        1.2079886 ,  1.11158057,  0.75394732,  0.71594611,  0.77146244,\n",
       "        0.426469  ,  0.48661952, -0.7095471 , -2.09997723, -2.61772903,\n",
       "       -1.62999182,  0.16477427,  1.12904217,  1.06372553,  0.81169704,\n",
       "        0.78777807,  0.42489328,  0.27529119,  0.43443479, -0.99553427,\n",
       "       -1.96172141, -2.75473663, -1.40649991,  0.07425167,  1.1432125 ,\n",
       "        0.89780203,  0.70555516,  0.47841006,  0.59247657,  0.09288899,\n",
       "        0.19307158, -0.8030749 , -1.85133685, -2.75432236, -1.27242306,\n",
       "        0.14515574,  0.78143069,  1.1611173 ,  0.77181515,  0.49126631,\n",
       "        0.40553051,  0.03098603,  0.43685286, -1.01841773, -2.11543791,\n",
       "       -2.67305313, -1.5936214 , -0.07955194,  0.79293253,  1.05206182,\n",
       "        0.75426784,  0.51689985,  0.47827842, -0.06904021,  0.26746724,\n",
       "       -1.14899534, -1.84142071, -2.77313919, -1.77931854,  0.15470932,\n",
       "        0.93469203,  1.03614911,  0.8805205 ,  0.45309512,  0.40024659,\n",
       "        0.31251684,  0.3784334 , -0.6435368 , -2.0930594 , -2.62419302,\n",
       "       -1.63881556,  0.30055685,  0.84216685,  1.00001867,  0.67912362,\n",
       "        0.23400711,  0.36422887, -0.10139458,  0.26615794, -1.02740201,\n",
       "       -1.71387148, -2.86540295, -1.48541596,  0.09866256,  0.67314364,\n",
       "        0.89084376,  0.63784673,  0.38929404,  0.5645793 ,  0.07363419,\n",
       "        0.24706294, -1.19424984, -1.78988095, -2.41266129, -1.49779792,\n",
       "        0.2911725 ,  1.14488633,  1.00939174,  0.53610625,  0.60367147,\n",
       "        0.48852962,  0.13052799,  0.57580587, -0.79904469, -1.89461   ,\n",
       "       -2.7168366 , -1.76346416, -0.03416766,  0.91538566,  0.90624222,\n",
       "        0.70492496,  0.50774516,  0.14377856,  0.06109603,  0.46831676,\n",
       "       -0.90622813, -2.05466705, -2.73522572, -1.45360776, -0.00636337,\n",
       "        0.96730153,  1.11112944,  0.57334115,  0.4306166 ,  0.46156661,\n",
       "        0.0071448 ,  0.31365548, -0.79721264, -2.06419353, -2.67964037,\n",
       "       -1.57975715,  0.20053358,  1.35253937,  1.1916895 ,  1.23390461,\n",
       "        0.77802318,  0.97017155,  0.48239636,  0.39523211, -0.95668079,\n",
       "       -2.1810462 , -2.95304405, -1.61279836,  0.36055176,  1.16964526,\n",
       "        1.27177876,  0.74760416,  0.53212674,  0.52526182, -0.07568508,\n",
       "        0.23480692, -1.04740937, -2.07199052, -2.86574248, -1.78488129,\n",
       "        0.10416896,  1.41156075,  1.04362197,  0.38600425])"
      ]
     },
     "execution_count": 7,
     "metadata": {},
     "output_type": "execute_result"
    }
   ],
   "source": [
    "extract_var(dict_invs, \"Earth_Land\", to_list=True)[1]"
   ]
  },
  {
   "cell_type": "code",
   "execution_count": 8,
   "metadata": {},
   "outputs": [
    {
     "data": {
      "text/plain": [
       "[-0.15747602471101735,\n",
       " -0.17588430352781045,\n",
       " -0.15475325933041276,\n",
       " -0.11967594267083012,\n",
       " -0.0937915127506349,\n",
       " -0.16327098038846752]"
      ]
     },
     "execution_count": 8,
     "metadata": {},
     "output_type": "execute_result"
    }
   ],
   "source": [
    "means = [np.mean(data) for data in extract_var(dict_invs, \"Earth_Land\", to_list=True)]\n",
    "means"
   ]
  },
  {
   "cell_type": "code",
   "execution_count": 9,
   "metadata": {},
   "outputs": [
    {
     "data": {
      "text/plain": [
       "0.02827733571551585"
      ]
     },
     "execution_count": 9,
     "metadata": {},
     "output_type": "execute_result"
    }
   ],
   "source": [
    "std_of_means = np.std([np.mean(data) for data in extract_var(dict_invs, \"Earth_Land\", to_list=True)])\n",
    "std_of_means"
   ]
  },
  {
   "cell_type": "code",
   "execution_count": 10,
   "metadata": {},
   "outputs": [
    {
     "data": {
      "text/plain": [
       "(-0.12206884846615074, -0.0937915127506349, -0.06551417703511905)"
      ]
     },
     "execution_count": 10,
     "metadata": {},
     "output_type": "execute_result"
    }
   ],
   "source": [
    "def unc(num):\n",
    "    return (means - std_of_means)[num], means[num], (means + std_of_means)[num]\n",
    "\n",
    "unc(4)"
   ]
  },
  {
   "cell_type": "code",
   "execution_count": null,
   "metadata": {},
   "outputs": [],
   "source": []
  }
 ],
 "metadata": {
  "kernelspec": {
   "display_name": "Python 3",
   "language": "python",
   "name": "python3"
  },
  "language_info": {
   "codemirror_mode": {
    "name": "ipython",
    "version": 3
   },
   "file_extension": ".py",
   "mimetype": "text/x-python",
   "name": "python",
   "nbconvert_exporter": "python",
   "pygments_lexer": "ipython3",
   "version": "3.7.6"
  },
  "toc": {
   "base_numbering": 1,
   "nav_menu": {},
   "number_sections": true,
   "sideBar": true,
   "skip_h1_title": false,
   "title_cell": "Table of Contents",
   "title_sidebar": "Contents",
   "toc_cell": false,
   "toc_position": {},
   "toc_section_display": true,
   "toc_window_display": false
  }
 },
 "nbformat": 4,
 "nbformat_minor": 2
}
