{
 "cells": [
  {
   "cell_type": "code",
   "execution_count": 66,
   "metadata": {},
   "outputs": [],
   "source": [
    "import pickle\n",
    "import matplotlib.pyplot as plt\n",
    "import numpy as np\n",
    "import pandas as pd\n",
    "from scipy import stats\n",
    "import xarray as xr\n",
    "\n",
    "import statsmodels.api as sm"
   ]
  },
  {
   "cell_type": "markdown",
   "metadata": {},
   "source": [
    "# Mock timeseries analysis"
   ]
  },
  {
   "cell_type": "code",
   "execution_count": 86,
   "metadata": {},
   "outputs": [],
   "source": [
    "def linear_regression(y, *x):\n",
    "    X = [xx for xx in x]\n",
    "    X = np.column_stack(X)\n",
    "    X = sm.add_constant(X)\n",
    "    \n",
    "    return sm.OLS(y, X, hasconst = True).fit()"
   ]
  },
  {
   "cell_type": "code",
   "execution_count": 136,
   "metadata": {},
   "outputs": [
    {
     "data": {
      "text/plain": [
       "-8.533478934373752e-16"
      ]
     },
     "execution_count": 136,
     "metadata": {},
     "output_type": "execute_result"
    }
   ],
   "source": [
    "np.mean(random)"
   ]
  },
  {
   "cell_type": "code",
   "execution_count": 134,
   "metadata": {
    "scrolled": true
   },
   "outputs": [
    {
     "data": {
      "text/plain": [
       "[<matplotlib.lines.Line2D at 0x17036c3cf48>]"
      ]
     },
     "execution_count": 134,
     "metadata": {},
     "output_type": "execute_result"
    },
    {
     "data": {
      "image/png": "[encoded data removed]",
      "text/plain": [
       "<Figure size 432x288 with 1 Axes>"
      ]
     },
     "metadata": {
      "needs_background": "light"
     },
     "output_type": "display_data"
    }
   ],
   "source": [
    "# Mock timeseries\n",
    "samples = 51\n",
    "random = np.random.random(samples)*10\n",
    "random = (random - np.mean(random))\n",
    "\n",
    "t1 = np.linspace(0, 5, samples)\n",
    "p = 5*t1 + 9 + random\n",
    "plt.plot(t1,p)"
   ]
  },
  {
   "cell_type": "code",
   "execution_count": 132,
   "metadata": {},
   "outputs": [
    {
     "data": {
      "text/html": [
       "<table class=\"simpletable\">\n",
       "<caption>OLS Regression Results</caption>\n",
       "<tr>\n",
       "  <th>Dep. Variable:</th>            <td>y</td>        <th>  R-squared:         </th> <td>   0.870</td>\n",
       "</tr>\n",
       "<tr>\n",
       "  <th>Model:</th>                   <td>OLS</td>       <th>  Adj. R-squared:    </th> <td>   0.867</td>\n",
       "</tr>\n",
       "<tr>\n",
       "  <th>Method:</th>             <td>Least Squares</td>  <th>  F-statistic:       </th> <td>   327.7</td>\n",
       "</tr>\n",
       "<tr>\n",
       "  <th>Date:</th>             <td>Mon, 23 Mar 2020</td> <th>  Prob (F-statistic):</th> <td>2.40e-23</td>\n",
       "</tr>\n",
       "<tr>\n",
       "  <th>Time:</th>                 <td>17:19:09</td>     <th>  Log-Likelihood:    </th> <td> -127.25</td>\n",
       "</tr>\n",
       "<tr>\n",
       "  <th>No. Observations:</th>      <td>    51</td>      <th>  AIC:               </th> <td>   258.5</td>\n",
       "</tr>\n",
       "<tr>\n",
       "  <th>Df Residuals:</th>          <td>    49</td>      <th>  BIC:               </th> <td>   262.4</td>\n",
       "</tr>\n",
       "<tr>\n",
       "  <th>Df Model:</th>              <td>     1</td>      <th>                     </th>     <td> </td>   \n",
       "</tr>\n",
       "<tr>\n",
       "  <th>Covariance Type:</th>      <td>nonrobust</td>    <th>                     </th>     <td> </td>   \n",
       "</tr>\n",
       "</table>\n",
       "<table class=\"simpletable\">\n",
       "<tr>\n",
       "    <td></td>       <th>coef</th>     <th>std err</th>      <th>t</th>      <th>P>|t|</th>  <th>[0.025</th>    <th>0.975]</th>  \n",
       "</tr>\n",
       "<tr>\n",
       "  <th>const</th> <td>   13.8668</td> <td>    0.826</td> <td>   16.788</td> <td> 0.000</td> <td>   12.207</td> <td>   15.527</td>\n",
       "</tr>\n",
       "<tr>\n",
       "  <th>x1</th>    <td>    5.1542</td> <td>    0.285</td> <td>   18.103</td> <td> 0.000</td> <td>    4.582</td> <td>    5.726</td>\n",
       "</tr>\n",
       "</table>\n",
       "<table class=\"simpletable\">\n",
       "<tr>\n",
       "  <th>Omnibus:</th>       <td>16.613</td> <th>  Durbin-Watson:     </th> <td>   2.012</td>\n",
       "</tr>\n",
       "<tr>\n",
       "  <th>Prob(Omnibus):</th> <td> 0.000</td> <th>  Jarque-Bera (JB):  </th> <td>   3.475</td>\n",
       "</tr>\n",
       "<tr>\n",
       "  <th>Skew:</th>          <td>-0.008</td> <th>  Prob(JB):          </th> <td>   0.176</td>\n",
       "</tr>\n",
       "<tr>\n",
       "  <th>Kurtosis:</th>      <td> 1.721</td> <th>  Cond. No.          </th> <td>    6.24</td>\n",
       "</tr>\n",
       "</table><br/><br/>Warnings:<br/>[1] Standard Errors assume that the covariance matrix of the errors is correctly specified."
      ],
      "text/plain": [
       "<class 'statsmodels.iolib.summary.Summary'>\n",
       "\"\"\"\n",
       "                            OLS Regression Results                            \n",
       "==============================================================================\n",
       "Dep. Variable:                      y   R-squared:                       0.870\n",
       "Model:                            OLS   Adj. R-squared:                  0.867\n",
       "Method:                 Least Squares   F-statistic:                     327.7\n",
       "Date:                Mon, 23 Mar 2020   Prob (F-statistic):           2.40e-23\n",
       "Time:                        17:19:09   Log-Likelihood:                -127.25\n",
       "No. Observations:                  51   AIC:                             258.5\n",
       "Df Residuals:                      49   BIC:                             262.4\n",
       "Df Model:                           1                                         \n",
       "Covariance Type:            nonrobust                                         \n",
       "==============================================================================\n",
       "                 coef    std err          t      P>|t|      [0.025      0.975]\n",
       "------------------------------------------------------------------------------\n",
       "const         13.8668      0.826     16.788      0.000      12.207      15.527\n",
       "x1             5.1542      0.285     18.103      0.000       4.582       5.726\n",
       "==============================================================================\n",
       "Omnibus:                       16.613   Durbin-Watson:                   2.012\n",
       "Prob(Omnibus):                  0.000   Jarque-Bera (JB):                3.475\n",
       "Skew:                          -0.008   Prob(JB):                        0.176\n",
       "Kurtosis:                       1.721   Cond. No.                         6.24\n",
       "==============================================================================\n",
       "\n",
       "Warnings:\n",
       "[1] Standard Errors assume that the covariance matrix of the errors is correctly specified.\n",
       "\"\"\""
      ]
     },
     "execution_count": 132,
     "metadata": {},
     "output_type": "execute_result"
    }
   ],
   "source": [
    "result = linear_regression(p, t1)\n",
    "result.summary()"
   ]
  },
  {
   "cell_type": "markdown",
   "metadata": {},
   "source": [
    "# Techniques on uptake"
   ]
  },
  {
   "cell_type": "markdown",
   "metadata": {},
   "source": [
    "stats linregress: https://github.com/scipy/scipy/blob/master/scipy/stats/_stats_mstats_common.py"
   ]
  },
  {
   "cell_type": "code",
   "execution_count": 96,
   "metadata": {},
   "outputs": [
    {
     "data": {
      "text/plain": [
       "array([-1.37638945, -1.91675189, -1.81886027, -2.30795375, -2.23312736,\n",
       "       -2.2771638 , -0.9222639 , -1.05487483, -2.38411267, -1.7195801 ,\n",
       "       -1.20467144, -1.89057522, -2.78746728, -1.13169868, -1.35446052,\n",
       "       -3.06763075, -1.77170661, -2.56150247, -0.56832412, -1.9057209 ,\n",
       "       -0.55775965, -1.12462956, -2.17793544, -2.39609808, -0.48296698,\n",
       "       -2.05300625, -1.46022758, -2.836112  ,  0.52899359, -0.75909742,\n",
       "       -2.73139142, -3.03337004, -3.98694826, -3.76627625, -2.73592314,\n",
       "       -2.000107  , -1.5379476 , -3.5998759 , -2.19174472,  0.25082342,\n",
       "       -2.92327086, -3.48142003, -2.36455193, -1.12373072, -1.72597259,\n",
       "       -3.66188795, -1.89394981, -3.56129785, -2.77561836, -3.8808372 ,\n",
       "       -4.44483687, -3.03644531, -4.7385349 , -3.6242375 , -3.52822754,\n",
       "       -4.41066926, -2.53123181, -2.35835452, -4.10629804])"
      ]
     },
     "execution_count": 96,
     "metadata": {},
     "output_type": "execute_result"
    }
   ],
   "source": [
    "fGCB = './../../Prelim_Data_Analysis/gcb_data/budget.csv'\n",
    "df = pd.read_csv(fGCB,\n",
    "                 index_col=0,\n",
    "                 usecols=[0,4,5,6])\n",
    "\n",
    "df = df.loc[1959:2017]\n",
    "\n",
    "ocean = -df[\"ocean sink\"]\n",
    "land_model = -df[\"land sink\"]\n",
    "land = -df[\"land sink\"]-df[\"budget imbalance\"]\n",
    "\n",
    "temp = pd.read_csv('./../co2_temp_data/temp/temp_annual.csv', index_col=\"Year\").Temp\n",
    "\n",
    "y = land.values\n",
    "y"
   ]
  },
  {
   "cell_type": "markdown",
   "metadata": {},
   "source": [
    "x1 = co2, x2 = temp"
   ]
  },
  {
   "cell_type": "code",
   "execution_count": 97,
   "metadata": {},
   "outputs": [
    {
     "data": {
      "text/plain": [
       "array([315.486 , 316.163 , 316.856 , 317.558 , 318.268 , 318.997 ,\n",
       "       319.757 , 320.56  , 321.41  , 322.31  , 323.26  , 324.259 ,\n",
       "       325.303 , 326.392 , 327.526 , 328.702 , 329.921 , 331.187 ,\n",
       "       332.505 , 333.874 , 335.286 , 336.732 , 338.202 , 339.69  ,\n",
       "       341.194 , 342.712 , 344.239 , 345.771 , 347.301 , 348.822 ,\n",
       "       350.318 , 351.782 , 353.219 , 354.64  , 356.068 , 357.527 ,\n",
       "       359.037 , 360.604 , 362.231 , 363.916 , 365.652 , 367.431 ,\n",
       "       369.251 , 371.114 , 373.017 , 374.952 , 376.91  , 378.887 ,\n",
       "       380.88  , 382.892 , 384.927 , 386.995 , 389.101 , 391.248 ,\n",
       "       393.435 , 395.651 , 397.886 , 400.13  , 403.5225])"
      ]
     },
     "execution_count": 97,
     "metadata": {},
     "output_type": "execute_result"
    }
   ],
   "source": [
    "x1 = pd.read_csv(\"./../co2_temp_data/co2/co2_global.csv\", index_col=\"Year\")\n",
    "x1 = x1.loc[1959:2017].values.squeeze()\n",
    "x1"
   ]
  },
  {
   "cell_type": "code",
   "execution_count": 98,
   "metadata": {},
   "outputs": [
    {
     "data": {
      "text/plain": [
       "array([14.03, 13.98, 14.06, 14.04, 14.05, 13.8 , 13.89, 13.94, 13.98,\n",
       "       13.92, 14.06, 14.03, 13.92, 14.01, 14.16, 13.93, 13.99, 13.9 ,\n",
       "       14.18, 14.07, 14.17, 14.26, 14.32, 14.14, 14.31, 14.16, 14.12,\n",
       "       14.18, 14.32, 14.39, 14.27, 14.45, 14.41, 14.22, 14.23, 14.32,\n",
       "       14.45, 14.33, 14.47, 14.61, 14.39, 14.4 , 14.54, 14.63, 14.63,\n",
       "       14.54, 14.68, 14.64, 14.67, 14.55, 14.66, 14.73, 14.61, 14.65,\n",
       "       14.69, 14.75, 14.9 , 15.02, 14.93])"
      ]
     },
     "execution_count": 98,
     "metadata": {},
     "output_type": "execute_result"
    }
   ],
   "source": [
    "x2 = temp.values.squeeze()\n",
    "x2"
   ]
  },
  {
   "cell_type": "markdown",
   "metadata": {},
   "source": [
    "Fundamental (derived) linear regression"
   ]
  },
  {
   "cell_type": "code",
   "execution_count": 102,
   "metadata": {},
   "outputs": [],
   "source": [
    "alpha = 0.05\n",
    "ssxm, ssxym, ssyxm, ssym = np.cov(x1, y, bias=1).flat\n",
    "xmean, ymean = np.mean(x1), np.mean(y)"
   ]
  },
  {
   "cell_type": "code",
   "execution_count": 103,
   "metadata": {},
   "outputs": [
    {
     "data": {
      "text/plain": [
       "-0.02393030060522134"
      ]
     },
     "execution_count": 103,
     "metadata": {},
     "output_type": "execute_result"
    }
   ],
   "source": [
    "slope = ssxym / ssxm; slope"
   ]
  },
  {
   "cell_type": "code",
   "execution_count": 104,
   "metadata": {},
   "outputs": [
    {
     "data": {
      "text/plain": [
       "6.124060670997264"
      ]
     },
     "execution_count": 104,
     "metadata": {},
     "output_type": "execute_result"
    }
   ],
   "source": [
    "intercept = ymean - slope*xmean; intercept"
   ]
  },
  {
   "cell_type": "code",
   "execution_count": 105,
   "metadata": {},
   "outputs": [
    {
     "data": {
      "text/plain": [
       "-0.5358735325843047"
      ]
     },
     "execution_count": 105,
     "metadata": {},
     "output_type": "execute_result"
    }
   ],
   "source": [
    "r = ssxym / np.sqrt(ssxm*ssym); r"
   ]
  },
  {
   "cell_type": "markdown",
   "metadata": {},
   "source": [
    "statsmodels linear regression"
   ]
  },
  {
   "cell_type": "code",
   "execution_count": 106,
   "metadata": {},
   "outputs": [
    {
     "data": {
      "text/html": [
       "<table class=\"simpletable\">\n",
       "<caption>OLS Regression Results</caption>\n",
       "<tr>\n",
       "  <th>Dep. Variable:</th>            <td>y</td>        <th>  R-squared:         </th> <td>   0.472</td>\n",
       "</tr>\n",
       "<tr>\n",
       "  <th>Model:</th>                   <td>OLS</td>       <th>  Adj. R-squared:    </th> <td>   0.453</td>\n",
       "</tr>\n",
       "<tr>\n",
       "  <th>Method:</th>             <td>Least Squares</td>  <th>  F-statistic:       </th> <td>   25.01</td>\n",
       "</tr>\n",
       "<tr>\n",
       "  <th>Date:</th>             <td>Mon, 23 Mar 2020</td> <th>  Prob (F-statistic):</th> <td>1.74e-08</td>\n",
       "</tr>\n",
       "<tr>\n",
       "  <th>Time:</th>                 <td>16:34:37</td>     <th>  Log-Likelihood:    </th> <td> -73.466</td>\n",
       "</tr>\n",
       "<tr>\n",
       "  <th>No. Observations:</th>      <td>    59</td>      <th>  AIC:               </th> <td>   152.9</td>\n",
       "</tr>\n",
       "<tr>\n",
       "  <th>Df Residuals:</th>          <td>    56</td>      <th>  BIC:               </th> <td>   159.2</td>\n",
       "</tr>\n",
       "<tr>\n",
       "  <th>Df Model:</th>              <td>     2</td>      <th>                     </th>     <td> </td>   \n",
       "</tr>\n",
       "<tr>\n",
       "  <th>Covariance Type:</th>      <td>nonrobust</td>    <th>                     </th>     <td> </td>   \n",
       "</tr>\n",
       "</table>\n",
       "<table class=\"simpletable\">\n",
       "<tr>\n",
       "    <td></td>       <th>coef</th>     <th>std err</th>      <th>t</th>      <th>P>|t|</th>  <th>[0.025</th>    <th>0.975]</th>  \n",
       "</tr>\n",
       "<tr>\n",
       "  <th>const</th> <td>  -50.5445</td> <td>   12.901</td> <td>   -3.918</td> <td> 0.000</td> <td>  -76.389</td> <td>  -24.700</td>\n",
       "</tr>\n",
       "<tr>\n",
       "  <th>x1</th>    <td>   -0.0835</td> <td>    0.014</td> <td>   -5.903</td> <td> 0.000</td> <td>   -0.112</td> <td>   -0.055</td>\n",
       "</tr>\n",
       "<tr>\n",
       "  <th>x2</th>    <td>    5.4202</td> <td>    1.225</td> <td>    4.424</td> <td> 0.000</td> <td>    2.966</td> <td>    7.875</td>\n",
       "</tr>\n",
       "</table>\n",
       "<table class=\"simpletable\">\n",
       "<tr>\n",
       "  <th>Omnibus:</th>       <td> 1.448</td> <th>  Durbin-Watson:     </th> <td>   1.448</td>\n",
       "</tr>\n",
       "<tr>\n",
       "  <th>Prob(Omnibus):</th> <td> 0.485</td> <th>  Jarque-Bera (JB):  </th> <td>   0.776</td>\n",
       "</tr>\n",
       "<tr>\n",
       "  <th>Skew:</th>          <td> 0.223</td> <th>  Prob(JB):          </th> <td>   0.679</td>\n",
       "</tr>\n",
       "<tr>\n",
       "  <th>Kurtosis:</th>      <td> 3.341</td> <th>  Cond. No.          </th> <td>4.07e+04</td>\n",
       "</tr>\n",
       "</table><br/><br/>Warnings:<br/>[1] Standard Errors assume that the covariance matrix of the errors is correctly specified.<br/>[2] The condition number is large, 4.07e+04. This might indicate that there are<br/>strong multicollinearity or other numerical problems."
      ],
      "text/plain": [
       "<class 'statsmodels.iolib.summary.Summary'>\n",
       "\"\"\"\n",
       "                            OLS Regression Results                            \n",
       "==============================================================================\n",
       "Dep. Variable:                      y   R-squared:                       0.472\n",
       "Model:                            OLS   Adj. R-squared:                  0.453\n",
       "Method:                 Least Squares   F-statistic:                     25.01\n",
       "Date:                Mon, 23 Mar 2020   Prob (F-statistic):           1.74e-08\n",
       "Time:                        16:34:37   Log-Likelihood:                -73.466\n",
       "No. Observations:                  59   AIC:                             152.9\n",
       "Df Residuals:                      56   BIC:                             159.2\n",
       "Df Model:                           2                                         \n",
       "Covariance Type:            nonrobust                                         \n",
       "==============================================================================\n",
       "                 coef    std err          t      P>|t|      [0.025      0.975]\n",
       "------------------------------------------------------------------------------\n",
       "const        -50.5445     12.901     -3.918      0.000     -76.389     -24.700\n",
       "x1            -0.0835      0.014     -5.903      0.000      -0.112      -0.055\n",
       "x2             5.4202      1.225      4.424      0.000       2.966       7.875\n",
       "==============================================================================\n",
       "Omnibus:                        1.448   Durbin-Watson:                   1.448\n",
       "Prob(Omnibus):                  0.485   Jarque-Bera (JB):                0.776\n",
       "Skew:                           0.223   Prob(JB):                        0.679\n",
       "Kurtosis:                       3.341   Cond. No.                     4.07e+04\n",
       "==============================================================================\n",
       "\n",
       "Warnings:\n",
       "[1] Standard Errors assume that the covariance matrix of the errors is correctly specified.\n",
       "[2] The condition number is large, 4.07e+04. This might indicate that there are\n",
       "strong multicollinearity or other numerical problems.\n",
       "\"\"\""
      ]
     },
     "execution_count": 106,
     "metadata": {},
     "output_type": "execute_result"
    }
   ],
   "source": [
    "results = linear_regression(y, x1, x2)\n",
    "results.summary()"
   ]
  },
  {
   "cell_type": "code",
   "execution_count": 107,
   "metadata": {},
   "outputs": [
    {
     "data": {
      "text/plain": [
       "array([[-7.63889712e+01, -2.47000679e+01],\n",
       "       [-1.11786858e-01, -5.51378232e-02],\n",
       "       [ 2.96567692e+00,  7.87475286e+00]])"
      ]
     },
     "execution_count": 107,
     "metadata": {},
     "output_type": "execute_result"
    }
   ],
   "source": [
    "results.conf_int(0.05).squeeze()"
   ]
  },
  {
   "cell_type": "code",
   "execution_count": 109,
   "metadata": {},
   "outputs": [],
   "source": [
    "Y = results.params[0]*np.ones(len(x1)) + results.params[1]*x1 + results.params[2]*x2"
   ]
  },
  {
   "cell_type": "markdown",
   "metadata": {},
   "source": [
    "## Tests"
   ]
  },
  {
   "cell_type": "markdown",
   "metadata": {},
   "source": [
    "Based off: https://towardsdatascience.com/verifying-and-tackling-the-assumptions-of-linear-regression-32126acea67b"
   ]
  },
  {
   "cell_type": "markdown",
   "metadata": {},
   "source": [
    "### Linear relationship"
   ]
  },
  {
   "cell_type": "code",
   "execution_count": 110,
   "metadata": {},
   "outputs": [
    {
     "data": {
      "text/plain": [
       "<matplotlib.collections.PathCollection at 0x17035406d88>"
      ]
     },
     "execution_count": 110,
     "metadata": {},
     "output_type": "execute_result"
    },
    {
     "data": {
      "image/png": "[encoded data removed]",
      "text/plain": [
       "<Figure size 432x288 with 1 Axes>"
      ]
     },
     "metadata": {
      "needs_background": "light"
     },
     "output_type": "display_data"
    },
    {
     "data": {
      "image/png": "[encoded data removed]",
      "text/plain": [
       "<Figure size 432x288 with 1 Axes>"
      ]
     },
     "metadata": {
      "needs_background": "light"
     },
     "output_type": "display_data"
    }
   ],
   "source": [
    "residual = y - Y\n",
    "\n",
    "plt.figure()\n",
    "plt.scatter(x1, residual + res.params[1]*x1)\n",
    "\n",
    "plt.figure()\n",
    "plt.scatter(x2, residual + res.params[2]*x2)"
   ]
  },
  {
   "cell_type": "markdown",
   "metadata": {},
   "source": [
    "### Homoscedasticity"
   ]
  },
  {
   "cell_type": "code",
   "execution_count": 111,
   "metadata": {},
   "outputs": [
    {
     "data": {
      "text/plain": [
       "<matplotlib.collections.PathCollection at 0x170366d3508>"
      ]
     },
     "execution_count": 111,
     "metadata": {},
     "output_type": "execute_result"
    },
    {
     "data": {
      "image/png": "[encoded data removed]",
      "text/plain": [
       "<Figure size 432x288 with 1 Axes>"
      ]
     },
     "metadata": {
      "needs_background": "light"
     },
     "output_type": "display_data"
    },
    {
     "data": {
      "image/png": "[encoded data removed]",
      "text/plain": [
       "<Figure size 432x288 with 1 Axes>"
      ]
     },
     "metadata": {
      "needs_background": "light"
     },
     "output_type": "display_data"
    }
   ],
   "source": [
    "plt.figure()\n",
    "plt.scatter(x1, residual)\n",
    "plt.figure()\n",
    "plt.scatter(x2, residual)"
   ]
  },
  {
   "cell_type": "code",
   "execution_count": 189,
   "metadata": {},
   "outputs": [
    {
     "data": {
      "text/plain": [
       "LinregressResult(slope=-2.0712440049415837e-18, intercept=8.185398499666496e-16, rvalue=-5.493504969217935e-17, pvalue=0.9999999999999997, stderr=0.004993951437733342)"
      ]
     },
     "execution_count": 189,
     "metadata": {},
     "output_type": "execute_result"
    }
   ],
   "source": [
    "stats.linregress(x, residual)"
   ]
  },
  {
   "cell_type": "code",
   "execution_count": 190,
   "metadata": {},
   "outputs": [
    {
     "data": {
      "text/plain": [
       "[<matplotlib.lines.Line2D at 0x7fd7fb01c4e0>]"
      ]
     },
     "execution_count": 190,
     "metadata": {},
     "output_type": "execute_result"
    },
    {
     "data": {
      "image/png": "[encoded data removed]",
      "text/plain": [
       "<Figure size 432x288 with 1 Axes>"
      ]
     },
     "metadata": {
      "needs_background": "light"
     },
     "output_type": "display_data"
    }
   ],
   "source": [
    "plt.plot(x, stats.linregress(x, residual)[0]*x + stats.linregress(x, residual)[1])\n",
    "plt.plot(x, residual)"
   ]
  },
  {
   "cell_type": "markdown",
   "metadata": {},
   "source": [
    "Add temperature to regression"
   ]
  },
  {
   "cell_type": "code",
   "execution_count": 191,
   "metadata": {},
   "outputs": [],
   "source": [
    "temp = pd.read_csv(\"./../co2_temp_data/temp/HADCRUT4_annual.txt\", delim_whitespace=1,\n",
    "                   index_col=\"Year\",\n",
    "                   usecols=[0,13]\n",
    "                  )\n",
    "temp = temp.loc[1959:2017]\n",
    "\n",
    "x1 = x\n",
    "x2 = 14 + temp.values.squeeze()"
   ]
  },
  {
   "cell_type": "code",
   "execution_count": 192,
   "metadata": {
    "scrolled": true
   },
   "outputs": [],
   "source": [
    "X = np.column_stack((X, x2))"
   ]
  },
  {
   "cell_type": "code",
   "execution_count": 193,
   "metadata": {},
   "outputs": [
    {
     "data": {
      "text/plain": [
       "array([[-6.77785809e+01, -1.78520704e+01],\n",
       "       [-8.98891010e-02, -4.32111496e-02],\n",
       "       [ 2.22369761e+00,  6.77949928e+00]])"
      ]
     },
     "execution_count": 193,
     "metadata": {},
     "output_type": "execute_result"
    }
   ],
   "source": [
    "mod = sm.OLS(y,X)\n",
    "res = mod.fit()\n",
    "res.conf_int(0.05).squeeze()"
   ]
  },
  {
   "cell_type": "code",
   "execution_count": 194,
   "metadata": {},
   "outputs": [
    {
     "data": {
      "text/html": [
       "<table class=\"simpletable\">\n",
       "<caption>OLS Regression Results</caption>\n",
       "<tr>\n",
       "  <th>Dep. Variable:</th>            <td>y</td>        <th>  R-squared:         </th> <td>   0.443</td>\n",
       "</tr>\n",
       "<tr>\n",
       "  <th>Model:</th>                   <td>OLS</td>       <th>  Adj. R-squared:    </th> <td>   0.423</td>\n",
       "</tr>\n",
       "<tr>\n",
       "  <th>Method:</th>             <td>Least Squares</td>  <th>  F-statistic:       </th> <td>   22.27</td>\n",
       "</tr>\n",
       "<tr>\n",
       "  <th>Date:</th>             <td>Thu, 05 Mar 2020</td> <th>  Prob (F-statistic):</th> <td>7.64e-08</td>\n",
       "</tr>\n",
       "<tr>\n",
       "  <th>Time:</th>                 <td>12:40:56</td>     <th>  Log-Likelihood:    </th> <td> -75.027</td>\n",
       "</tr>\n",
       "<tr>\n",
       "  <th>No. Observations:</th>      <td>    59</td>      <th>  AIC:               </th> <td>   156.1</td>\n",
       "</tr>\n",
       "<tr>\n",
       "  <th>Df Residuals:</th>          <td>    56</td>      <th>  BIC:               </th> <td>   162.3</td>\n",
       "</tr>\n",
       "<tr>\n",
       "  <th>Df Model:</th>              <td>     2</td>      <th>                     </th>     <td> </td>   \n",
       "</tr>\n",
       "<tr>\n",
       "  <th>Covariance Type:</th>      <td>nonrobust</td>    <th>                     </th>     <td> </td>   \n",
       "</tr>\n",
       "</table>\n",
       "<table class=\"simpletable\">\n",
       "<tr>\n",
       "    <td></td>       <th>coef</th>     <th>std err</th>      <th>t</th>      <th>P>|t|</th>  <th>[0.025</th>    <th>0.975]</th>  \n",
       "</tr>\n",
       "<tr>\n",
       "  <th>const</th> <td>  -42.8153</td> <td>   12.461</td> <td>   -3.436</td> <td> 0.001</td> <td>  -67.779</td> <td>  -17.852</td>\n",
       "</tr>\n",
       "<tr>\n",
       "  <th>x1</th>    <td>   -0.0666</td> <td>    0.012</td> <td>   -5.712</td> <td> 0.000</td> <td>   -0.090</td> <td>   -0.043</td>\n",
       "</tr>\n",
       "<tr>\n",
       "  <th>x2</th>    <td>    4.5016</td> <td>    1.137</td> <td>    3.959</td> <td> 0.000</td> <td>    2.224</td> <td>    6.779</td>\n",
       "</tr>\n",
       "</table>\n",
       "<table class=\"simpletable\">\n",
       "<tr>\n",
       "  <th>Omnibus:</th>       <td> 1.974</td> <th>  Durbin-Watson:     </th> <td>   1.371</td>\n",
       "</tr>\n",
       "<tr>\n",
       "  <th>Prob(Omnibus):</th> <td> 0.373</td> <th>  Jarque-Bera (JB):  </th> <td>   1.391</td>\n",
       "</tr>\n",
       "<tr>\n",
       "  <th>Skew:</th>          <td> 0.368</td> <th>  Prob(JB):          </th> <td>   0.499</td>\n",
       "</tr>\n",
       "<tr>\n",
       "  <th>Kurtosis:</th>      <td> 3.159</td> <th>  Cond. No.          </th> <td>3.83e+04</td>\n",
       "</tr>\n",
       "</table><br/><br/>Warnings:<br/>[1] Standard Errors assume that the covariance matrix of the errors is correctly specified.<br/>[2] The condition number is large, 3.83e+04. This might indicate that there are<br/>strong multicollinearity or other numerical problems."
      ],
      "text/plain": [
       "<class 'statsmodels.iolib.summary.Summary'>\n",
       "\"\"\"\n",
       "                            OLS Regression Results                            \n",
       "==============================================================================\n",
       "Dep. Variable:                      y   R-squared:                       0.443\n",
       "Model:                            OLS   Adj. R-squared:                  0.423\n",
       "Method:                 Least Squares   F-statistic:                     22.27\n",
       "Date:                Thu, 05 Mar 2020   Prob (F-statistic):           7.64e-08\n",
       "Time:                        12:40:56   Log-Likelihood:                -75.027\n",
       "No. Observations:                  59   AIC:                             156.1\n",
       "Df Residuals:                      56   BIC:                             162.3\n",
       "Df Model:                           2                                         \n",
       "Covariance Type:            nonrobust                                         \n",
       "==============================================================================\n",
       "                 coef    std err          t      P>|t|      [0.025      0.975]\n",
       "------------------------------------------------------------------------------\n",
       "const        -42.8153     12.461     -3.436      0.001     -67.779     -17.852\n",
       "x1            -0.0666      0.012     -5.712      0.000      -0.090      -0.043\n",
       "x2             4.5016      1.137      3.959      0.000       2.224       6.779\n",
       "==============================================================================\n",
       "Omnibus:                        1.974   Durbin-Watson:                   1.371\n",
       "Prob(Omnibus):                  0.373   Jarque-Bera (JB):                1.391\n",
       "Skew:                           0.368   Prob(JB):                        0.499\n",
       "Kurtosis:                       3.159   Cond. No.                     3.83e+04\n",
       "==============================================================================\n",
       "\n",
       "Warnings:\n",
       "[1] Standard Errors assume that the covariance matrix of the errors is correctly specified.\n",
       "[2] The condition number is large, 3.83e+04. This might indicate that there are\n",
       "strong multicollinearity or other numerical problems.\n",
       "\"\"\""
      ]
     },
     "execution_count": 194,
     "metadata": {},
     "output_type": "execute_result"
    }
   ],
   "source": [
    "res.summary()"
   ]
  },
  {
   "cell_type": "markdown",
   "metadata": {},
   "source": [
    "## Absense of multicollinearity"
   ]
  },
  {
   "cell_type": "code",
   "execution_count": 195,
   "metadata": {},
   "outputs": [
    {
     "data": {
      "text/plain": [
       "array([[1.        , 0.92405523],\n",
       "       [0.92405523, 1.        ]])"
      ]
     },
     "execution_count": 195,
     "metadata": {},
     "output_type": "execute_result"
    }
   ],
   "source": [
    "np.corrcoef(x1,x2)"
   ]
  },
  {
   "cell_type": "code",
   "execution_count": 196,
   "metadata": {},
   "outputs": [
    {
     "data": {
      "text/plain": [
       "<matplotlib.axes._subplots.AxesSubplot at 0x7fd7faf85b00>"
      ]
     },
     "execution_count": 196,
     "metadata": {},
     "output_type": "execute_result"
    },
    {
     "data": {
      "image/png": "[encoded data removed]",
      "text/plain": [
       "<Figure size 432x288 with 2 Axes>"
      ]
     },
     "metadata": {
      "needs_background": "light"
     },
     "output_type": "display_data"
    }
   ],
   "source": [
    "seaborn.heatmap(np.corrcoef(x1,x2))"
   ]
  },
  {
   "cell_type": "code",
   "execution_count": 197,
   "metadata": {},
   "outputs": [
    {
     "data": {
      "text/plain": [
       "(0.9240552304848763, 6.843599677774054)"
      ]
     },
     "execution_count": 197,
     "metadata": {},
     "output_type": "execute_result"
    }
   ],
   "source": [
    "# VIF score\n",
    "r = np.corrcoef(x1,x2)[0][1]\n",
    "VIF = 1/(1-r**2)\n",
    "r, VIF"
   ]
  },
  {
   "cell_type": "markdown",
   "metadata": {},
   "source": [
    "Seems here that temperature and CO2 are highly correlated on a global scale and VIF is above 5 (but below 10)."
   ]
  },
  {
   "cell_type": "markdown",
   "metadata": {},
   "source": [
    "## Independence of residuals"
   ]
  },
  {
   "cell_type": "markdown",
   "metadata": {},
   "source": [
    "## Normality of errors"
   ]
  },
  {
   "cell_type": "code",
   "execution_count": 220,
   "metadata": {},
   "outputs": [
    {
     "data": {
      "text/plain": [
       "(array([0.11553097, 0.15404129, 0.3465929 , 0.38510322, 0.50063419,\n",
       "        0.46212386, 0.11553097, 0.11553097, 0.03851032, 0.03851032]),\n",
       " array([-1.8306381 , -1.39051837, -0.95039863, -0.5102789 , -0.07015917,\n",
       "         0.36996056,  0.81008029,  1.25020002,  1.69031975,  2.13043949,\n",
       "         2.57055922]),\n",
       " <a list of 1 Patch objects>)"
      ]
     },
     "execution_count": 220,
     "metadata": {},
     "output_type": "execute_result"
    },
    {
     "data": {
      "image/png": "[encoded data removed]",
      "text/plain": [
       "<Figure size 432x288 with 1 Axes>"
      ]
     },
     "metadata": {
      "needs_background": "light"
     },
     "output_type": "display_data"
    }
   ],
   "source": [
    "plt.hist(res.resid, density=1, histtype=\"stepfilled\")"
   ]
  },
  {
   "cell_type": "code",
   "execution_count": 206,
   "metadata": {},
   "outputs": [
    {
     "data": {
      "text/plain": [
       "(1.0149771795159584e-12, 0.8630465883419473)"
      ]
     },
     "execution_count": 206,
     "metadata": {},
     "output_type": "execute_result"
    }
   ],
   "source": [
    "np.mean(res.resid), np.std(res.resid)"
   ]
  },
  {
   "cell_type": "code",
   "execution_count": 209,
   "metadata": {
    "scrolled": true
   },
   "outputs": [
    {
     "data": {
      "text/plain": [
       "array([0.3199438 , 0.27501623, 0.21541821, 0.14054404, 0.13432929,\n",
       "       0.38656452, 0.29412691, 0.37150696, 0.27367908, 0.39874038,\n",
       "       0.39857736, 0.3687681 , 0.35060107, 0.31760689, 0.39856126,\n",
       "       0.36274112, 0.32333675, 0.37433079, 0.20799969, 0.37034736,\n",
       "       0.17317203, 0.32007315, 0.3506796 , 0.39851571, 0.20755441,\n",
       "       0.33111563, 0.15460405, 0.38811062, 0.01465717, 0.15893965,\n",
       "       0.39412193, 0.203156  , 0.07467899, 0.2792455 , 0.39742988,\n",
       "       0.32297768, 0.31531164, 0.32662135, 0.39848483, 0.0739397 ,\n",
       "       0.39297411, 0.34116732, 0.39888537, 0.20970825, 0.32959261,\n",
       "       0.25934938, 0.34684505, 0.28241711, 0.39419965, 0.37051449,\n",
       "       0.16853607, 0.39892302, 0.25066664, 0.39730967, 0.39537412,\n",
       "       0.2676351 , 0.38065322, 0.35629421, 0.35092271])"
      ]
     },
     "execution_count": 209,
     "metadata": {},
     "output_type": "execute_result"
    }
   ],
   "source": [
    "stats.norm.pdf(res.resid)"
   ]
  },
  {
   "cell_type": "code",
   "execution_count": null,
   "metadata": {},
   "outputs": [],
   "source": []
  }
 ],
 "metadata": {
  "kernelspec": {
   "display_name": "Python 3",
   "language": "python",
   "name": "python3"
  },
  "language_info": {
   "codemirror_mode": {
    "name": "ipython",
    "version": 3
   },
   "file_extension": ".py",
   "mimetype": "text/x-python",
   "name": "python",
   "nbconvert_exporter": "python",
   "pygments_lexer": "ipython3",
   "version": "3.7.6"
  }
 },
 "nbformat": 4,
 "nbformat_minor": 4
}
