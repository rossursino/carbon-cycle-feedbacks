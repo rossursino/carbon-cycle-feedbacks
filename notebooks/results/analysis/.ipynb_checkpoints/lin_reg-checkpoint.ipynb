{
 "cells": [
  {
   "cell_type": "code",
   "execution_count": 1,
   "metadata": {},
   "outputs": [],
   "source": [
    "import pickle\n",
    "import _pickle as cpickle\n",
    "import matplotlib.pyplot as plt\n",
    "import numpy as np\n",
    "import pandas as pd\n",
    "from scipy import stats\n",
    "from datetime import datetime\n",
    "import matplotlib.dates as mdates\n",
    "import scipy.signal as sps\n",
    "import xarray as xr\n",
    "import seaborn\n",
    "\n",
    "%matplotlib inline"
   ]
  },
  {
   "cell_type": "markdown",
   "metadata": {},
   "source": [
    "This notebook introduces a linear regression analysis between uptake and time and uptake and CO2 concentration using Peylin global integrated fluxes and a weighting of CO2 concentration."
   ]
  },
  {
   "cell_type": "markdown",
   "metadata": {},
   "source": [
    "UPTAKE: Use one model of fluxes. Use pickle of spatially integrated fluxes (which is essentially just flux data at monthly resolution.\n",
    "\n",
    "CO2: In CO2 folder."
   ]
  },
  {
   "cell_type": "markdown",
   "metadata": {},
   "source": [
    "# Flux against time"
   ]
  },
  {
   "cell_type": "code",
   "execution_count": 2,
   "metadata": {},
   "outputs": [
    {
     "data": {
      "text/plain": [
       "<xarray.Dataset>\n",
       "Dimensions:         (time: 21)\n",
       "Coordinates:\n",
       "  * time            (time) object 1992-12-30 00:00:00 ... 2012-12-30 00:00:00\n",
       "Data variables:\n",
       "    Earth_Land      (time) float64 -2.447 -3.349 -0.7345 ... -4.192 -2.768\n",
       "    South_Land      (time) float64 0.224 -0.3685 0.2921 ... -0.7236 -0.12\n",
       "    Tropical_Land   (time) float64 -0.8121 -0.3696 0.5733 ... -0.5483 0.6304\n",
       "    North_Land      (time) float64 -1.859 -2.611 -1.6 ... -2.7 -2.92 -3.279\n",
       "    Earth_Ocean     (time) float64 -0.2522 1.241 0.113 ... 0.1794 -0.1197\n",
       "    South_Ocean     (time) float64 0.5105 1.078 0.5778 ... 0.4099 0.6217 0.3392\n",
       "    Tropical_Ocean  (time) float64 -0.4834 -0.01013 -0.4716 ... -0.3309 -0.3562\n",
       "    North_Ocean     (time) float64 -0.2793 0.1733 0.006788 ... -0.1114 -0.1026"
      ]
     },
     "execution_count": 2,
     "metadata": {},
     "output_type": "execute_result"
    }
   ],
   "source": [
    "fRayner = open('./../../../output/inversions/raw/output_all/Rayner_all/year.pik', 'rb')\n",
    "Rayner = pickle.load(fRayner)\n",
    "Rayner"
   ]
  },
  {
   "cell_type": "code",
   "execution_count": 3,
   "metadata": {},
   "outputs": [],
   "source": [
    "def cftime_to_datetime(time_array, format='%Y-%m'):\n",
    "    '''\n",
    "    Takes a xr.DataArray of cftime values and converts it to a list of datetimes.\n",
    "    \n",
    "    Variables\n",
    "    ---\n",
    "    time_array: xr.DataArray of cftime values.\n",
    "    format: format of datetime.\n",
    "    ---\n",
    "    '''\n",
    "    \n",
    "    time_list = []\n",
    "    for time in time_array.values:\n",
    "        time_value = datetime.strptime(time.strftime('%Y-%m'), '%Y-%m')\n",
    "        time_list.append(time_value)\n",
    "    \n",
    "    return time_list"
   ]
  },
  {
   "cell_type": "code",
   "execution_count": 4,
   "metadata": {},
   "outputs": [
    {
     "data": {
      "text/plain": [
       "[datetime.datetime(1992, 12, 1, 0, 0),\n",
       " datetime.datetime(1993, 12, 1, 0, 0),\n",
       " datetime.datetime(1994, 12, 1, 0, 0),\n",
       " datetime.datetime(1995, 12, 1, 0, 0),\n",
       " datetime.datetime(1996, 12, 1, 0, 0),\n",
       " datetime.datetime(1997, 12, 1, 0, 0),\n",
       " datetime.datetime(1998, 12, 1, 0, 0),\n",
       " datetime.datetime(1999, 12, 1, 0, 0),\n",
       " datetime.datetime(2000, 12, 1, 0, 0),\n",
       " datetime.datetime(2001, 12, 1, 0, 0),\n",
       " datetime.datetime(2002, 12, 1, 0, 0),\n",
       " datetime.datetime(2003, 12, 1, 0, 0),\n",
       " datetime.datetime(2004, 12, 1, 0, 0),\n",
       " datetime.datetime(2005, 12, 1, 0, 0),\n",
       " datetime.datetime(2006, 12, 1, 0, 0),\n",
       " datetime.datetime(2007, 12, 1, 0, 0),\n",
       " datetime.datetime(2008, 12, 1, 0, 0),\n",
       " datetime.datetime(2009, 12, 1, 0, 0),\n",
       " datetime.datetime(2010, 12, 1, 0, 0),\n",
       " datetime.datetime(2011, 12, 1, 0, 0),\n",
       " datetime.datetime(2012, 12, 1, 0, 0)]"
      ]
     },
     "execution_count": 4,
     "metadata": {},
     "output_type": "execute_result"
    }
   ],
   "source": [
    "Rayner_time = cftime_to_datetime(Rayner.time)\n",
    "Rayner_time"
   ]
  },
  {
   "cell_type": "code",
   "execution_count": 5,
   "metadata": {},
   "outputs": [],
   "source": [
    "Rayner_u_time = Rayner.assign_coords(time=Rayner_time)"
   ]
  },
  {
   "cell_type": "code",
   "execution_count": 6,
   "metadata": {},
   "outputs": [
    {
     "data": {
      "text/plain": [
       "<xarray.Dataset>\n",
       "Dimensions:         (time: 21)\n",
       "Coordinates:\n",
       "  * time            (time) datetime64[ns] 1992-12-01 1993-12-01 ... 2012-12-01\n",
       "Data variables:\n",
       "    Earth_Land      (time) float64 -2.447 -3.349 -0.7345 ... -4.192 -2.768\n",
       "    South_Land      (time) float64 0.224 -0.3685 0.2921 ... -0.7236 -0.12\n",
       "    Tropical_Land   (time) float64 -0.8121 -0.3696 0.5733 ... -0.5483 0.6304\n",
       "    North_Land      (time) float64 -1.859 -2.611 -1.6 ... -2.7 -2.92 -3.279\n",
       "    Earth_Ocean     (time) float64 -0.2522 1.241 0.113 ... 0.1794 -0.1197\n",
       "    South_Ocean     (time) float64 0.5105 1.078 0.5778 ... 0.4099 0.6217 0.3392\n",
       "    Tropical_Ocean  (time) float64 -0.4834 -0.01013 -0.4716 ... -0.3309 -0.3562\n",
       "    North_Ocean     (time) float64 -0.2793 0.1733 0.006788 ... -0.1114 -0.1026"
      ]
     },
     "execution_count": 6,
     "metadata": {},
     "output_type": "execute_result"
    }
   ],
   "source": [
    "Rayner_u_time"
   ]
  },
  {
   "cell_type": "markdown",
   "metadata": {},
   "source": [
    "## Whole period"
   ]
  },
  {
   "cell_type": "code",
   "execution_count": 7,
   "metadata": {},
   "outputs": [
    {
     "name": "stderr",
     "output_type": "stream",
     "text": [
      "C:\\Users\\Ross\\Anaconda3\\lib\\site-packages\\pandas\\plotting\\_matplotlib\\converter.py:103: FutureWarning: Using an implicitly registered datetime converter for a matplotlib plotting method. The converter was registered by pandas on import. Future versions of pandas will require you to explicitly register matplotlib converters.\n",
      "\n",
      "To register the converters:\n",
      "\t>>> from pandas.plotting import register_matplotlib_converters\n",
      "\t>>> register_matplotlib_converters()\n",
      "  warnings.warn(msg, FutureWarning)\n"
     ]
    },
    {
     "data": {
      "text/plain": [
       "[<matplotlib.lines.Line2D at 0x1b9e211f548>]"
      ]
     },
     "execution_count": 7,
     "metadata": {},
     "output_type": "execute_result"
    },
    {
     "data": {
      "image/png": "[encoded data removed]",
      "text/plain": [
       "<Figure size 432x288 with 1 Axes>"
      ]
     },
     "metadata": {
      "needs_background": "light"
     },
     "output_type": "display_data"
    }
   ],
   "source": [
    "# Plot global land against time\n",
    "Rayner_u_time.South_Land.plot()"
   ]
  },
  {
   "cell_type": "code",
   "execution_count": 8,
   "metadata": {},
   "outputs": [
    {
     "data": {
      "text/plain": [
       "1992"
      ]
     },
     "execution_count": 8,
     "metadata": {},
     "output_type": "execute_result"
    }
   ],
   "source": [
    "int(Rayner_time[0].strftime(format='%Y'))"
   ]
  },
  {
   "cell_type": "code",
   "execution_count": 9,
   "metadata": {
    "scrolled": true
   },
   "outputs": [
    {
     "data": {
      "text/plain": [
       "array([1992., 1993., 1994., 1995., 1996., 1997., 1998., 1999., 2000.,\n",
       "       2001., 2002., 2003., 2004., 2005., 2006., 2007., 2008., 2009.,\n",
       "       2010., 2011., 2012.])"
      ]
     },
     "execution_count": 9,
     "metadata": {},
     "output_type": "execute_result"
    }
   ],
   "source": [
    "Rayner_year = []\n",
    "for time in Rayner_time:\n",
    "    Rayner_year.append(float(time.strftime(format='%Y')))\n",
    "Rayner_year = np.array(Rayner_year)\n",
    "Rayner_year"
   ]
  },
  {
   "cell_type": "code",
   "execution_count": 10,
   "metadata": {},
   "outputs": [
    {
     "name": "stdout",
     "output_type": "stream",
     "text": [
      "LinregressResult(slope=-0.08592789566207787, intercept=170.06839535081826, rvalue=-0.4275193100143103, pvalue=0.05321801467867693, stderr=0.041684352249547744)\n"
     ]
    },
    {
     "data": {
      "image/png": "[encoded data removed]",
      "text/plain": [
       "<Figure size 432x288 with 1 Axes>"
      ]
     },
     "metadata": {
      "needs_background": "light"
     },
     "output_type": "display_data"
    }
   ],
   "source": [
    "# Linear regression: global land uptake vs. time\n",
    "reg_land = stats.linregress(Rayner_year, Rayner.Earth_Land.values)\n",
    "slope_land = reg_land[0]\n",
    "intercept_land = reg_land[1]\n",
    "\n",
    "line = slope_land*Rayner_year+intercept_land\n",
    "\n",
    "plt.plot(Rayner_year, Rayner.Earth_Land)\n",
    "plt.plot(Rayner_year, line, color ='r')\n",
    "print(reg_land)"
   ]
  },
  {
   "cell_type": "markdown",
   "metadata": {},
   "source": [
    "## Decade trend in regression"
   ]
  },
  {
   "cell_type": "code",
   "execution_count": 14,
   "metadata": {},
   "outputs": [
    {
     "data": {
      "text/plain": [
       "<xarray.Dataset>\n",
       "Dimensions:         (time: 3)\n",
       "Coordinates:\n",
       "  * time            (time) object 1992-12-30 00:00:00 ... 2012-12-30 00:00:00\n",
       "Data variables:\n",
       "    Earth_Land      (time) float64 -2.447 -13.45 -25.25\n",
       "    South_Land      (time) float64 0.224 0.05579 -1.681\n",
       "    Tropical_Land   (time) float64 -0.8121 6.359 3.162\n",
       "    North_Land      (time) float64 -1.859 -19.86 -26.73\n",
       "    Earth_Ocean     (time) float64 -0.2522 1.816 -0.7396\n",
       "    South_Ocean     (time) float64 0.5105 6.117 5.302\n",
       "    Tropical_Ocean  (time) float64 -0.4834 -4.186 -4.15\n",
       "    North_Ocean     (time) float64 -0.2793 -0.1153 -1.892"
      ]
     },
     "execution_count": 14,
     "metadata": {},
     "output_type": "execute_result"
    }
   ],
   "source": [
    "fdRayner = open('./../../../output/inversions/raw/output_all/Rayner_all/decade.pik', 'rb')\n",
    "dRayner = pickle.load(fdRayner)\n",
    "dRayner"
   ]
  },
  {
   "cell_type": "code",
   "execution_count": 15,
   "metadata": {},
   "outputs": [
    {
     "data": {
      "text/plain": [
       "[datetime.datetime(1992, 12, 1, 0, 0),\n",
       " datetime.datetime(2002, 12, 1, 0, 0),\n",
       " datetime.datetime(2012, 12, 1, 0, 0)]"
      ]
     },
     "execution_count": 15,
     "metadata": {},
     "output_type": "execute_result"
    }
   ],
   "source": [
    "dRayner_time = cftime_to_datetime(dRayner.time)\n",
    "dRayner_time"
   ]
  },
  {
   "cell_type": "code",
   "execution_count": 16,
   "metadata": {},
   "outputs": [
    {
     "data": {
      "text/plain": [
       "[<matplotlib.lines.Line2D at 0x1b9e278eb08>]"
      ]
     },
     "execution_count": 16,
     "metadata": {},
     "output_type": "execute_result"
    },
    {
     "data": {
      "image/png": "[encoded data removed]",
      "text/plain": [
       "<Figure size 432x288 with 1 Axes>"
      ]
     },
     "metadata": {
      "needs_background": "light"
     },
     "output_type": "display_data"
    }
   ],
   "source": [
    "plt.plot(Rayner_time, Rayner.Earth_Land.values)\n",
    "plt.plot(dRayner_time, dRayner.Earth_Land.values/10)"
   ]
  },
  {
   "cell_type": "code",
   "execution_count": 17,
   "metadata": {},
   "outputs": [
    {
     "data": {
      "text/plain": [
       "array([2002., 2003., 2004., 2005., 2006., 2007., 2008., 2009., 2010.,\n",
       "       2011.])"
      ]
     },
     "execution_count": 17,
     "metadata": {},
     "output_type": "execute_result"
    }
   ],
   "source": [
    "Rayner_year[10:20]"
   ]
  },
  {
   "cell_type": "code",
   "execution_count": 18,
   "metadata": {
    "scrolled": true
   },
   "outputs": [
    {
     "name": "stdout",
     "output_type": "stream",
     "text": [
      "LinregressResult(slope=0.07512226413579669, intercept=-151.52969035603095, rvalue=0.17990328581738485, pvalue=0.6189530752251279, stderr=0.14522464415288733)\n",
      "LinregressResult(slope=-0.3247972816965547, intercept=649.4162433880207, rvalue=-0.8093827674558631, pvalue=0.004556866505672447, stderr=0.08332201108534462)\n"
     ]
    },
    {
     "data": {
      "image/png": "[encoded data removed]",
      "text/plain": [
       "<Figure size 432x288 with 1 Axes>"
      ]
     },
     "metadata": {
      "needs_background": "light"
     },
     "output_type": "display_data"
    }
   ],
   "source": [
    "plt.plot(Rayner_time, Rayner.Earth_Land)\n",
    "\n",
    "reg_land = stats.linregress(Rayner_year[:10], Rayner.Earth_Land[:10])\n",
    "slope_land = reg_land[0]\n",
    "intercept_land = reg_land[1]\n",
    "\n",
    "line_i = slope_land*Rayner_year[:10]+intercept_land\n",
    "plt.plot(Rayner_time[:10], line_i, color ='r')\n",
    "print(reg_land)\n",
    "\n",
    "reg_land = stats.linregress(Rayner_year[10:20], Rayner.Earth_Land[10:20])\n",
    "slope_land = reg_land[0]\n",
    "intercept_land = reg_land[1]\n",
    "\n",
    "line_i = slope_land*Rayner_year[10:20]+intercept_land\n",
    "plt.plot(Rayner_time[10:20], line_i, color ='r')\n",
    "print(reg_land)"
   ]
  },
  {
   "cell_type": "markdown",
   "metadata": {},
   "source": [
    "# Flux against CO2"
   ]
  },
  {
   "cell_type": "markdown",
   "metadata": {},
   "source": [
    "## Weighting of Mount Loa and South Pole"
   ]
  },
  {
   "cell_type": "markdown",
   "metadata": {},
   "source": [
    "### Month"
   ]
  },
  {
   "cell_type": "code",
   "execution_count": 20,
   "metadata": {},
   "outputs": [],
   "source": [
    "ml_co2_month = pd.read_csv('./../../../data/CO2/co2_mount_loa.csv')\n",
    "so_co2_month = pd.read_csv('./../../../data/CO2/co2_south_pole.csv')"
   ]
  },
  {
   "cell_type": "code",
   "execution_count": 21,
   "metadata": {},
   "outputs": [],
   "source": [
    "ml_co2_month.CO2[ml_co2_month.CO2==-99.99]=np.nan\n",
    "ml_co2_month = ml_co2_month.interpolate()"
   ]
  },
  {
   "cell_type": "code",
   "execution_count": 22,
   "metadata": {},
   "outputs": [],
   "source": [
    "so_co2_month.CO2[so_co2_month.CO2==-99.99]=np.nan\n",
    "so_co2_month = so_co2_month.interpolate()"
   ]
  },
  {
   "cell_type": "code",
   "execution_count": 23,
   "metadata": {},
   "outputs": [],
   "source": [
    "co2_month = 0.75*ml_co2_month + 0.25*so_co2_month"
   ]
  },
  {
   "cell_type": "code",
   "execution_count": 25,
   "metadata": {},
   "outputs": [],
   "source": [
    "co2_month.to_csv('./../../../data/CO2/weighted_co2_month.csv')"
   ]
  },
  {
   "cell_type": "code",
   "execution_count": 26,
   "metadata": {},
   "outputs": [
    {
     "data": {
      "text/plain": [
       "[<matplotlib.lines.Line2D at 0x1b9e2850888>]"
      ]
     },
     "execution_count": 26,
     "metadata": {},
     "output_type": "execute_result"
    },
    {
     "data": {
      "image/png": "[encoded data removed]",
      "text/plain": [
       "<Figure size 432x288 with 1 Axes>"
      ]
     },
     "metadata": {
      "needs_background": "light"
     },
     "output_type": "display_data"
    }
   ],
   "source": [
    "plt.plot(co2_month.Date, co2_month.CO2)"
   ]
  },
  {
   "cell_type": "code",
   "execution_count": 27,
   "metadata": {},
   "outputs": [
    {
     "data": {
      "text/plain": [
       "[<matplotlib.lines.Line2D at 0x1b9e29c7088>]"
      ]
     },
     "execution_count": 27,
     "metadata": {},
     "output_type": "execute_result"
    },
    {
     "data": {
      "image/png": "[encoded data removed]",
      "text/plain": [
       "<Figure size 432x288 with 1 Axes>"
      ]
     },
     "metadata": {
      "needs_background": "light"
     },
     "output_type": "display_data"
    }
   ],
   "source": [
    "plt.plot(co2_month.Date, sps.detrend(co2_month.CO2))"
   ]
  },
  {
   "cell_type": "markdown",
   "metadata": {},
   "source": [
    "### Year"
   ]
  },
  {
   "cell_type": "code",
   "execution_count": 29,
   "metadata": {},
   "outputs": [],
   "source": [
    "co2_global = pd.read_csv('./../../../data/CO2/co2_global.csv')\n",
    "co2_global.set_index('Year', inplace=True)"
   ]
  },
  {
   "cell_type": "code",
   "execution_count": 30,
   "metadata": {},
   "outputs": [
    {
     "data": {
      "text/plain": [
       "[<matplotlib.lines.Line2D at 0x1b9e2a3b688>]"
      ]
     },
     "execution_count": 30,
     "metadata": {},
     "output_type": "execute_result"
    },
    {
     "data": {
      "image/png": "[encoded data removed]",
      "text/plain": [
       "<Figure size 432x288 with 1 Axes>"
      ]
     },
     "metadata": {
      "needs_background": "light"
     },
     "output_type": "display_data"
    }
   ],
   "source": [
    "plt.plot(co2_global.index, co2_global.CO2)"
   ]
  },
  {
   "cell_type": "markdown",
   "metadata": {},
   "source": [
    "## Whole period"
   ]
  },
  {
   "cell_type": "code",
   "execution_count": 31,
   "metadata": {},
   "outputs": [],
   "source": [
    "co2_Rayner = co2_global.loc[1992:2012]"
   ]
  },
  {
   "cell_type": "code",
   "execution_count": 32,
   "metadata": {},
   "outputs": [
    {
     "data": {
      "text/plain": [
       "[<matplotlib.lines.Line2D at 0x1b9e2a7da08>]"
      ]
     },
     "execution_count": 32,
     "metadata": {},
     "output_type": "execute_result"
    },
    {
     "data": {
      "image/png": "[encoded data removed]",
      "text/plain": [
       "<Figure size 432x288 with 1 Axes>"
      ]
     },
     "metadata": {
      "needs_background": "light"
     },
     "output_type": "display_data"
    }
   ],
   "source": [
    "plt.plot(co2_Rayner.index, co2_Rayner.CO2-350)\n",
    "plt.plot(co2_Rayner.index, Rayner.Earth_Land)"
   ]
  },
  {
   "cell_type": "code",
   "execution_count": 33,
   "metadata": {},
   "outputs": [
    {
     "data": {
      "text/plain": [
       "<matplotlib.collections.PathCollection at 0x1b9e2b10dc8>"
      ]
     },
     "execution_count": 33,
     "metadata": {},
     "output_type": "execute_result"
    },
    {
     "data": {
      "image/png": "[encoded data removed]",
      "text/plain": [
       "<Figure size 432x288 with 1 Axes>"
      ]
     },
     "metadata": {
      "needs_background": "light"
     },
     "output_type": "display_data"
    }
   ],
   "source": [
    "plt.scatter(co2_Rayner.CO2,Rayner.Earth_Land)"
   ]
  },
  {
   "cell_type": "code",
   "execution_count": 34,
   "metadata": {},
   "outputs": [
    {
     "name": "stdout",
     "output_type": "stream",
     "text": [
      "LinregressResult(slope=-0.04920333235283114, intercept=16.33332883589132, rvalue=-0.4520378837039896, pvalue=0.03965781793248463, stderr=0.022274456918048136)\n"
     ]
    },
    {
     "data": {
      "image/png": "[encoded data removed]",
      "text/plain": [
       "<Figure size 432x288 with 1 Axes>"
      ]
     },
     "metadata": {
      "needs_background": "light"
     },
     "output_type": "display_data"
    }
   ],
   "source": [
    "# Linear regression: global land uptake vs. time\n",
    "reg_land = stats.linregress(co2_Rayner.CO2, Rayner.Earth_Land)\n",
    "slope_land = reg_land[0]\n",
    "intercept_land = reg_land[1]\n",
    "\n",
    "line = slope_land*co2_Rayner.CO2+intercept_land\n",
    "\n",
    "plt.scatter(co2_Rayner.CO2, Rayner.Earth_Land)\n",
    "plt.plot(co2_Rayner.CO2, line, color ='r')\n",
    "print(reg_land)"
   ]
  },
  {
   "cell_type": "markdown",
   "metadata": {},
   "source": [
    "## Decade trend in regression"
   ]
  },
  {
   "cell_type": "code",
   "execution_count": 35,
   "metadata": {
    "scrolled": true
   },
   "outputs": [
    {
     "name": "stdout",
     "output_type": "stream",
     "text": [
      "LinregressResult(slope=0.04025365177607461, intercept=-16.105247546509876, rvalue=0.15666739584555994, pvalue=0.6655786211230958, stderr=0.08971919322388185)\n",
      "LinregressResult(slope=-0.1623953761886217, intercept=59.4154627658337, rvalue=-0.808327774031994, pvalue=0.004652255561527619, stderr=0.04181762216804639)\n"
     ]
    },
    {
     "data": {
      "image/png": "[encoded data removed]",
      "text/plain": [
       "<Figure size 432x288 with 1 Axes>"
      ]
     },
     "metadata": {
      "needs_background": "light"
     },
     "output_type": "display_data"
    }
   ],
   "source": [
    "plt.scatter(co2_Rayner.CO2, Rayner.Earth_Land)\n",
    "\n",
    "reg_land = stats.linregress(co2_Rayner.iloc[:10].CO2, Rayner.Earth_Land[:10])\n",
    "slope_land = reg_land[0]\n",
    "intercept_land = reg_land[1]\n",
    "\n",
    "line_ii = slope_land*co2_Rayner.iloc[:10].CO2+intercept_land\n",
    "plt.plot(co2_Rayner.iloc[:10].CO2, line_ii, color ='r')\n",
    "print(reg_land)\n",
    "\n",
    "reg_land = stats.linregress(co2_Rayner.iloc[10:20].CO2, Rayner.Earth_Land[10:20])\n",
    "slope_land = reg_land[0]\n",
    "intercept_land = reg_land[1]\n",
    "\n",
    "line_ii = slope_land*co2_Rayner.iloc[10:20].CO2+intercept_land\n",
    "plt.plot(co2_Rayner.iloc[10:20].CO2, line_ii, color ='r')\n",
    "print(reg_land)"
   ]
  },
  {
   "cell_type": "markdown",
   "metadata": {},
   "source": [
    "# Integration into INVF Analysis Class"
   ]
  },
  {
   "cell_type": "code",
   "execution_count": 37,
   "metadata": {},
   "outputs": [],
   "source": [
    "import sys\n",
    "sys.path.append('./../../../scripts/core')\n",
    "import inv_flux as invf"
   ]
  },
  {
   "cell_type": "code",
   "execution_count": 38,
   "metadata": {},
   "outputs": [
    {
     "data": {
      "text/plain": [
       "<module 'inv_flux' from './../../../scripts/core\\\\inv_flux.py'>"
      ]
     },
     "execution_count": 38,
     "metadata": {},
     "output_type": "execute_result"
    }
   ],
   "source": [
    "import importlib as ilib\n",
    "ilib.reload(invf)"
   ]
  },
  {
   "cell_type": "code",
   "execution_count": 39,
   "metadata": {},
   "outputs": [],
   "source": [
    "def cftime_to_datetime(self, format='%Y-%m'):\n",
    "    \"\"\"Takes a xr.Dataset with cftime values and converts them into datetimes.\n",
    "\n",
    "    Parameters\n",
    "    ----------\n",
    "    self: xr.Dataset.\n",
    "    format: format of datetime.\n",
    "    ----------\n",
    "    \"\"\"\n",
    "\n",
    "    time_list = []\n",
    "    for time in self.data.time.values:\n",
    "        time_value = datetime.strptime(time.strftime('%Y-%m'), '%Y-%m')\n",
    "        time_list.append(time_value)\n",
    "\n",
    "    return self.data.assign_coords(time=time_list)"
   ]
  },
  {
   "cell_type": "code",
   "execution_count": 43,
   "metadata": {},
   "outputs": [],
   "source": [
    "fRayner = open('./../../../output/inversions/raw/output_all/Rayner_all/year.pik', 'rb')\n",
    "Rayner = pickle.load(fRayner)\n",
    "Rayner = invf.Analysis(Rayner)"
   ]
  },
  {
   "cell_type": "code",
   "execution_count": 44,
   "metadata": {},
   "outputs": [
    {
     "ename": "AttributeError",
     "evalue": "'Analysis' object has no attribute 'cftime_to_datetime'",
     "output_type": "error",
     "traceback": [
      "\u001b[1;31m---------------------------------------------------------------------------\u001b[0m",
      "\u001b[1;31mAttributeError\u001b[0m                            Traceback (most recent call last)",
      "\u001b[1;32m<ipython-input-44-f281ef7f6e0f>\u001b[0m in \u001b[0;36m<module>\u001b[1;34m\u001b[0m\n\u001b[1;32m----> 1\u001b[1;33m \u001b[0mRayner\u001b[0m \u001b[1;33m=\u001b[0m \u001b[0minvf\u001b[0m\u001b[1;33m.\u001b[0m\u001b[0mAnalysis\u001b[0m\u001b[1;33m(\u001b[0m\u001b[0mRayner\u001b[0m\u001b[1;33m.\u001b[0m\u001b[0mcftime_to_datetime\u001b[0m\u001b[1;33m(\u001b[0m\u001b[1;33m)\u001b[0m\u001b[1;33m)\u001b[0m\u001b[1;33m\u001b[0m\u001b[1;33m\u001b[0m\u001b[0m\n\u001b[0m\u001b[0;32m      2\u001b[0m \u001b[0mRayner\u001b[0m\u001b[1;33m.\u001b[0m\u001b[0mdata\u001b[0m\u001b[1;33m\u001b[0m\u001b[1;33m\u001b[0m\u001b[0m\n",
      "\u001b[1;31mAttributeError\u001b[0m: 'Analysis' object has no attribute 'cftime_to_datetime'"
     ]
    }
   ],
   "source": [
    "Rayner = invf.Analysis(Rayner.cftime_to_datetime())\n",
    "Rayner.data"
   ]
  },
  {
   "cell_type": "code",
   "execution_count": 19,
   "metadata": {},
   "outputs": [],
   "source": [
    "x1=Rayner.data['time'].values[0:11]\n",
    "x2=Rayner.data['time'].values[10:21]\n",
    "x3=Rayner.data['time'].values[8:19]"
   ]
  },
  {
   "cell_type": "code",
   "execution_count": 21,
   "metadata": {},
   "outputs": [
    {
     "data": {
      "text/plain": [
       "array(['2000-12-01T00:00:00.000000000', '2001-12-01T00:00:00.000000000',\n",
       "       '2002-12-01T00:00:00.000000000', '2003-12-01T00:00:00.000000000',\n",
       "       '2004-12-01T00:00:00.000000000', '2005-12-01T00:00:00.000000000',\n",
       "       '2006-12-01T00:00:00.000000000', '2007-12-01T00:00:00.000000000',\n",
       "       '2008-12-01T00:00:00.000000000', '2009-12-01T00:00:00.000000000',\n",
       "       '2010-12-01T00:00:00.000000000'], dtype='datetime64[ns]')"
      ]
     },
     "execution_count": 21,
     "metadata": {},
     "output_type": "execute_result"
    }
   ],
   "source": [
    "x3"
   ]
  },
  {
   "cell_type": "code",
   "execution_count": 22,
   "metadata": {},
   "outputs": [],
   "source": [
    "time_dict={'1992-2001':x1, '2002-2011':x2, '2000:2010': x3}"
   ]
  },
  {
   "cell_type": "code",
   "execution_count": 23,
   "metadata": {},
   "outputs": [
    {
     "data": {
      "text/plain": [
       "dict_keys(['1992-2001', '2002-2011', '2000:2010'])"
      ]
     },
     "execution_count": 23,
     "metadata": {},
     "output_type": "execute_result"
    }
   ],
   "source": [
    "time_dict.keys()"
   ]
  },
  {
   "cell_type": "code",
   "execution_count": 24,
   "metadata": {},
   "outputs": [],
   "source": [
    "pickle.dump(time_dict, open('./../Scripts/lin_reg_times/Rayner_lrtime.pik', 'wb'))"
   ]
  },
  {
   "cell_type": "code",
   "execution_count": 25,
   "metadata": {
    "scrolled": false
   },
   "outputs": [
    {
     "data": {
      "image/png": "[encoded data removed]",
      "text/plain": [
       "<Figure size 432x288 with 1 Axes>"
      ]
     },
     "metadata": {
      "needs_background": "light"
     },
     "output_type": "display_data"
    }
   ],
   "source": [
    "p=Rayner.linear_regression_time(time_dict,'Earth_Land', save_plot=True)"
   ]
  },
  {
   "cell_type": "code",
   "execution_count": 26,
   "metadata": {},
   "outputs": [
    {
     "data": {
      "text/plain": [
       "LinregressResult(slope=0.10782160796491772, intercept=-216.76488129512742, rvalue=0.28676119398123706, pvalue=0.39257624042010497, stderr=0.12006892690661833)"
      ]
     },
     "execution_count": 26,
     "metadata": {},
     "output_type": "execute_result"
    }
   ],
   "source": [
    "p['1992-2001']"
   ]
  },
  {
   "cell_type": "code",
   "execution_count": 27,
   "metadata": {},
   "outputs": [],
   "source": [
    "fCAMS = open('./../Output/output_raw/output_all/CAMS_all/year.pik', 'rb')\n",
    "CAMS = pickle.load(fCAMS)\n",
    "CAMS = invf.Analysis(CAMS)"
   ]
  },
  {
   "cell_type": "code",
   "execution_count": 28,
   "metadata": {},
   "outputs": [
    {
     "data": {
      "text/plain": [
       "<xarray.Dataset>\n",
       "Dimensions:         (time: 39)\n",
       "Coordinates:\n",
       "  * time            (time) datetime64[ns] 1979-12-01 1980-12-01 ... 2017-12-01\n",
       "Data variables:\n",
       "    Earth_Land      (time) float64 -0.3236 -0.2909 -1.424 ... -2.248 -3.845\n",
       "    South_Land      (time) float64 -0.06017 0.09 0.05536 ... 0.08921 0.08088\n",
       "    Tropical_Land   (time) float64 2.072 1.62 0.4356 ... 0.824 0.6507 -1.083\n",
       "    North_Land      (time) float64 -2.335 -2.001 -1.915 ... -2.95 -2.988 -2.843\n",
       "    Earth_Ocean     (time) float64 -1.054 -1.139 -1.101 ... -1.933 -2.067 -2.189\n",
       "    South_Ocean     (time) float64 -0.9933 -1.133 -1.017 ... -1.448 -1.562\n",
       "    Tropical_Ocean  (time) float64 0.8567 0.8374 0.8029 ... 0.4387 0.3609 0.3218\n",
       "    North_Ocean     (time) float64 -0.9174 -0.8442 -0.8868 ... -0.9797 -0.9491"
      ]
     },
     "execution_count": 28,
     "metadata": {},
     "output_type": "execute_result"
    }
   ],
   "source": [
    "CAMS = invf.Analysis(CAMS.cftime_to_datetime())\n",
    "CAMS.data"
   ]
  },
  {
   "cell_type": "code",
   "execution_count": 46,
   "metadata": {},
   "outputs": [],
   "source": [
    "x1=CAMS.data['time'].values[1:12]\n",
    "x2=CAMS.data['time'].values[11:22]\n",
    "x3=CAMS.data['time'].values[21:32]\n",
    "x4=CAMS.data['time'].values[28:39]"
   ]
  },
  {
   "cell_type": "code",
   "execution_count": 52,
   "metadata": {},
   "outputs": [
    {
     "data": {
      "text/plain": [
       "array(['2007-12-01T00:00:00.000000000', '2008-12-01T00:00:00.000000000',\n",
       "       '2009-12-01T00:00:00.000000000', '2010-12-01T00:00:00.000000000',\n",
       "       '2011-12-01T00:00:00.000000000', '2012-12-01T00:00:00.000000000',\n",
       "       '2013-12-01T00:00:00.000000000', '2014-12-01T00:00:00.000000000',\n",
       "       '2015-12-01T00:00:00.000000000', '2016-12-01T00:00:00.000000000',\n",
       "       '2017-12-01T00:00:00.000000000'], dtype='datetime64[ns]')"
      ]
     },
     "execution_count": 52,
     "metadata": {},
     "output_type": "execute_result"
    }
   ],
   "source": [
    "x4"
   ]
  },
  {
   "cell_type": "code",
   "execution_count": 56,
   "metadata": {},
   "outputs": [],
   "source": [
    "CAMS_time = {'1980-1990': x1, '1990-2000': x2, '2000-2010': x3, '2007-2017':x4}"
   ]
  },
  {
   "cell_type": "code",
   "execution_count": 57,
   "metadata": {},
   "outputs": [
    {
     "data": {
      "text/plain": [
       "{'1980-1990': array(['1980-12-01T00:00:00.000000000', '1981-12-01T00:00:00.000000000',\n",
       "        '1982-12-01T00:00:00.000000000', '1983-12-01T00:00:00.000000000',\n",
       "        '1984-12-01T00:00:00.000000000', '1985-12-01T00:00:00.000000000',\n",
       "        '1986-12-01T00:00:00.000000000', '1987-12-01T00:00:00.000000000',\n",
       "        '1988-12-01T00:00:00.000000000', '1989-12-01T00:00:00.000000000',\n",
       "        '1990-12-01T00:00:00.000000000'], dtype='datetime64[ns]'),\n",
       " '1990-2000': array(['1990-12-01T00:00:00.000000000', '1991-12-01T00:00:00.000000000',\n",
       "        '1992-12-01T00:00:00.000000000', '1993-12-01T00:00:00.000000000',\n",
       "        '1994-12-01T00:00:00.000000000', '1995-12-01T00:00:00.000000000',\n",
       "        '1996-12-01T00:00:00.000000000', '1997-12-01T00:00:00.000000000',\n",
       "        '1998-12-01T00:00:00.000000000', '1999-12-01T00:00:00.000000000',\n",
       "        '2000-12-01T00:00:00.000000000'], dtype='datetime64[ns]'),\n",
       " '2000-2010': array(['2000-12-01T00:00:00.000000000', '2001-12-01T00:00:00.000000000',\n",
       "        '2002-12-01T00:00:00.000000000', '2003-12-01T00:00:00.000000000',\n",
       "        '2004-12-01T00:00:00.000000000', '2005-12-01T00:00:00.000000000',\n",
       "        '2006-12-01T00:00:00.000000000', '2007-12-01T00:00:00.000000000',\n",
       "        '2008-12-01T00:00:00.000000000', '2009-12-01T00:00:00.000000000',\n",
       "        '2010-12-01T00:00:00.000000000'], dtype='datetime64[ns]'),\n",
       " '2007-2017': array(['2007-12-01T00:00:00.000000000', '2008-12-01T00:00:00.000000000',\n",
       "        '2009-12-01T00:00:00.000000000', '2010-12-01T00:00:00.000000000',\n",
       "        '2011-12-01T00:00:00.000000000', '2012-12-01T00:00:00.000000000',\n",
       "        '2013-12-01T00:00:00.000000000', '2014-12-01T00:00:00.000000000',\n",
       "        '2015-12-01T00:00:00.000000000', '2016-12-01T00:00:00.000000000',\n",
       "        '2017-12-01T00:00:00.000000000'], dtype='datetime64[ns]')}"
      ]
     },
     "execution_count": 57,
     "metadata": {},
     "output_type": "execute_result"
    }
   ],
   "source": [
    "CAMS_time"
   ]
  },
  {
   "cell_type": "code",
   "execution_count": 58,
   "metadata": {},
   "outputs": [],
   "source": [
    "pickle.dump(CAMS_time, open('./../Scripts/lin_reg_times/CAMS_lrtime.pik', 'wb'))"
   ]
  },
  {
   "cell_type": "code",
   "execution_count": 59,
   "metadata": {
    "scrolled": true
   },
   "outputs": [
    {
     "data": {
      "text/plain": [
       "{'1980-1990': LinregressResult(slope=-0.0992962947197408, intercept=196.08549565857936, rvalue=-0.29419181301794234, pvalue=0.3798689774450673, stderr=0.10752857127745945),\n",
       " '1990-2000': LinregressResult(slope=0.10037711034542376, intercept=-202.12100160497494, rvalue=0.313185901212477, pvalue=0.3483526012655447, stderr=0.1014597850303833),\n",
       " '2000-2010': LinregressResult(slope=-0.16353001267372255, intercept=325.56138590180717, rvalue=-0.5775978070606398, pvalue=0.06276318641173301, stderr=0.07703922567901021),\n",
       " '2007-2017': LinregressResult(slope=4.2907732557209955e-05, intercept=-2.983559535084221, rvalue=0.00019942144481568288, pvalue=0.9995357051285453, stderr=0.07172035709544824)}"
      ]
     },
     "execution_count": 59,
     "metadata": {},
     "output_type": "execute_result"
    },
    {
     "data": {
      "image/png": "[encoded data removed]",
      "text/plain": [
       "<Figure size 432x288 with 1 Axes>"
      ]
     },
     "metadata": {
      "needs_background": "light"
     },
     "output_type": "display_data"
    }
   ],
   "source": [
    "CAMS.linear_regression_time(CAMS_time,'Earth_Land')"
   ]
  },
  {
   "cell_type": "code",
   "execution_count": 60,
   "metadata": {},
   "outputs": [],
   "source": [
    "fCTRACKER = open('./../Output/output_raw/output_all/CTRACKER_all/year.pik', 'rb')\n",
    "CTRACKER = pickle.load(fCTRACKER)\n",
    "CTRACKER = invf.Analysis(CTRACKER)"
   ]
  },
  {
   "cell_type": "code",
   "execution_count": 61,
   "metadata": {},
   "outputs": [
    {
     "data": {
      "text/plain": [
       "<xarray.Dataset>\n",
       "Dimensions:         (time: 18)\n",
       "Coordinates:\n",
       "  * time            (time) datetime64[ns] 2000-12-01 2001-12-01 ... 2017-12-01\n",
       "Data variables:\n",
       "    Earth_Land      (time) float64 -2.742 -1.927 -0.6271 ... -1.549 -2.084\n",
       "    South_Land      (time) float64 -0.3934 -0.04637 0.1594 ... 0.04587 -0.1798\n",
       "    Tropical_Land   (time) float64 -0.19 -0.5015 0.2291 ... 0.09549 0.1698\n",
       "    North_Land      (time) float64 -2.159 -1.379 -1.016 ... -1.746 -1.691 -2.075\n",
       "    Earth_Ocean     (time) float64 -2.603 -1.591 -1.366 ... -2.248 -1.883 -3.076\n",
       "    South_Ocean     (time) float64 -1.564 -1.124 -1.02 ... -1.439 -1.448 -1.815\n",
       "    Tropical_Ocean  (time) float64 0.3306 0.6103 0.8359 ... 0.3406 0.001975\n",
       "    North_Ocean     (time) float64 -1.37 -1.078 -1.182 ... -1.066 -0.7751 -1.263"
      ]
     },
     "execution_count": 61,
     "metadata": {},
     "output_type": "execute_result"
    }
   ],
   "source": [
    "CTRACKER = invf.Analysis(CTRACKER.cftime_to_datetime())\n",
    "CTRACKER.data"
   ]
  },
  {
   "cell_type": "code",
   "execution_count": 70,
   "metadata": {},
   "outputs": [],
   "source": [
    "x1=CTRACKER.data['time'].values[:11]\n",
    "x2=CTRACKER.data['time'].values[7:]"
   ]
  },
  {
   "cell_type": "code",
   "execution_count": 71,
   "metadata": {},
   "outputs": [
    {
     "data": {
      "text/plain": [
       "array(['2007-12-01T00:00:00.000000000', '2008-12-01T00:00:00.000000000',\n",
       "       '2009-12-01T00:00:00.000000000', '2010-12-01T00:00:00.000000000',\n",
       "       '2011-12-01T00:00:00.000000000', '2012-12-01T00:00:00.000000000',\n",
       "       '2013-12-01T00:00:00.000000000', '2014-12-01T00:00:00.000000000',\n",
       "       '2015-12-01T00:00:00.000000000', '2016-12-01T00:00:00.000000000',\n",
       "       '2017-12-01T00:00:00.000000000'], dtype='datetime64[ns]')"
      ]
     },
     "execution_count": 71,
     "metadata": {},
     "output_type": "execute_result"
    }
   ],
   "source": [
    "x2"
   ]
  },
  {
   "cell_type": "code",
   "execution_count": 72,
   "metadata": {},
   "outputs": [
    {
     "data": {
      "text/plain": [
       "{'2000-2010': array(['2000-12-01T00:00:00.000000000', '2001-12-01T00:00:00.000000000',\n",
       "        '2002-12-01T00:00:00.000000000', '2003-12-01T00:00:00.000000000',\n",
       "        '2004-12-01T00:00:00.000000000', '2005-12-01T00:00:00.000000000',\n",
       "        '2006-12-01T00:00:00.000000000', '2007-12-01T00:00:00.000000000',\n",
       "        '2008-12-01T00:00:00.000000000', '2009-12-01T00:00:00.000000000',\n",
       "        '2010-12-01T00:00:00.000000000'], dtype='datetime64[ns]'),\n",
       " '2007-2017': array(['2007-12-01T00:00:00.000000000', '2008-12-01T00:00:00.000000000',\n",
       "        '2009-12-01T00:00:00.000000000', '2010-12-01T00:00:00.000000000',\n",
       "        '2011-12-01T00:00:00.000000000', '2012-12-01T00:00:00.000000000',\n",
       "        '2013-12-01T00:00:00.000000000', '2014-12-01T00:00:00.000000000',\n",
       "        '2015-12-01T00:00:00.000000000', '2016-12-01T00:00:00.000000000',\n",
       "        '2017-12-01T00:00:00.000000000'], dtype='datetime64[ns]')}"
      ]
     },
     "execution_count": 72,
     "metadata": {},
     "output_type": "execute_result"
    }
   ],
   "source": [
    "CTRACKER_time = {'2000-2010': x1, '2007-2017':x2}\n",
    "CTRACKER_time"
   ]
  },
  {
   "cell_type": "code",
   "execution_count": 73,
   "metadata": {},
   "outputs": [],
   "source": [
    "pickle.dump(CTRACKER_time, open('./../Scripts/lin_reg_times/CTRACKER_lrtime.pik', 'wb'))"
   ]
  },
  {
   "cell_type": "code",
   "execution_count": 74,
   "metadata": {},
   "outputs": [],
   "source": [
    "fJAMSTEC = open('./../Output/output_raw/output_all/JAMSTEC_all/year.pik', 'rb')\n",
    "JAMSTEC = pickle.load(fJAMSTEC)\n",
    "JAMSTEC = invf.Analysis(JAMSTEC)"
   ]
  },
  {
   "cell_type": "code",
   "execution_count": 75,
   "metadata": {},
   "outputs": [
    {
     "data": {
      "text/plain": [
       "<xarray.Dataset>\n",
       "Dimensions:         (time: 22)\n",
       "Coordinates:\n",
       "  * time            (time) datetime64[ns] 1996-12-01 1997-12-01 ... 2017-12-01\n",
       "Data variables:\n",
       "    Earth_Land      (time) float64 -1.479 -0.7138 0.3837 ... -1.528 -3.608\n",
       "    South_Land      (time) float64 -0.1174 0.1827 0.227 ... -0.2549 -0.8015\n",
       "    Tropical_Land   (time) float64 0.216 0.8056 1.08 ... 0.4241 0.6761 -0.2213\n",
       "    North_Land      (time) float64 -1.578 -1.702 -0.9229 ... -1.949 -2.585\n",
       "    Earth_Ocean     (time) float64 -1.601 -1.256 -1.549 ... -1.854 -1.661 -2.086\n",
       "    South_Ocean     (time) float64 -1.054 -1.208 -1.034 ... -1.385 -1.282 -1.396\n",
       "    Tropical_Ocean  (time) float64 0.5292 1.014 0.7688 ... 0.667 0.8156 0.4163\n",
       "    North_Ocean     (time) float64 -1.076 -1.062 -1.283 ... -1.136 -1.194 -1.106"
      ]
     },
     "execution_count": 75,
     "metadata": {},
     "output_type": "execute_result"
    }
   ],
   "source": [
    "JAMSTEC = invf.Analysis(JAMSTEC.cftime_to_datetime())\n",
    "JAMSTEC.data"
   ]
  },
  {
   "cell_type": "code",
   "execution_count": 87,
   "metadata": {},
   "outputs": [],
   "source": [
    "x1=JAMSTEC.data['time'].values[:10]\n",
    "x2=JAMSTEC.data['time'].values[4:15]\n",
    "x3=JAMSTEC.data['time'].values[11:]"
   ]
  },
  {
   "cell_type": "code",
   "execution_count": 90,
   "metadata": {},
   "outputs": [
    {
     "data": {
      "text/plain": [
       "array(['2007-12-01T00:00:00.000000000', '2008-12-01T00:00:00.000000000',\n",
       "       '2009-12-01T00:00:00.000000000', '2010-12-01T00:00:00.000000000',\n",
       "       '2011-12-01T00:00:00.000000000', '2012-12-01T00:00:00.000000000',\n",
       "       '2013-12-01T00:00:00.000000000', '2014-12-01T00:00:00.000000000',\n",
       "       '2015-12-01T00:00:00.000000000', '2016-12-01T00:00:00.000000000',\n",
       "       '2017-12-01T00:00:00.000000000'], dtype='datetime64[ns]')"
      ]
     },
     "execution_count": 90,
     "metadata": {},
     "output_type": "execute_result"
    }
   ],
   "source": [
    "x3"
   ]
  },
  {
   "cell_type": "code",
   "execution_count": 91,
   "metadata": {},
   "outputs": [
    {
     "data": {
      "text/plain": [
       "{'1996-2005': array(['1996-12-01T00:00:00.000000000', '1997-12-01T00:00:00.000000000',\n",
       "        '1998-12-01T00:00:00.000000000', '1999-12-01T00:00:00.000000000',\n",
       "        '2000-12-01T00:00:00.000000000', '2001-12-01T00:00:00.000000000',\n",
       "        '2002-12-01T00:00:00.000000000', '2003-12-01T00:00:00.000000000',\n",
       "        '2004-12-01T00:00:00.000000000', '2005-12-01T00:00:00.000000000'],\n",
       "       dtype='datetime64[ns]'),\n",
       " '2000-2010': array(['2000-12-01T00:00:00.000000000', '2001-12-01T00:00:00.000000000',\n",
       "        '2002-12-01T00:00:00.000000000', '2003-12-01T00:00:00.000000000',\n",
       "        '2004-12-01T00:00:00.000000000', '2005-12-01T00:00:00.000000000',\n",
       "        '2006-12-01T00:00:00.000000000', '2007-12-01T00:00:00.000000000',\n",
       "        '2008-12-01T00:00:00.000000000', '2009-12-01T00:00:00.000000000',\n",
       "        '2010-12-01T00:00:00.000000000'], dtype='datetime64[ns]'),\n",
       " '2007-2017': array(['2007-12-01T00:00:00.000000000', '2008-12-01T00:00:00.000000000',\n",
       "        '2009-12-01T00:00:00.000000000', '2010-12-01T00:00:00.000000000',\n",
       "        '2011-12-01T00:00:00.000000000', '2012-12-01T00:00:00.000000000',\n",
       "        '2013-12-01T00:00:00.000000000', '2014-12-01T00:00:00.000000000',\n",
       "        '2015-12-01T00:00:00.000000000', '2016-12-01T00:00:00.000000000',\n",
       "        '2017-12-01T00:00:00.000000000'], dtype='datetime64[ns]')}"
      ]
     },
     "execution_count": 91,
     "metadata": {},
     "output_type": "execute_result"
    }
   ],
   "source": [
    "JAMSTEC_time = {'1996-2005': x1, '2000-2010':x2, '2007-2017':x3}\n",
    "JAMSTEC_time"
   ]
  },
  {
   "cell_type": "code",
   "execution_count": 92,
   "metadata": {},
   "outputs": [],
   "source": [
    "pickle.dump(JAMSTEC_time, open('./../Scripts/lin_reg_times/JAMSTEC_lrtime.pik', 'wb'))"
   ]
  },
  {
   "cell_type": "code",
   "execution_count": 93,
   "metadata": {},
   "outputs": [],
   "source": [
    "fJENA_s76 = open('./../Output/output_raw/output_all/JENA_s76_all/year.pik', 'rb')\n",
    "JENA_s76 = pickle.load(fJENA_s76)\n",
    "JENA_s76 = invf.Analysis(JENA_s76)"
   ]
  },
  {
   "cell_type": "code",
   "execution_count": 94,
   "metadata": {},
   "outputs": [
    {
     "data": {
      "text/plain": [
       "<xarray.Dataset>\n",
       "Dimensions:         (time: 42)\n",
       "Coordinates:\n",
       "  * time            (time) datetime64[ns] 1976-12-01 1977-12-01 ... 2017-12-01\n",
       "Data variables:\n",
       "    Earth_Land      (time) float64 -1.222 0.7018 -0.7247 ... -1.454 -2.908\n",
       "    South_Land      (time) float64 0.2531 0.4294 0.3338 ... 0.1559 0.05055\n",
       "    Tropical_Land   (time) float64 -0.1174 0.9037 0.4336 ... 0.3215 -0.5574\n",
       "    North_Land      (time) float64 -1.358 -0.6313 -1.492 ... -1.932 -2.401\n",
       "    Earth_Ocean     (time) float64 -1.859 -1.456 -1.633 ... -2.054 -2.099 -2.661\n",
       "    South_Ocean     (time) float64 -1.274 -1.044 -1.236 ... -1.348 -1.48 -1.736\n",
       "    Tropical_Ocean  (time) float64 0.4939 0.6844 0.7426 ... 0.44 0.5199 0.238\n",
       "    North_Ocean     (time) float64 -1.079 -1.096 -1.14 ... -1.146 -1.139 -1.163"
      ]
     },
     "execution_count": 94,
     "metadata": {},
     "output_type": "execute_result"
    }
   ],
   "source": [
    "JENA_s76 = invf.Analysis(JENA_s76.cftime_to_datetime())\n",
    "JENA_s76.data"
   ]
  },
  {
   "cell_type": "code",
   "execution_count": 103,
   "metadata": {},
   "outputs": [],
   "source": [
    "x1=JENA_s76.data['time'].values[0:10]\n",
    "x2=JENA_s76.data['time'].values[4:15]\n",
    "x3=JENA_s76.data['time'].values[14:25]\n",
    "x4=JENA_s76.data['time'].values[24:35]\n",
    "x5=JENA_s76.data['time'].values[31:42]"
   ]
  },
  {
   "cell_type": "code",
   "execution_count": 104,
   "metadata": {},
   "outputs": [
    {
     "data": {
      "text/plain": [
       "array(['2007-12-01T00:00:00.000000000', '2008-12-01T00:00:00.000000000',\n",
       "       '2009-12-01T00:00:00.000000000', '2010-12-01T00:00:00.000000000',\n",
       "       '2011-12-01T00:00:00.000000000', '2012-12-01T00:00:00.000000000',\n",
       "       '2013-12-01T00:00:00.000000000', '2014-12-01T00:00:00.000000000',\n",
       "       '2015-12-01T00:00:00.000000000', '2016-12-01T00:00:00.000000000',\n",
       "       '2017-12-01T00:00:00.000000000'], dtype='datetime64[ns]')"
      ]
     },
     "execution_count": 104,
     "metadata": {},
     "output_type": "execute_result"
    }
   ],
   "source": [
    "x5"
   ]
  },
  {
   "cell_type": "code",
   "execution_count": 105,
   "metadata": {},
   "outputs": [
    {
     "data": {
      "text/plain": [
       "{'1976-1985': array(['1976-12-01T00:00:00.000000000', '1977-12-01T00:00:00.000000000',\n",
       "        '1978-12-01T00:00:00.000000000', '1979-12-01T00:00:00.000000000',\n",
       "        '1980-12-01T00:00:00.000000000', '1981-12-01T00:00:00.000000000',\n",
       "        '1982-12-01T00:00:00.000000000', '1983-12-01T00:00:00.000000000',\n",
       "        '1984-12-01T00:00:00.000000000', '1985-12-01T00:00:00.000000000'],\n",
       "       dtype='datetime64[ns]'),\n",
       " '1980-1990': array(['1980-12-01T00:00:00.000000000', '1981-12-01T00:00:00.000000000',\n",
       "        '1982-12-01T00:00:00.000000000', '1983-12-01T00:00:00.000000000',\n",
       "        '1984-12-01T00:00:00.000000000', '1985-12-01T00:00:00.000000000',\n",
       "        '1986-12-01T00:00:00.000000000', '1987-12-01T00:00:00.000000000',\n",
       "        '1988-12-01T00:00:00.000000000', '1989-12-01T00:00:00.000000000',\n",
       "        '1990-12-01T00:00:00.000000000'], dtype='datetime64[ns]'),\n",
       " '1990-2000': array(['1990-12-01T00:00:00.000000000', '1991-12-01T00:00:00.000000000',\n",
       "        '1992-12-01T00:00:00.000000000', '1993-12-01T00:00:00.000000000',\n",
       "        '1994-12-01T00:00:00.000000000', '1995-12-01T00:00:00.000000000',\n",
       "        '1996-12-01T00:00:00.000000000', '1997-12-01T00:00:00.000000000',\n",
       "        '1998-12-01T00:00:00.000000000', '1999-12-01T00:00:00.000000000',\n",
       "        '2000-12-01T00:00:00.000000000'], dtype='datetime64[ns]'),\n",
       " '2000-2010': array(['2000-12-01T00:00:00.000000000', '2001-12-01T00:00:00.000000000',\n",
       "        '2002-12-01T00:00:00.000000000', '2003-12-01T00:00:00.000000000',\n",
       "        '2004-12-01T00:00:00.000000000', '2005-12-01T00:00:00.000000000',\n",
       "        '2006-12-01T00:00:00.000000000', '2007-12-01T00:00:00.000000000',\n",
       "        '2008-12-01T00:00:00.000000000', '2009-12-01T00:00:00.000000000',\n",
       "        '2010-12-01T00:00:00.000000000'], dtype='datetime64[ns]'),\n",
       " '2007-2017': array(['2007-12-01T00:00:00.000000000', '2008-12-01T00:00:00.000000000',\n",
       "        '2009-12-01T00:00:00.000000000', '2010-12-01T00:00:00.000000000',\n",
       "        '2011-12-01T00:00:00.000000000', '2012-12-01T00:00:00.000000000',\n",
       "        '2013-12-01T00:00:00.000000000', '2014-12-01T00:00:00.000000000',\n",
       "        '2015-12-01T00:00:00.000000000', '2016-12-01T00:00:00.000000000',\n",
       "        '2017-12-01T00:00:00.000000000'], dtype='datetime64[ns]')}"
      ]
     },
     "execution_count": 105,
     "metadata": {},
     "output_type": "execute_result"
    }
   ],
   "source": [
    "JENA_s76_time = {'1976-1985': x1, '1980-1990': x2, '1990-2000': x3, '2000-2010':x4, '2007-2017':x5}\n",
    "JENA_s76_time"
   ]
  },
  {
   "cell_type": "code",
   "execution_count": 106,
   "metadata": {},
   "outputs": [],
   "source": [
    "pickle.dump(JENA_s76_time, open('./../Scripts/lin_reg_times/JENA_s76_lrtime.pik', 'wb'))"
   ]
  },
  {
   "cell_type": "code",
   "execution_count": 107,
   "metadata": {},
   "outputs": [],
   "source": [
    "fJENA_s85 = open('./../Output/output_raw/output_all/JENA_s85_all/year.pik', 'rb')\n",
    "JENA_s85 = pickle.load(fJENA_s85)\n",
    "JENA_s85 = invf.Analysis(JENA_s85)"
   ]
  },
  {
   "cell_type": "code",
   "execution_count": 108,
   "metadata": {},
   "outputs": [
    {
     "data": {
      "text/plain": [
       "<xarray.Dataset>\n",
       "Dimensions:         (time: 33)\n",
       "Coordinates:\n",
       "  * time            (time) datetime64[ns] 1985-12-01 1986-12-01 ... 2017-12-01\n",
       "Data variables:\n",
       "    Earth_Land      (time) float64 -0.906 -1.275 0.5586 ... -1.617 -1.352 -3.108\n",
       "    South_Land      (time) float64 0.2762 0.2733 0.4753 ... 0.1708 0.01879\n",
       "    Tropical_Land   (time) float64 0.6037 0.06639 1.355 ... 0.4385 0.795 -0.4044\n",
       "    North_Land      (time) float64 -1.786 -1.615 -1.271 ... -2.263 -2.317 -2.722\n",
       "    Earth_Ocean     (time) float64 -1.451 -1.586 -1.357 ... -1.999 -2.15 -2.487\n",
       "    South_Ocean     (time) float64 -1.184 -1.166 -0.9849 ... -1.569 -1.777\n",
       "    Tropical_Ocean  (time) float64 0.7042 0.5695 0.6967 ... 0.4912 0.4836 0.3375\n",
       "    North_Ocean     (time) float64 -0.9712 -0.9888 -1.068 ... -1.065 -1.048"
      ]
     },
     "execution_count": 108,
     "metadata": {},
     "output_type": "execute_result"
    }
   ],
   "source": [
    "JENA_s85 = invf.Analysis(JENA_s85.cftime_to_datetime())\n",
    "JENA_s85.data"
   ]
  },
  {
   "cell_type": "code",
   "execution_count": 118,
   "metadata": {},
   "outputs": [],
   "source": [
    "x1=JENA_s85.data['time'].values[0:11]\n",
    "x2=JENA_s85.data['time'].values[5:16]\n",
    "x3=JENA_s85.data['time'].values[15:26]\n",
    "x4=JENA_s85.data['time'].values[22:33]"
   ]
  },
  {
   "cell_type": "code",
   "execution_count": 122,
   "metadata": {},
   "outputs": [
    {
     "data": {
      "text/plain": [
       "array(['2007-12-01T00:00:00.000000000', '2008-12-01T00:00:00.000000000',\n",
       "       '2009-12-01T00:00:00.000000000', '2010-12-01T00:00:00.000000000',\n",
       "       '2011-12-01T00:00:00.000000000', '2012-12-01T00:00:00.000000000',\n",
       "       '2013-12-01T00:00:00.000000000', '2014-12-01T00:00:00.000000000',\n",
       "       '2015-12-01T00:00:00.000000000', '2016-12-01T00:00:00.000000000',\n",
       "       '2017-12-01T00:00:00.000000000'], dtype='datetime64[ns]')"
      ]
     },
     "execution_count": 122,
     "metadata": {},
     "output_type": "execute_result"
    }
   ],
   "source": [
    "x4"
   ]
  },
  {
   "cell_type": "code",
   "execution_count": 123,
   "metadata": {},
   "outputs": [
    {
     "data": {
      "text/plain": [
       "{'1985-1995': array(['1985-12-01T00:00:00.000000000', '1986-12-01T00:00:00.000000000',\n",
       "        '1987-12-01T00:00:00.000000000', '1988-12-01T00:00:00.000000000',\n",
       "        '1989-12-01T00:00:00.000000000', '1990-12-01T00:00:00.000000000',\n",
       "        '1991-12-01T00:00:00.000000000', '1992-12-01T00:00:00.000000000',\n",
       "        '1993-12-01T00:00:00.000000000', '1994-12-01T00:00:00.000000000',\n",
       "        '1995-12-01T00:00:00.000000000'], dtype='datetime64[ns]'),\n",
       " '1990-2000': array(['1990-12-01T00:00:00.000000000', '1991-12-01T00:00:00.000000000',\n",
       "        '1992-12-01T00:00:00.000000000', '1993-12-01T00:00:00.000000000',\n",
       "        '1994-12-01T00:00:00.000000000', '1995-12-01T00:00:00.000000000',\n",
       "        '1996-12-01T00:00:00.000000000', '1997-12-01T00:00:00.000000000',\n",
       "        '1998-12-01T00:00:00.000000000', '1999-12-01T00:00:00.000000000',\n",
       "        '2000-12-01T00:00:00.000000000'], dtype='datetime64[ns]'),\n",
       " '2000-2010': array(['2000-12-01T00:00:00.000000000', '2001-12-01T00:00:00.000000000',\n",
       "        '2002-12-01T00:00:00.000000000', '2003-12-01T00:00:00.000000000',\n",
       "        '2004-12-01T00:00:00.000000000', '2005-12-01T00:00:00.000000000',\n",
       "        '2006-12-01T00:00:00.000000000', '2007-12-01T00:00:00.000000000',\n",
       "        '2008-12-01T00:00:00.000000000', '2009-12-01T00:00:00.000000000',\n",
       "        '2010-12-01T00:00:00.000000000'], dtype='datetime64[ns]'),\n",
       " '2007-2017': array(['2007-12-01T00:00:00.000000000', '2008-12-01T00:00:00.000000000',\n",
       "        '2009-12-01T00:00:00.000000000', '2010-12-01T00:00:00.000000000',\n",
       "        '2011-12-01T00:00:00.000000000', '2012-12-01T00:00:00.000000000',\n",
       "        '2013-12-01T00:00:00.000000000', '2014-12-01T00:00:00.000000000',\n",
       "        '2015-12-01T00:00:00.000000000', '2016-12-01T00:00:00.000000000',\n",
       "        '2017-12-01T00:00:00.000000000'], dtype='datetime64[ns]')}"
      ]
     },
     "execution_count": 123,
     "metadata": {},
     "output_type": "execute_result"
    }
   ],
   "source": [
    "JENA_s85_time = {'1985-1995': x1, '1990-2000': x2, '2000-2010':x3, '2007-2017':x4}\n",
    "JENA_s85_time"
   ]
  },
  {
   "cell_type": "code",
   "execution_count": 124,
   "metadata": {},
   "outputs": [],
   "source": [
    "pickle.dump(JENA_s85_time, open('./../Scripts/lin_reg_times/JENA_s85_lrtime.pik', 'wb'))"
   ]
  },
  {
   "cell_type": "markdown",
   "metadata": {},
   "source": [
    "# Regression of Friedlingstein feedback eqn"
   ]
  },
  {
   "cell_type": "markdown",
   "metadata": {},
   "source": [
    "dU = beta * dC + gamma * dT\n",
    "\n",
    "regress -dU against dT, slope = gamma and intercept = beta * dC\n",
    "\n",
    "Caveats:"
   ]
  },
  {
   "cell_type": "code",
   "execution_count": null,
   "metadata": {},
   "outputs": [],
   "source": []
  }
 ],
 "metadata": {
  "kernelspec": {
   "display_name": "Python 3",
   "language": "python",
   "name": "python3"
  },
  "language_info": {
   "codemirror_mode": {
    "name": "ipython",
    "version": 3
   },
   "file_extension": ".py",
   "mimetype": "text/x-python",
   "name": "python",
   "nbconvert_exporter": "python",
   "pygments_lexer": "ipython3",
   "version": "3.7.6"
  },
  "toc": {
   "base_numbering": 1,
   "nav_menu": {},
   "number_sections": true,
   "sideBar": true,
   "skip_h1_title": false,
   "title_cell": "Table of Contents",
   "title_sidebar": "Contents",
   "toc_cell": false,
   "toc_position": {
    "height": "calc(100% - 180px)",
    "left": "10px",
    "top": "150px",
    "width": "165px"
   },
   "toc_section_display": true,
   "toc_window_display": true
  }
 },
 "nbformat": 4,
 "nbformat_minor": 2
}
